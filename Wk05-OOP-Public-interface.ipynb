{
 "cells": [
  {
   "cell_type": "markdown",
   "metadata": {},
   "source": [
    "# Week 5 - Crafting the public interface. \n",
    "\n",
    "## Learning Objectives\n",
    "\n",
    "* Explain what a public interface is\n",
    "* Discuss the advantages of defining a public interface\n",
    "* Compare different public interfaces\n",
    "* Design a simple public interface"
   ]
  },
  {
   "cell_type": "markdown",
   "metadata": {
    "collapsed": true
   },
   "source": [
    "##Inheritance\n",
    "\n",
    "Last week we looked at inheritance, building a general class that we could then extend with additional functionality for special situations. \n",
    "\n",
    "Each of the classes we create inheriting from our general class can be thought of as having a 'is-a' relationship with the general class. For example, looking at our Item example from last week Equipment __is a__ Item, Consumable __is a__ Item."
   ]
  },
  {
   "cell_type": "code",
   "execution_count": null,
   "metadata": {
    "collapsed": true
   },
   "outputs": [],
   "source": [
    "class Item(object):\n",
    "    \n",
    "    \n",
    "    def __init__(self, name, description, location):\n",
    "        self.name = name\n",
    "        self.description = description\n",
    "        self.location = location\n",
    "        \n",
    "        \n",
    "    def update_location(self, new_location):\n",
    "        pass\n",
    "\n",
    "class Equipment(Item):\n",
    "    pass\n",
    "\n",
    "class Consumable(Item):\n",
    "    \n",
    "    \n",
    "    def __init__(self, name, description, location, initial_quantity, current_quantity, storage_temp, flammability):\n",
    "        self.name = name\n",
    "        self.description = description\n",
    "        self.location = location\n",
    "        self.initial_quantity = initial_quantity\n",
    "        self.current_quantity = current_quantity\n",
    "        self.flammability = flammability\n",
    "        \n",
    "        \n",
    "    def update_quantity_remaining(self, amount):\n",
    "        pass"
   ]
  },
  {
   "cell_type": "markdown",
   "metadata": {},
   "source": [
    "##Composition\n",
    "\n",
    "In week 3 we took example projects and broke them down into a collection of different classes. Many of you chose the cookbook example for the assignment and questioned whether things like ingredients should be attributes on the recipe class or classes in their own right. Often the answer is both. These are the interactions that change a collection of different classes into a functioning program. This is called composition. The Recipe object is a composite object, it __has__ ingredients, it __has__ instructions, etc."
   ]
  },
  {
   "cell_type": "markdown",
   "metadata": {},
   "source": [
    "This week we will look at how we can design our classes to be easy to use, for both programmer-class and class-class interactions."
   ]
  },
  {
   "cell_type": "code",
   "execution_count": 11,
   "metadata": {
    "collapsed": false
   },
   "outputs": [
    {
     "name": "stdout",
     "output_type": "stream",
     "text": [
      "[(820, <__main__.Ingredient object at 0x7f5490ed5860>), (30, <__main__.Ingredient object at 0x7f5490ed50f0>), (36, <__main__.Ingredient object at 0x7f5490ec5c50>), (7, <__main__.Ingredient object at 0x7f5490ec5780>), (560, <__main__.Ingredient object at 0x7f5490ec5908>)]\n",
      "[669.5875, 85.5, 38.6375]\n"
     ]
    }
   ],
   "source": [
    "class Ingredient(object):\n",
    "    \"\"\"The ingredient object that contains nutritional information\"\"\"\n",
    "    \n",
    "    def __init__(self, name, carbs, protein, fat):\n",
    "        self.name = name\n",
    "        self.carbs = carbs\n",
    "        self.protein = protein\n",
    "        self.fat = fat\n",
    "        \n",
    "    \n",
    "    def get_nutrition(self):\n",
    "        \"\"\"Returns the nutritional information for the ingredient\"\"\"\n",
    "        return (self.carbs, self.protein, self.fat)\n",
    "    \n",
    "\n",
    "class Recipe(object):\n",
    "    \"\"\"The Recipe object containing the ingredients\"\"\"\n",
    "    \n",
    "    def __init__(self, name, ingredients):\n",
    "        self.name = name\n",
    "        self.ingredients = ingredients\n",
    "        \n",
    "        \n",
    "    def get_nutrition(self):\n",
    "        \"\"\"Returns the nutritional information for the recipe\"\"\"\n",
    "        nutrition = [0, 0, 0]\n",
    "        for amount, ingredient in self.ingredients:\n",
    "            nutrition[0] += amount * ingredient.carbs\n",
    "            nutrition[1] += amount * ingredient.protein\n",
    "            nutrition[2] += amount * ingredient.fat\n",
    "        return nutrition\n",
    "    \n",
    "\n",
    "bread = Recipe('Bread', [(820, Ingredient('Flour', 0.77, 0.10, 0.01)), \n",
    "                         (30, Ingredient('Oil', 0, 0, 1)), \n",
    "                         (36, Ingredient('Sugar', 1, 0, 0)), \n",
    "                         (7, Ingredient('Yeast', 0.3125, 0.5, 0.0625)),\n",
    "                         (560, Ingredient('Water', 0, 0, 0))])\n",
    "print(bread.ingredients)\n",
    "print(bread.get_nutrition())"
   ]
  },
  {
   "cell_type": "markdown",
   "metadata": {},
   "source": [
    "This has the basic functionality implemented but there are some improvements we can make. \n",
    "\n",
    "Before we look at making changes we can seek inspiration. [Requests](http://docs.python-requests.org/en/master/#) and [Pandas](http://pandas.pydata.org/) are two packages well regarded for having well implemented interfaces."
   ]
  },
  {
   "cell_type": "markdown",
   "metadata": {},
   "source": [
    "##Requests: HTTP for Humans\n",
    "\n",
    "Requests is a package used for making HTTP requests. There are options in the python standard library for making http requests but they can seem difficult to use. "
   ]
  },
  {
   "cell_type": "code",
   "execution_count": 27,
   "metadata": {
    "collapsed": true
   },
   "outputs": [],
   "source": [
    "import requests"
   ]
  },
  {
   "cell_type": "code",
   "execution_count": 29,
   "metadata": {
    "collapsed": false
   },
   "outputs": [
    {
     "name": "stdout",
     "output_type": "stream",
     "text": [
      "200\n",
      "application/json; charset=utf-8\n"
     ]
    }
   ],
   "source": [
    "r = requests.get('https://api.github.com/repos/streety/biof509/events')\n",
    "print(r.status_code)\n",
    "print(r.headers['content-type'])"
   ]
  },
  {
   "cell_type": "code",
   "execution_count": 42,
   "metadata": {
    "collapsed": false
   },
   "outputs": [
    {
     "name": "stdout",
     "output_type": "stream",
     "text": [
      "[{\"id\":\"3689166649\",\"type\":\"PushEvent\",\"actor\":{\"id\":736229,\"login\":\"streety\",\"gravatar_id\":\"\",\"url\":\"https://api.github.com/users/streety\",\"avatar_url\":\"https://avatars.githubusercontent.com/u/736229?\"},\"repo\":{\"id\":50923925,\"name\":\"streety/biof509\",\"url\":\"https://api.github.com/repos/streety/biof509\"},\"payload\":{\"push_id\":993700103,\"size\":1,\"distinct_size\":1,\"ref\":\"refs/heads/gh-pages\",\"head\":\"0f92b281b89cf4249b2bfbe07d349cef4d8e454a\",\"before\":\"37b6165404f66d34805b27b1f65bb071bfa79d57\",\"commits\":[{\"sha\":\"0f92b281b89cf4249b2bfbe07d349cef4d8e454a\",\"author\":{\"email\":\"jonathan@jonathanstreet.com\",\"name\":\"Jonathan Street\"},\"message\":\"Added week 4 material\",\"distinct\":true,\"url\":\"https://api.github.com/repos/streety/biof509/commits/0f92b281b89cf4249b2bfbe07d349cef4d8e454a\"}]},\"public\":true,\"created_at\":\"2016-02-25T15:36:20Z\"},{\"id\":\"3689166625\",\"type\":\"PushEvent\",\"actor\":{\"id\":736229,\"login\":\"streety\",\"gravatar_id\":\"\",\"url\":\"https://api.github.com/users/streety\",\"avatar_url\":\"https://avata\n"
     ]
    }
   ],
   "source": [
    "print(r.text[:1000])"
   ]
  },
  {
   "cell_type": "code",
   "execution_count": 41,
   "metadata": {
    "collapsed": false
   },
   "outputs": [
    {
     "name": "stdout",
     "output_type": "stream",
     "text": [
      "Added week 4 material\n"
     ]
    }
   ],
   "source": [
    "print(r.json()[0]['payload']['commits'][0]['message'])"
   ]
  },
  {
   "cell_type": "code",
   "execution_count": 43,
   "metadata": {
    "collapsed": false
   },
   "outputs": [
    {
     "data": {
      "text/plain": [
       "requests.models.Response"
      ]
     },
     "execution_count": 43,
     "metadata": {},
     "output_type": "execute_result"
    }
   ],
   "source": [
    "type(r)"
   ]
  },
  {
   "cell_type": "markdown",
   "metadata": {},
   "source": [
    "[The API documentation for requests](http://docs.python-requests.org/en/master/api/)\n",
    "\n",
    "[The Response class](https://github.com/kennethreitz/requests/blob/master/requests/models.py#L528)\n",
    "\n",
    "Some useful features:\n",
    "\n",
    "* [property](https://github.com/kennethreitz/requests/blob/master/requests/models.py#L620)\n"
   ]
  },
  {
   "cell_type": "markdown",
   "metadata": {},
   "source": [
    "##Pandas\n",
    "\n",
    "    pandas is an open source, BSD-licensed library providing high-performance, easy-to-use data structures and \n",
    "    data analysis tools for the Python programming language."
   ]
  },
  {
   "cell_type": "code",
   "execution_count": 15,
   "metadata": {
    "collapsed": true
   },
   "outputs": [],
   "source": [
    "import pandas as pd"
   ]
  },
  {
   "cell_type": "code",
   "execution_count": 18,
   "metadata": {
    "collapsed": false
   },
   "outputs": [
    {
     "data": {
      "text/html": [
       "<div>\n",
       "<table border=\"1\" class=\"dataframe\">\n",
       "  <thead>\n",
       "    <tr style=\"text-align: right;\">\n",
       "      <th></th>\n",
       "      <th>col1</th>\n",
       "      <th>col2</th>\n",
       "      <th>col3</th>\n",
       "      <th>col4</th>\n",
       "    </tr>\n",
       "  </thead>\n",
       "  <tbody>\n",
       "    <tr>\n",
       "      <th>a</th>\n",
       "      <td>0</td>\n",
       "      <td>1</td>\n",
       "      <td>2</td>\n",
       "      <td>3</td>\n",
       "    </tr>\n",
       "    <tr>\n",
       "      <th>b</th>\n",
       "      <td>4</td>\n",
       "      <td>5</td>\n",
       "      <td>6</td>\n",
       "      <td>7</td>\n",
       "    </tr>\n",
       "    <tr>\n",
       "      <th>c</th>\n",
       "      <td>8</td>\n",
       "      <td>9</td>\n",
       "      <td>10</td>\n",
       "      <td>11</td>\n",
       "    </tr>\n",
       "  </tbody>\n",
       "</table>\n",
       "</div>"
      ],
      "text/plain": [
       "   col1  col2  col3  col4\n",
       "a     0     1     2     3\n",
       "b     4     5     6     7\n",
       "c     8     9    10    11"
      ]
     },
     "execution_count": 18,
     "metadata": {},
     "output_type": "execute_result"
    }
   ],
   "source": [
    "data = pd.DataFrame([[0,1,2,3], [4,5,6,7], [8,9,10,11]], index=['a', 'b', 'c'], columns=['col1', 'col2', 'col3', 'col4'])\n",
    "data"
   ]
  },
  {
   "cell_type": "code",
   "execution_count": 26,
   "metadata": {
    "collapsed": false
   },
   "outputs": [
    {
     "name": "stdout",
     "output_type": "stream",
     "text": [
      "(3, 4)\n"
     ]
    }
   ],
   "source": [
    "print(data.shape)"
   ]
  },
  {
   "cell_type": "code",
   "execution_count": 22,
   "metadata": {
    "collapsed": false
   },
   "outputs": [
    {
     "name": "stdout",
     "output_type": "stream",
     "text": [
      "a    0\n",
      "b    4\n",
      "c    8\n",
      "Name: col1, dtype: int64\n",
      "a    0\n",
      "b    4\n",
      "c    8\n",
      "Name: col1, dtype: int64\n"
     ]
    }
   ],
   "source": [
    "print(data['col1'])\n",
    "print(data.col1)"
   ]
  },
  {
   "cell_type": "code",
   "execution_count": 21,
   "metadata": {
    "collapsed": false
   },
   "outputs": [
    {
     "data": {
      "text/plain": [
       "<matplotlib.axes._subplots.AxesSubplot at 0x7f54601126a0>"
      ]
     },
     "execution_count": 21,
     "metadata": {},
     "output_type": "execute_result"
    },
    {
     "data": {
      "image/png": "[encoded data removed]",
      "text/plain": [
       "<matplotlib.figure.Figure at 0x7f546010ec18>"
      ]
     },
     "metadata": {},
     "output_type": "display_data"
    }
   ],
   "source": [
    "import matplotlib.pyplot as plt\n",
    "\n",
    "%matplotlib inline\n",
    "\n",
    "data.plot()"
   ]
  },
  {
   "cell_type": "code",
   "execution_count": 25,
   "metadata": {
    "collapsed": false
   },
   "outputs": [
    {
     "name": "stdout",
     "output_type": "stream",
     "text": [
      "   col1  col2  col3  col4\n",
      "a     0     1     2     3\n",
      "b     4     5     6     7\n",
      "c     8     9    10    11\n"
     ]
    }
   ],
   "source": [
    "data.to_csv('Wk05-temp.csv')\n",
    "\n",
    "data2 = pd.read_csv('Wk05-temp.csv', index_col=0)\n",
    "print(data2)"
   ]
  },
  {
   "cell_type": "markdown",
   "metadata": {},
   "source": [
    "[The API documentation for the DataFrame object](http://pandas.pydata.org/pandas-docs/stable/generated/pandas.DataFrame.html#pandas.DataFrame).\n",
    "\n",
    "[The actual code](https://github.com/pydata/pandas/blob/master/pandas/core/frame.py).\n",
    "\n",
    "Some useful features:\n",
    "* [classmethod](https://github.com/pydata/pandas/blob/master/pandas/core/frame.py#L1131)\n",
    "* [property](https://github.com/pydata/pandas/blob/master/pandas/core/frame.py#L441)\n",
    "* [`__getitem__`](https://github.com/pydata/pandas/blob/master/pandas/core/frame.py#L1968)\n",
    "* [Public and private attributes/methods](https://github.com/pydata/pandas/blob/master/pandas/core/frame.py#L1993)\n",
    "* [`__getattr__`](https://github.com/pydata/pandas/blob/master/pandas/core/generic.py#L2651)"
   ]
  },
  {
   "cell_type": "code",
   "execution_count": null,
   "metadata": {
    "collapsed": true
   },
   "outputs": [],
   "source": []
  },
  {
   "cell_type": "code",
   "execution_count": null,
   "metadata": {
    "collapsed": true
   },
   "outputs": [],
   "source": []
  },
  {
   "cell_type": "markdown",
   "metadata": {},
   "source": [
    "##Cookbook\n",
    "\n",
    "We can now return to our cookbook example.\n",
    "\n",
    "Displaying the ingredients needs to be improved."
   ]
  },
  {
   "cell_type": "code",
   "execution_count": 13,
   "metadata": {
    "collapsed": false
   },
   "outputs": [
    {
     "name": "stdout",
     "output_type": "stream",
     "text": [
      "[(820, Ingredient(Flour, 0.77, 0.1, 0.01)), (30, Ingredient(Oil, 0, 0, 1)), (36, Ingredient(Sugar, 1, 0, 0)), (7, Ingredient(Yeast, 0.3125, 0.5, 0.0625)), (560, Ingredient(Water, 0, 0, 0))]\n",
      "[669.5875, 85.5, 38.6375]\n"
     ]
    }
   ],
   "source": [
    "class Ingredient(object):\n",
    "    \"\"\"The ingredient object that contains nutritional information\"\"\"\n",
    "    \n",
    "    def __init__(self, name, carbs, protein, fat):\n",
    "        self.name = name\n",
    "        self.carbs = carbs\n",
    "        self.protein = protein\n",
    "        self.fat = fat\n",
    "        \n",
    "    \n",
    "    def __repr__(self):\n",
    "        return 'Ingredient({0}, {1}, {2}, {3})'.format(self.name, self.carbs, self.protein, self.fat)\n",
    "    \n",
    "    \n",
    "    def get_nutrition(self):\n",
    "        \"\"\"Returns the nutritional information for the ingredient\"\"\"\n",
    "        return (self.carbs, self.protein, self.fat)\n",
    "    \n",
    "\n",
    "class Recipe(object):\n",
    "    \"\"\"The Recipe object containing the ingredients\"\"\"\n",
    "    \n",
    "    def __init__(self, name, ingredients):\n",
    "        self.name = name\n",
    "        self.ingredients = ingredients\n",
    "        \n",
    "        \n",
    "    def get_nutrition(self):\n",
    "        \"\"\"Returns the nutritional information for the recipe\"\"\"\n",
    "        nutrition = [0, 0, 0]\n",
    "        for amount, ingredient in self.ingredients:\n",
    "            nutrition[0] += amount * ingredient.carbs\n",
    "            nutrition[1] += amount * ingredient.protein\n",
    "            nutrition[2] += amount * ingredient.fat\n",
    "        return nutrition\n",
    "    \n",
    "\n",
    "bread = Recipe('Bread', [(820, Ingredient('Flour', 0.77, 0.10, 0.01)), \n",
    "                         (30, Ingredient('Oil', 0, 0, 1)), \n",
    "                         (36, Ingredient('Sugar', 1, 0, 0)), \n",
    "                         (7, Ingredient('Yeast', 0.3125, 0.5, 0.0625)),\n",
    "                         (560, Ingredient('Water', 0, 0, 0))])\n",
    "print(bread.ingredients)\n",
    "print(bread.get_nutrition())"
   ]
  },
  {
   "cell_type": "markdown",
   "metadata": {},
   "source": [
    "Viewing the ingredients now looks much better. Let's now look at the get_nutrition method.\n",
    "\n",
    "There are still a number of areas that could be improved\n",
    "\n",
    "* When we call get_nutrition it is not clear what the different values returned actually are\n",
    "* We don't use the get_nutrition method when calculating the nutrition values in the Recipe class\n",
    "* There is no way to add additional types of nutrient\n",
    "* Ingredient and Recipe return different types from get_nutrition, tuple and list respectively\n",
    "* Recipe could not be used as an ingredient for another Recipe"
   ]
  },
  {
   "cell_type": "code",
   "execution_count": null,
   "metadata": {
    "collapsed": true
   },
   "outputs": [],
   "source": [
    "class Ingredient(object):\n",
    "    \"\"\"The ingredient object that contains nutritional information\"\"\"\n",
    "    \n",
    "    def __init__(self, name, carbs, protein, fat):\n",
    "        self.name = name\n",
    "        self.carbs = carbs\n",
    "        self.protein = protein\n",
    "        self.fat = fat\n",
    "        \n",
    "    \n",
    "    def __repr__(self):\n",
    "        return 'Ingredient({0}, {1}, {2}, {3})'.format(self.name, self.carbs, self.protein, self.fat)\n",
    "    \n",
    "    \n",
    "    def get_nutrition(self):\n",
    "        \"\"\"Returns the nutritional information for the ingredient\"\"\"\n",
    "        return (self.carbs, self.protein, self.fat)\n",
    "    \n",
    "\n",
    "class Recipe(object):\n",
    "    \"\"\"The Recipe object containing the ingredients\"\"\"\n",
    "    \n",
    "    def __init__(self, name, ingredients):\n",
    "        self.name = name\n",
    "        self.ingredients = ingredients\n",
    "        \n",
    "        \n",
    "    def get_nutrition(self):\n",
    "        \"\"\"Returns the nutritional information for the recipe\"\"\"\n",
    "        nutrition = [0, 0, 0]\n",
    "        for amount, ingredient in self.ingredients:\n",
    "            nutrition[0] += amount * ingredient.carbs\n",
    "            nutrition[1] += amount * ingredient.protein\n",
    "            nutrition[2] += amount * ingredient.fat\n",
    "        return nutrition\n",
    "    \n",
    "\n",
    "bread = Recipe('Bread', [(820, Ingredient('Flour', 0.77, 0.10, 0.01)), \n",
    "                         (30, Ingredient('Oil', 0, 0, 1)), \n",
    "                         (36, Ingredient('Sugar', 1, 0, 0)), \n",
    "                         (7, Ingredient('Yeast', 0.3125, 0.5, 0.0625)),\n",
    "                         (560, Ingredient('Water', 0, 0, 0))])\n",
    "print(bread.ingredients)\n",
    "print(bread.get_nutrition())"
   ]
  },
  {
   "cell_type": "markdown",
   "metadata": {},
   "source": [
    "##WSGI\n",
    "\n",
    "The value of building and documenting a interface to our code is not unique to object oriented programming.\n",
    "\n",
    "Next week we will look at creating websites as an alternative to command line programs and GUIs. Python has a rich ecosystem of web servers and frameworks for creating web applications. Importantly, the vast majority use a common interface called [WSGI](https://www.python.org/dev/peps/pep-0333/). \n",
    "\n",
    "WSGI is based on a simple exchange. The example below use the wsgiref package for the web server with the application implemented without using external packages. Next week, we will look at some of the more commonly used web servers and use a web framework to develop a more substantial web project."
   ]
  },
  {
   "cell_type": "code",
   "execution_count": 44,
   "metadata": {
    "collapsed": false
   },
   "outputs": [
    {
     "name": "stdout",
     "output_type": "stream",
     "text": [
      "from wsgiref.simple_server import make_server\r\n",
      "\r\n",
      "\r\n",
      "def simple_app(environ, start_response):\r\n",
      "    \"\"\"A simple WSGI application\"\"\"\r\n",
      "    status = '200 OK'\r\n",
      "    headers = [('Content-type', 'text/plain; charset=utf-8')]\r\n",
      "\r\n",
      "    start_response(status, headers)\r\n",
      "\r\n",
      "    return [\"Hello World\\n\".encode('utf-8')]\r\n",
      "\r\n",
      "if __name__ == '__main__':\r\n",
      "    httpd = make_server('', 8000, simple_app)\r\n",
      "    print(\"Serving on port 8000...\")\r\n",
      "    httpd.serve_forever()\r\n"
     ]
    }
   ],
   "source": [
    "!cat Wk05-wsgi.py"
   ]
  },
  {
   "cell_type": "markdown",
   "metadata": {},
   "source": [
    "##Assignments\n",
    "\n",
    "Modify the Ingredient and Recipe classes so that the following code works.\n",
    "\n"
   ]
  },
  {
   "cell_type": "code",
   "execution_count": null,
   "metadata": {
    "collapsed": true
   },
   "outputs": [],
   "source": [
    "class Ingredient(object):\n",
    "    \"\"\"The ingredient object that contains nutritional information\"\"\"\n",
    "    \n",
    "    def __init__(self, name, carbs, protein, fat):\n",
    "        self.name = name\n",
    "        self.carbs = carbs\n",
    "        self.protein = protein\n",
    "        self.fat = fat\n",
    "        \n",
    "    \n",
    "    def __repr__(self):\n",
    "        return 'Ingredient({0}, {1}, {2}, {3})'.format(self.name, self.carbs, self.protein, self.fat)\n",
    "    \n",
    "    \n",
    "    def get_nutrition(self):\n",
    "        \"\"\"Returns the nutritional information for the ingredient\"\"\"\n",
    "        return (self.carbs, self.protein, self.fat)\n",
    "    \n",
    "\n",
    "class Recipe(object):\n",
    "    \"\"\"The Recipe object containing the ingredients\"\"\"\n",
    "    \n",
    "    def __init__(self, name, ingredients):\n",
    "        self.name = name\n",
    "        self.ingredients = ingredients\n",
    "        \n",
    "        \n",
    "    def get_nutrition(self):\n",
    "        \"\"\"Returns the nutritional information for the recipe\"\"\"\n",
    "        nutrition = [0, 0, 0]\n",
    "        for amount, ingredient in self.ingredients:\n",
    "            nutrition[0] += amount * ingredient.carbs\n",
    "            nutrition[1] += amount * ingredient.protein\n",
    "            nutrition[2] += amount * ingredient.fat\n",
    "        return nutrition"
   ]
  },
  {
   "cell_type": "code",
   "execution_count": null,
   "metadata": {
    "collapsed": true
   },
   "outputs": [],
   "source": [
    "bread = Recipe('Bread', [(820, Ingredient('Flour', 0.77, 0.10, 0.01)), \n",
    "                         (30, Ingredient('Oil', 0, 0, 1)), \n",
    "                         (36, Ingredient('Sugar', 1, 0, 0)), \n",
    "                         (7, Ingredient('Yeast', 0.3125, 0.5, 0.0625)),\n",
    "                         (560, Ingredient('Water', 0, 0, 0))])\n",
    "print(bread.ingredients)\n",
    "# Should be roughly [(820, Ingredient(Flour, 0.77, 0.1, 0.01)), (30, Ingredient(Oil, 0, 0, 1)), \n",
    "# (36, Ingredient(Sugar, 1, 0, 0)), (7, Ingredient(Yeast, 0.3125, 0.5, 0.0625)), (560, Ingredient(Water, 0, 0, 0))]\n",
    "\n",
    "print(bread.nutrition)\n",
    "#Should be roughly {'carbs': 669.5875, 'protein': 85.5, 'fat': 38.6375} the order is not important\n",
    "\n",
    "#Points to note:\n",
    "# - The different call to Ingredient, you can use isinstance or type to change the \n",
    "#   behaviour depending on the arguments supplied\n",
    "# - Cholesterol as an extra nutrient, your implementation should accept any nutrient\n",
    "# - Use of Recipe (bread) as an ingredient\n",
    "basic_french_toast = Recipe('Basic French Toast', [(300, Ingredient('Egg', {'carbs': 0.0077, 'protein': 0.1258, \n",
    "                                                                            'fat': 0.0994, 'cholesterol': 0.00423})), \n",
    "                                                  (0.25, bread)])\n",
    "print(basic_french_toast.ingredients)\n",
    "# Should be roughly:\n",
    "# [(300, Ingredient(Egg, 0.0077, 0.1258, 0.0994)), (0.25, Recipe(Bread, [(820, Ingredient(Flour, 0.77, 0.1, 0.01)), \n",
    "# (30, Ingredient(Oil, 0, 0, 1)), (36, Ingredient(Sugar, 1, 0, 0)), (7, Ingredient(Yeast, 0.3125, 0.5, 0.0625)), \n",
    "# (560, Ingredient(Water, 0, 0, 0))]))]\n",
    "# Note the formatting for the Recipe object, a __repr__ method will be needed\n",
    "\n",
    "print(basic_french_toast.nutrition)\n",
    "# Should be roughly {'protein': 59.115, 'carbs': 169.706875, 'cholesterol': 1.2690000000000001, 'fat': 39.479375000000005}\n",
    "# The order is not important"
   ]
  }
 ],
 "metadata": {
  "kernelspec": {
   "display_name": "Python 3",
   "language": "python",
   "name": "python3"
  },
  "language_info": {
   "codemirror_mode": {
    "name": "ipython",
    "version": 3
   },
   "file_extension": ".py",
   "mimetype": "text/x-python",
   "name": "python",
   "nbconvert_exporter": "python",
   "pygments_lexer": "ipython3",
   "version": "3.4.3"
  }
 },
 "nbformat": 4,
 "nbformat_minor": 0
}
