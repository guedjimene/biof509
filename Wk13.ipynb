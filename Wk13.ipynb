{
 "cells": [
  {
   "cell_type": "markdown",
   "metadata": {},
   "source": [
    "# Week 13 - Project presentations and closing remarks\n",
    "\n",
    "\n",
    "\n",
    "## Local resources\n",
    "\n",
    "### NIH resources\n",
    "https://datascience.nih.gov/community/datascience-at-nih\n",
    "\n",
    "### Local groups\n",
    "\n",
    "- http://www.meetup.com/DCPython/\n",
    "- http://www.meetup.com/django-district/\n",
    "- http://www.datacommunitydc.org/calendar\n",
    "\n",
    "### You\n",
    "\n",
    "Let me know if you are interested in staying in contact with others from the class. I can distribute a list of contact details\n",
    "\n",
    "### Me\n",
    "\n",
    "I'm happy to stay in touch. Email me, or stop by the DCPython project nights, and I'll be glad to help.\n",
    "\n",
    "Even if you don't need help it is good to hear what you go on to do.\n",
    "\n",
    "\n",
    "## Other resources\n",
    "\n",
    "http://www.pythonweekly.com/\n",
    "\n",
    "\n",
    "## What have I missed?\n",
    "\n",
    "Have you found any good resources during the course? Let me know and I can pass them on to everyone else."
   ]
  },
  {
   "cell_type": "markdown",
   "metadata": {},
   "source": [
    "## What we have done\n",
    "\n",
    "\n",
    "1. Create working python programs using the basic features of the python language together with numpy, pandas, and biopython (A brief refresh)\n",
    "2. __Demonstrate the tools commonly used in professional settings to aid development__\n",
    "3. Compare different programming paradigms including procedural, functional and object oriented.\n",
    "4. Define what an object is in the context of programming\n",
    "5. Identify the features of an object definition\n",
    "6. Contrast attributes, properties and methods\n",
    "7. Review special methods\n",
    "8. Design a public interface for a class\n",
    "9. Utilize inheritance and abstraction\n",
    "10. Choose when and how to raise and handle exceptions appropriately\n",
    "11. Describe the common types of machine learning tasks\n",
    "12. Implement a simple linear regression model utilizing numpy\n",
    "13. List the advantages and disadvantages of different machine learning algorithms\n",
    "14. Apply machine learning algorithms for both regression and classification\n",
    "15. Convert a data set into a form suitable for use by machine learning algorithms\n",
    "16. Apply dimensionality reduction to a data set for visualization and further processing\n",
    "17. Identify subpopulations using clustering algorithms\n",
    "18. Choose appropriate model parameters\n",
    "19. Evaluate the results of a machine learning model\n",
    "20. Integrate a machine learning model in a workflow\n"
   ]
  },
  {
   "cell_type": "code",
   "execution_count": null,
   "metadata": {
    "collapsed": true
   },
   "outputs": [],
   "source": []
  }
 ],
 "metadata": {
  "kernelspec": {
   "display_name": "Python 3",
   "language": "python",
   "name": "python3"
  },
  "language_info": {
   "codemirror_mode": {
    "name": "ipython",
    "version": 3
   },
   "file_extension": ".py",
   "mimetype": "text/x-python",
   "name": "python",
   "nbconvert_exporter": "python",
   "pygments_lexer": "ipython3",
   "version": "3.5.2"
  }
 },
 "nbformat": 4,
 "nbformat_minor": 0
}
