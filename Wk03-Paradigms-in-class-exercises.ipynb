{
 "cells": [
  {
   "cell_type": "markdown",
   "metadata": {},
   "source": [
    "# Week 3 - Programming Paradigms\n",
    "\n",
    "## Learning Objectives\n",
    "\n",
    "* List popular programming paradigms\n",
    "* Demonstrate object oriented programming\n",
    "* Compare procedural programming and object oriented programming\n",
    "* Apply object oriented programming to solve sample problems"
   ]
  },
  {
   "cell_type": "markdown",
   "metadata": {
    "collapsed": false
   },
   "source": [
    "Computer programs and the elements they contain can be built in a variety of different ways. Several different styles, or paradigms, exist with differing popularity and usefulness for different tasks.\n",
    "\n",
    "Some programming languages are designed to support a particular paradigm, while other languages support several different paradigms.\n",
    "\n",
    "Three of the most commonly used paradigms are:\n",
    "\n",
    "* Procedural\n",
    "* Object oriented\n",
    "* Functional\n",
    "\n",
    "Python supports each of these paradigms. "
   ]
  },
  {
   "cell_type": "markdown",
   "metadata": {
    "collapsed": true
   },
   "source": [
    "## Procedural"
   ]
  },
  {
   "cell_type": "markdown",
   "metadata": {},
   "source": [
    "You may not have realized it but the procedural programming paradigm is probably the approach you are currently taking with your programs.\n",
    "\n",
    "Programs and functions are simply a series of steps to be performed. \n",
    "\n",
    "For example:"
   ]
  },
  {
   "cell_type": "code",
   "execution_count": 67,
   "metadata": {
    "collapsed": false
   },
   "outputs": [
    {
     "name": "stdout",
     "output_type": "stream",
     "text": [
      "[2, 3, 5, 7, 11, 13, 17, 19, 23, 29, 31, 37, 41, 43, 47, 53, 59, 61, 67, 71, 73, 79, 83, 89, 97]\n"
     ]
    }
   ],
   "source": [
    "primes = []\n",
    "i = 2\n",
    "while len(primes) < 25:\n",
    "    for p in primes:\n",
    "        if i % p == 0:\n",
    "            break\n",
    "    else:\n",
    "        primes.append(i)\n",
    "    i += 1\n",
    "\n",
    "print(primes)"
   ]
  },
  {
   "cell_type": "markdown",
   "metadata": {},
   "source": [
    "## Functional"
   ]
  },
  {
   "cell_type": "markdown",
   "metadata": {
    "collapsed": true
   },
   "source": [
    "Functional programming is based on the evaluation of mathematical functions. This is a more restricted form of function than you may have used previously - mutable data and changing state is avoided. This makes understanding how a program will behave more straightforward.\n",
    "\n",
    "Python does support functional programming although it is not as widely used as procedural and object oriented programming. Some languages better known for supporting functional programming include Lisp, Clojure, Erlang, and Haskell."
   ]
  },
  {
   "cell_type": "markdown",
   "metadata": {},
   "source": [
    "### Functions - Mathematical vs subroutines\n",
    "\n",
    "In the general sense, functions can be thought of as simply wrappers around blocks of code. In this sense they can also be thought of as subroutines. Importantly they can be written to fetch data and change the program state independently of the function arguments.\n",
    "\n",
    "In functional programming the output of a function should depend solely on the function arguments."
   ]
  },
  {
   "cell_type": "markdown",
   "metadata": {},
   "source": [
    "There is an extensive howto in the [python documentation](https://docs.python.org/3.5/howto/functional.html).\n",
    "\n",
    "[This presentation from PyCon US 2013](https://www.youtube.com/watch?v=Ta1bAMOMFOI) is also worth watching.\n",
    "\n",
    "[This presentation from PyGotham 2014](https://www.youtube.com/watch?v=yW0cK3IxlHc) covers decorators specifically."
   ]
  },
  {
   "cell_type": "code",
   "execution_count": 68,
   "metadata": {
    "collapsed": false
   },
   "outputs": [
    {
     "name": "stdout",
     "output_type": "stream",
     "text": [
      "0\n",
      "1\n",
      "2\n",
      "3\n",
      "4\n",
      "Squared from list:\n",
      "[0, 1, 4, 9, 16]\n",
      "Squared from iterable:\n",
      "<generator object <genexpr> at 0x7fa208be2510>\n"
     ]
    }
   ],
   "source": [
    "def square(val):\n",
    "    print(val)\n",
    "    return val ** 2\n",
    "\n",
    "squared_numbers = [square(i) for i in range(5)]\n",
    "print('Squared from list:')\n",
    "print(squared_numbers)\n",
    "\n",
    "squared_numbers = (square(i) for i in range(5))\n",
    "print('Squared from iterable:')\n",
    "print(squared_numbers)"
   ]
  },
  {
   "cell_type": "code",
   "execution_count": 69,
   "metadata": {
    "collapsed": false
   },
   "outputs": [
    {
     "name": "stdout",
     "output_type": "stream",
     "text": [
      "<generator object squared_numbers at 0x7fa208be2510>\n",
      "0\n",
      "1\n",
      "4\n",
      "9\n",
      "16\n",
      "This is only printed after all the numbers output have been consumed\n"
     ]
    }
   ],
   "source": [
    "def squared_numbers(num):\n",
    "    for i in range(num):\n",
    "        yield i ** 2\n",
    "    print('This is only printed after all the numbers output have been consumed')\n",
    "\n",
    "print(squared_numbers(5))\n",
    "for i in squared_numbers(5):\n",
    "    print(i)"
   ]
  },
  {
   "cell_type": "code",
   "execution_count": 1,
   "metadata": {
    "collapsed": false
   },
   "outputs": [
    {
     "data": {
      "text/plain": [
       "15"
      ]
     },
     "execution_count": 1,
     "metadata": {},
     "output_type": "execute_result"
    }
   ],
   "source": [
    "import functools\n",
    "\n",
    "def plus(val, n):\n",
    "    return val + n\n",
    "\n",
    "\n",
    "f = functools.partial(plus, 5)\n",
    "f(10)"
   ]
  },
  {
   "cell_type": "code",
   "execution_count": 71,
   "metadata": {
    "collapsed": false
   },
   "outputs": [
    {
     "name": "stdout",
     "output_type": "stream",
     "text": [
      "before\n",
      "decorated\n",
      "after\n"
     ]
    }
   ],
   "source": [
    "def decorator(inner):\n",
    "    def inner_decorator():\n",
    "        print('before')\n",
    "        inner()\n",
    "        print('after')\n",
    "    return inner_decorator\n",
    "\n",
    "def decorated():\n",
    "    print('decorated')\n",
    "\n",
    "f = decorator(decorated)\n",
    "f()"
   ]
  },
  {
   "cell_type": "code",
   "execution_count": 72,
   "metadata": {
    "collapsed": false
   },
   "outputs": [
    {
     "name": "stdout",
     "output_type": "stream",
     "text": [
      "before\n",
      "decorated\n",
      "after\n"
     ]
    }
   ],
   "source": [
    "@decorator\n",
    "def decorated():\n",
    "    print('decorated')\n",
    "    \n",
    "decorated()"
   ]
  },
  {
   "cell_type": "code",
   "execution_count": 73,
   "metadata": {
    "collapsed": false
   },
   "outputs": [
    {
     "name": "stdout",
     "output_type": "stream",
     "text": [
      "1\n",
      "1.0271596908569336\n",
      "0.0001976490020751953\n",
      "2\n",
      "1.0024516582489014\n"
     ]
    }
   ],
   "source": [
    "import time\n",
    "\n",
    "@functools.lru_cache()\n",
    "def slow_compute(n):\n",
    "    time.sleep(1)\n",
    "    print(n)\n",
    "\n",
    "start = time.time()\n",
    "slow_compute(1)\n",
    "print(time.time() - start)\n",
    "\n",
    "start = time.time()\n",
    "slow_compute(1)\n",
    "print(time.time() - start)\n",
    "\n",
    "start = time.time()\n",
    "slow_compute(2)\n",
    "print(time.time() - start)"
   ]
  },
  {
   "cell_type": "markdown",
   "metadata": {},
   "source": [
    "## Object oriented"
   ]
  },
  {
   "cell_type": "markdown",
   "metadata": {},
   "source": [
    "Object oriented programming is a paradigm that combines data with code into objects. The code can interact with and modify the data in an object. A program will be separated out into a number of different objects that interact with each other.\n",
    "\n",
    "Object oriented programming is a widely used paradigm and a variety of different languages support it including Python, C++, Java, PHP, Ruby, and many others.\n",
    "\n",
    "Each of these languages use slightly different syntax but the underlying design choices will be the same in each language. \n",
    "\n",
    "Objects __are__ things, their names often recognise this and are nouns. These might be physical things like a chair, or concepts like a number. \n",
    "\n",
    "While procedural programs make use of global information, object oriented design forgoes this global knowledge in favor of local knowledge. Objects contain information and can __do__ things. The information they contain are in attributes. The things they can do are in their methods (similar to functions, but attached to the object).\n",
    "\n",
    "Finally, to achieve the objective of the program objects must interact.\n",
    "\n",
    "We will look at the python syntax for creating objects later, first let's explore how objects might work in various scenarios. "
   ]
  },
  {
   "cell_type": "markdown",
   "metadata": {},
   "source": [
    "##Designing Object Oriented Programs\n",
    "\n",
    "These are the simple building blocks for classes and objects. Just as with the other programming constructs available in python, although the language is relatively simple if used effectively they are very powerful.\n",
    "\n",
    "[Learn Python the Hard Way](http://learnpythonthehardway.org/book/ex43.html) has a very good description of how to design a program using the object oriented programming paradigm. The linked exercise particularly is worth reading.\n",
    "\n",
    "The best place to start is describing the problem. What are you trying to do? What are the items involved?"
   ]
  },
  {
   "cell_type": "markdown",
   "metadata": {
    "collapsed": false
   },
   "source": [
    "###Example 1: A Laboratory Inventory\n",
    "\n",
    "I would like to keep track of all the __items__ in the __laboratory__ so I can easily find them the next time I need them. Both __equipment__ and __consumables__ would be tracked. We have multiple __rooms__, and items can be on __shelves__, in __refrigerators__, in __freezers__, etc. Items can also be in __boxes__ containing other items in all these places.\n",
    "\n",
    "The words in __bold__ would all be good ideas to turn into classes. Now we know some of the classes we will need we can start to think about what each of these classes should do, what the methods will be. Let's consider the consumables class:\n",
    "\n",
    "For consumables we will need to manage their use so there should be an initial quantity and a quantity remaining that is updated every time we use some. We want to make sure that temperature sensitive consumables are always stored at the correct temperature, and that flammables are stored in a flammables cabinet etc.\n",
    "\n",
    "The consumable class will need a number of attributes:\n",
    "\n",
    "* Initial quantity\n",
    "* Current quantity\n",
    "* Storage temperature\n",
    "* Flammability\n",
    "\n",
    "The consumable class will need methods to:\n",
    "\n",
    "* Update the quantity remaining\n",
    "* Check for improper storage?\n",
    "\n",
    "The consumable class might interact with the shelf, refrigerator, freezer, and/or box classes.\n",
    "\n",
    "Reading back through our description of consumables there is reference to a flammables cabinet that was not mentioned in our initial description of the problem. This is an iterative design process so we should go back and add a flammables cabinet class. "
   ]
  },
  {
   "cell_type": "markdown",
   "metadata": {},
   "source": [
    "###Exercise: A Chart\n",
    "\n",
    "We have used matplotlib several times now to generate charts. If we were to create a charting library ourselves what are the objects we would use?\n",
    "\n",
    "I would like to plot some data on a chart. The data, as a series of points and lines, would be placed on a set of x-y axes that are numbered and labeled to accurately describe the data. There should be a grid so that values can be easily read from the chart.\n",
    "\n",
    "What are the classes you would use to create this plot?\n",
    "\n",
    "Pick one class and describe the methods it would have, and the other classes it might interact with."
   ]
  },
  {
   "cell_type": "markdown",
   "metadata": {},
   "source": [
    "Classes:\n",
    "\n",
    "* Data\n",
    "* Style\n",
    "* Source\n",
    "* Grid\n",
    "* Axes\n",
    "* Legend\n",
    "* Points\n",
    "* Lines\n",
    " - draw\n",
    " - position\n",
    " - color\n",
    " - size / thickness\n",
    " - symbol\n",
    " - slope / intercept\n",
    " - text representation\n",
    "* Figure\n",
    "* Plot\n",
    "* Labels\n",
    "* Title\n",
    "* Text\n"
   ]
  },
  {
   "cell_type": "markdown",
   "metadata": {},
   "source": [
    "###Exercise 2: A Cookbook\n",
    "\n",
    "A system to manage different recipes, with their ingredients, equipment needed and instructions. Recipes should be scalable to different numbers of servings with the amount of ingredients adjusted appropriately and viewable in metric and imperial units. Nutritional information should be tracked.\n",
    "\n",
    "What are the classes you would use to create this system?\n",
    "\n",
    "Pick one class and describe the methods it would have, and the other classes it might interact with."
   ]
  },
  {
   "cell_type": "markdown",
   "metadata": {},
   "source": [
    "Classes:\n",
    "\n",
    "* Appetizers\n",
    "* Main courses\n",
    "* Desserts\n",
    "* Ingredients\n",
    " - __Attributes/Methods__\n",
    " - quantity (mass/volume)\n",
    "     - units\n",
    " - nutritional information\n",
    " - specific dietary info\n",
    " - cost\n",
    " - storage temperature\n",
    " - substitute options\n",
    " - name\n",
    " - translations\n",
    " - alternative names\n",
    " - special handling instructions\n",
    " - sources\n",
    " - __Interactions__\n",
    " - Recipe\n",
    " - Instructions\n",
    " - Equipment\n",
    " - Nutrition\n",
    " - Scaling\n",
    " - Portions\n",
    " - Cookbook\n",
    " - Units\n",
    " - \n",
    "* Solid ingredients\n",
    "* Liquid ingredients\n",
    "* Equipment\n",
    "* Recipe\n",
    " - __Attributes/Methods__\n",
    " - Preparation time\n",
    " - Cooking time\n",
    " - serving portion\n",
    " - servings\n",
    " - name\n",
    " - nutritional information\n",
    " - ingredients\n",
    " - methods\n",
    " - scaling\n",
    " - equipment\n",
    " - special occasion\n",
    " - instructions\n",
    " - \n",
    " - __Interactions__\n",
    " - Cookbook\n",
    " - Ingredients\n",
    " - Instructions\n",
    " - Nutrition\n",
    " - Equipment\n",
    " - Scaling\n",
    " - Portions\n",
    "* Instructions\n",
    "* Units (conversion)\n",
    "* Nutritional information\n",
    "* Scaling \n",
    "* Portions\n",
    "* Cookbook\n",
    "*"
   ]
  },
  {
   "cell_type": "markdown",
   "metadata": {
    "collapsed": true
   },
   "source": [
    "[Building Skills in Object Oriented Design](http://www.itmaybeahack.com/homepage/books/oodesign.html) is a good resource to learn more about this process.\n",
    "\n",
    "##Syntax\n",
    "\n",
    "Now let's look at the syntax we use to work with objects in python.\n",
    "\n",
    "There is a tutorial in the [python documentation](https://docs.python.org/3.5/tutorial/classes.html)."
   ]
  },
  {
   "cell_type": "markdown",
   "metadata": {},
   "source": [
    "Before we use an object in our program we must first define it. Just as we define a function with the *def* keyword, we use *class* to define a class. What is a class? Think of it as the template, or blueprint from which our objects will be made.\n",
    "\n",
    "Remember that in addition to code, objects can also contain data that can change so we may have many different instances of an object. Although each may contain different data they are all formed from the same class definition.\n",
    "\n",
    "As an example:"
   ]
  },
  {
   "cell_type": "code",
   "execution_count": 4,
   "metadata": {
    "collapsed": false
   },
   "outputs": [
    {
     "name": "stdout",
     "output_type": "stream",
     "text": [
      "<__main__.Person object at 0x7f3f180f79b0> <__main__.Person object at 0x7f3f180f7a20>\n",
      "b\n"
     ]
    },
    {
     "ename": "AttributeError",
     "evalue": "'Person' object has no attribute 'a'",
     "output_type": "error",
     "traceback": [
      "\u001b[1;31m---------------------------------------------------------------------------\u001b[0m",
      "\u001b[1;31mAttributeError\u001b[0m                            Traceback (most recent call last)",
      "\u001b[1;32m<ipython-input-4-4e8f60c0c36a>\u001b[0m in \u001b[0;36m<module>\u001b[1;34m()\u001b[0m\n\u001b[0;32m     21\u001b[0m \u001b[0mprint\u001b[0m\u001b[1;33m(\u001b[0m\u001b[0mperson1\u001b[0m\u001b[1;33m,\u001b[0m \u001b[0mperson2\u001b[0m\u001b[1;33m)\u001b[0m\u001b[1;33m\u001b[0m\u001b[0m\n\u001b[0;32m     22\u001b[0m \u001b[0mprint\u001b[0m\u001b[1;33m(\u001b[0m\u001b[0mperson1\u001b[0m\u001b[1;33m.\u001b[0m\u001b[0mb\u001b[0m\u001b[1;33m)\u001b[0m\u001b[1;33m\u001b[0m\u001b[0m\n\u001b[1;32m---> 23\u001b[1;33m \u001b[0mprint\u001b[0m\u001b[1;33m(\u001b[0m\u001b[0mperson1\u001b[0m\u001b[1;33m.\u001b[0m\u001b[0ma\u001b[0m\u001b[1;33m)\u001b[0m\u001b[1;33m\u001b[0m\u001b[0m\n\u001b[0m",
      "\u001b[1;31mAttributeError\u001b[0m: 'Person' object has no attribute 'a'"
     ]
    }
   ],
   "source": [
    "class Person(object):\n",
    "    \"\"\"A class definition for a person. The following attributes are supported:\n",
    "    \n",
    "    Attributes:\n",
    "    name: A string representing the person's name.\n",
    "    age: An integer representing the person's age.\"\"\"\n",
    "\n",
    "    mammal = True\n",
    "    \n",
    "    \n",
    "    def __init__(self, name, age, a):\n",
    "        \"\"\"Return a Person object with name and age set to the values supplied\"\"\"\n",
    "        self.name = name\n",
    "        self.age = age\n",
    "        self.b = 'b'\n",
    "\n",
    "\n",
    "person1 = Person('Alice', 25, 'a')\n",
    "person2 = Person('Bob', 30, 'a')\n",
    "\n",
    "print(person1, person2)\n",
    "print(person1.b)\n",
    "print(person1.a)"
   ]
  },
  {
   "cell_type": "markdown",
   "metadata": {},
   "source": [
    "There is a lot happening above.\n",
    "\n",
    "__class Person(object):__ The *class* keyword begins the definition of our class. Here, we are naming the class *Person*. Next, *(object)* means that this class will inherit from the object class. This is not strictly necessary but is generally good practice. Inheritance will be discussed in greater depth next week. Finally, just as for a function definition we finish with a *colon*.\n",
    "\n",
    "__\"\"\"Documentation\"\"\"__ Next, a docstring provides important notes on usage.\n",
    "\n",
    "__mammal = True__ This is a class attribute. This is useful for defining data that our objects will need that is the same for all instances.\n",
    "\n",
    "**def __init__(self, name, age):** This is a method definition. The *def* keyword is used just as for functions. The first parameter here is *self* which refers to the object this method will be part of. The double underscores around the method name signify that this is a special method. In this case the \\_\\_init\\_\\_ method is called when the object is first instantiated.\n",
    "\n",
    "__self.name = name__ A common reason to define an \\_\\_init\\_\\_ method is to set instance attributes. In this class, name and age are set to the values supplied.\n",
    "\n",
    "\n",
    "That is all there is to this class definition. Next, we create two instances of this class. The values supplied will be passed to the \\_\\_init\\_\\_ method.\n",
    "\n",
    "Printing these objects don't provide a useful description of what they are. We can improve on this with another special method."
   ]
  },
  {
   "cell_type": "code",
   "execution_count": 75,
   "metadata": {
    "collapsed": false
   },
   "outputs": [
    {
     "name": "stdout",
     "output_type": "stream",
     "text": [
      "Alice who is 25 years old. Bob who is 30 years old.\n"
     ]
    }
   ],
   "source": [
    "class Person(object):\n",
    "    \"\"\"A class definition for a person. The following attributes are supported:\n",
    "    \n",
    "    Attributes:\n",
    "    name: A string representing the person's name.\n",
    "    age: An integer representing the person's age.\"\"\"\n",
    "\n",
    "    mammal = True\n",
    "    \n",
    "    \n",
    "    def __init__(self, name, age):\n",
    "        \"\"\"Return a Person object with name and age set to the values supplied\"\"\"\n",
    "        self.name = name\n",
    "        self.age = age\n",
    "    \n",
    "    \n",
    "    def __str__(self):\n",
    "        return '{0} who is {1} years old.'.format(self.name, self.age)\n",
    "\n",
    "\n",
    "person1 = Person('Alice', 25)\n",
    "person2 = Person('Bob', 30)\n",
    "\n",
    "print(person1, person2)"
   ]
  },
  {
   "cell_type": "markdown",
   "metadata": {},
   "source": [
    "[There are many more special methods](https://docs.python.org/3.5/reference/datamodel.html#special-method-names)."
   ]
  },
  {
   "cell_type": "markdown",
   "metadata": {},
   "source": [
    "Before we go on a note of caution is needed for class attributes. If only using strings and numbers the behaviour will likely be much as you expect. However, if using a list, dictionary, or other similar type you may get a surprise."
   ]
  },
  {
   "cell_type": "code",
   "execution_count": 76,
   "metadata": {
    "collapsed": false
   },
   "outputs": [
    {
     "name": "stdout",
     "output_type": "stream",
     "text": [
      "['Charlie', 'Danielle'] ['Charlie', 'Danielle']\n"
     ]
    }
   ],
   "source": [
    "class Person(object):\n",
    "    \"\"\"A class definition for a person. The following attributes are supported:\n",
    "    \n",
    "    Attributes:\n",
    "    name: A string representing the person's name.\n",
    "    age: An integer representing the person's age.\"\"\"\n",
    "\n",
    "    friends = []\n",
    "    \n",
    "    \n",
    "    def __init__(self, name, age):\n",
    "        \"\"\"Return a Person object with name and age set to the values supplied\"\"\"\n",
    "        self.name = name\n",
    "        self.age = age\n",
    "    \n",
    "    \n",
    "    def __str__(self):\n",
    "        return '{0} who is {1} years old'.format(self.name, self.age)\n",
    "\n",
    "\n",
    "person1 = Person('Alice', 25)\n",
    "person2 = Person('Bob', 30)\n",
    "\n",
    "person1.friends.append('Charlie')\n",
    "person2.friends.append('Danielle')\n",
    "\n",
    "print(person1.friends, person2.friends)"
   ]
  },
  {
   "cell_type": "markdown",
   "metadata": {},
   "source": [
    "Both of our objects point to the same instance of the list type so adding a new friend to either object shows up in both.\n",
    "\n",
    "The solution to this is creating our *friends* attribute only at instantiation of the object. This can be done by creating it in the \\_\\_init\\_\\_ method."
   ]
  },
  {
   "cell_type": "code",
   "execution_count": 77,
   "metadata": {
    "collapsed": false
   },
   "outputs": [
    {
     "name": "stdout",
     "output_type": "stream",
     "text": [
      "['Charlie'] ['Danielle']\n"
     ]
    }
   ],
   "source": [
    "class Person(object):\n",
    "    \"\"\"A class definition for a person. The following attributes are supported:\n",
    "    \n",
    "    Attributes:\n",
    "    name: A string representing the person's name.\n",
    "    age: An integer representing the person's age.\"\"\"\n",
    "\n",
    "    \n",
    "    \n",
    "    def __init__(self, name, age):\n",
    "        \"\"\"Return a Person object with name and age set to the values supplied\"\"\"\n",
    "        self.name = name\n",
    "        self.age = age\n",
    "        self.friends = []\n",
    "    \n",
    "    \n",
    "    def __str__(self):\n",
    "        return '{0} who is {1} years old'.format(self.name, self.age)\n",
    "\n",
    "\n",
    "person1 = Person('Alice', 25)\n",
    "person2 = Person('Bob', 30)\n",
    "\n",
    "person1.friends.append('Charlie')\n",
    "person2.friends.append('Danielle')\n",
    "\n",
    "print(person1.friends, person2.friends)"
   ]
  },
  {
   "cell_type": "markdown",
   "metadata": {
    "collapsed": true
   },
   "source": [
    "Objects have their own namespace, although we have created variables called name, age, and friends they can only be accessed in the context of the object."
   ]
  },
  {
   "cell_type": "code",
   "execution_count": 78,
   "metadata": {
    "collapsed": false
   },
   "outputs": [
    {
     "name": "stdout",
     "output_type": "stream",
     "text": [
      "This works: ['Charlie']\n"
     ]
    },
    {
     "ename": "NameError",
     "evalue": "name 'friends' is not defined",
     "output_type": "error",
     "traceback": [
      "\u001b[1;31m---------------------------------------------------------------------------\u001b[0m",
      "\u001b[1;31mNameError\u001b[0m                                 Traceback (most recent call last)",
      "\u001b[1;32m<ipython-input-78-5af80c186e3b>\u001b[0m in \u001b[0;36m<module>\u001b[1;34m()\u001b[0m\n\u001b[0;32m      1\u001b[0m \u001b[0mprint\u001b[0m\u001b[1;33m(\u001b[0m\u001b[1;34m'This works:'\u001b[0m\u001b[1;33m,\u001b[0m \u001b[0mperson1\u001b[0m\u001b[1;33m.\u001b[0m\u001b[0mfriends\u001b[0m\u001b[1;33m)\u001b[0m\u001b[1;33m\u001b[0m\u001b[0m\n\u001b[1;32m----> 2\u001b[1;33m \u001b[0mprint\u001b[0m\u001b[1;33m(\u001b[0m\u001b[1;34m'This does not work:'\u001b[0m\u001b[1;33m,\u001b[0m \u001b[0mfriends\u001b[0m\u001b[1;33m)\u001b[0m\u001b[1;33m\u001b[0m\u001b[0m\n\u001b[0m",
      "\u001b[1;31mNameError\u001b[0m: name 'friends' is not defined"
     ]
    }
   ],
   "source": [
    "print('This works:', person1.friends)\n",
    "print('This does not work:', friends)"
   ]
  },
  {
   "cell_type": "markdown",
   "metadata": {},
   "source": [
    "We are not limited to special methods when creating classes. Standard functions, or in this context methods, are an integral part of object oriented programming. Their definition is identical to special methods and functions outside of classes."
   ]
  },
  {
   "cell_type": "code",
   "execution_count": 79,
   "metadata": {
    "collapsed": false
   },
   "outputs": [
    {
     "name": "stdout",
     "output_type": "stream",
     "text": [
      "['Charlie'] ['Danielle']\n"
     ]
    }
   ],
   "source": [
    "class Person(object):\n",
    "    \"\"\"A class definition for a person. The following attributes are supported:\n",
    "    \n",
    "    Attributes:\n",
    "    name: A string representing the person's name.\n",
    "    age: An integer representing the person's age.\"\"\"\n",
    "\n",
    "    \n",
    "    \n",
    "    def __init__(self, name, age):\n",
    "        \"\"\"Return a Person object with name and age set to the values supplied\"\"\"\n",
    "        self.name = name\n",
    "        self.age = age\n",
    "        self.friends = []\n",
    "    \n",
    "    \n",
    "    def __str__(self):\n",
    "        \"\"\"Return a string representation of the object\"\"\"\n",
    "        return '{0} who is {1} years old'.format(self.name, self.age)\n",
    "    \n",
    "    \n",
    "    def add_friend(self, friend):\n",
    "        \"\"\"Add a friend\"\"\"\n",
    "        self.friends.append(friend)\n",
    "\n",
    "        \n",
    "person1 = Person('Alice', 25)\n",
    "person2 = Person('Bob', 30)\n",
    "\n",
    "person1.add_friend('Charlie')\n",
    "person2.add_friend('Danielle')\n",
    "\n",
    "print(person1.friends, person2.friends)"
   ]
  },
  {
   "cell_type": "markdown",
   "metadata": {},
   "source": [
    "###Private vs Public\n",
    "\n",
    "Some programming languages support hiding methods and attributes in an object. This can be useful to simplify the public interface someone using the class will see while still breaking up components into manageable blocks 'under-the-hood'. We will discuss designing the public interface in detail in week 5.\n",
    "\n",
    "Python does not support private variables beyond convention. Names prefixed with a underscore are assumed to be private. This means they may be changed without warning between different versions of the package. For public attributes/methods this is highly discouraged."
   ]
  },
  {
   "cell_type": "markdown",
   "metadata": {},
   "source": [
    "### Glossary\n",
    "\n",
    "__Class__: Our definition, or template, for an object.\n",
    "\n",
    "__Object__: An instance of a class.\n",
    "\n",
    "__Method__: A function that belongs to an object\n",
    "\n",
    "__Attribute__: A characteristic of an object, these can be data attributes and methods."
   ]
  },
  {
   "cell_type": "markdown",
   "metadata": {},
   "source": [
    "##Exercises\n",
    "\n",
    "Please send to me prior to class next week.\n",
    "\n"
   ]
  },
  {
   "cell_type": "markdown",
   "metadata": {},
   "source": [
    "* Pick one of the examples above (the laboratory inventory manager, the chart or the cookbook) and write out the classes it requires with their methods. You don't need to complete the code in the methods, using the `pass` keyword can act as a placeholder, e.g."
   ]
  },
  {
   "cell_type": "code",
   "execution_count": 80,
   "metadata": {
    "collapsed": true
   },
   "outputs": [],
   "source": [
    "class Test(object):\n",
    "    \n",
    "    \n",
    "    def do_something(self):\n",
    "        pass"
   ]
  },
  {
   "cell_type": "markdown",
   "metadata": {},
   "source": [
    "* Add documentation to the classes and their methods"
   ]
  },
  {
   "cell_type": "code",
   "execution_count": null,
   "metadata": {
    "collapsed": true
   },
   "outputs": [],
   "source": []
  }
 ],
 "metadata": {
  "kernelspec": {
   "display_name": "Python 3",
   "language": "python",
   "name": "python3"
  },
  "language_info": {
   "codemirror_mode": {
    "name": "ipython",
    "version": 3
   },
   "file_extension": ".py",
   "mimetype": "text/x-python",
   "name": "python",
   "nbconvert_exporter": "python",
   "pygments_lexer": "ipython3",
   "version": "3.4.3"
  }
 },
 "nbformat": 4,
 "nbformat_minor": 0
}
