{
 "cells": [
  {
   "cell_type": "markdown",
   "metadata": {
    "collapsed": true
   },
   "source": [
    "# Week 10: Inheritance, abstraction, and crafting the public interface. \n",
    "\n",
    "## Learning Objectives\n",
    "\n",
    "* Describe inheritance in the context of object oriented programming\n",
    "* List situations in which inheritance is useful\n",
    "* Create an abstract class\n",
    "* Explain what a public interface is\n",
    "* Discuss the advantages of defining a public interface\n",
    "* Design a simple public interface"
   ]
  },
  {
   "cell_type": "markdown",
   "metadata": {},
   "source": [
    "Last week we looked at several example projects and the classes we might use to implement them."
   ]
  },
  {
   "cell_type": "markdown",
   "metadata": {},
   "source": [
    "### Example 1: A Laboratory Inventory\n",
    "\n",
    "I would like to keep track of all the __items__ in the __laboratory__ so I can easily find them the next time I need them. Both __equipment__ and __consumables__ would be tracked. We have multiple __rooms__, and items can be on __shelves__, in __refrigerators__, in __freezers__, etc. Items can also be in __boxes__ containing other items in all these places.\n",
    "\n",
    "The words in __bold__ would all be good ideas to turn into classes. Now we know some of the classes we will need we can start to think about what each of these classes should do, what the methods will be. Let's consider the consumables class:\n",
    "\n",
    "For consumables we will need to manage their use so there should be an initial quantity and a quantity remaining that is updated every time we use some. We want to make sure that temperature sensitive consumables are always stored at the correct temperature, and that flammables are stored in a flammables cabinet etc.\n",
    "\n",
    "The consumable class will need a number of attributes:\n",
    "\n",
    "* Initial quantity\n",
    "* Current quantity\n",
    "* Storage temperature\n",
    "* Flammability\n",
    "\n",
    "The consumable class will need methods to:\n",
    "\n",
    "* Update the quantity remaining\n",
    "* Check for improper storage?\n",
    "\n",
    "The consumable class might interact with the shelf, refrigerator, freezer, and/or box classes.\n",
    "\n",
    "Reading back through our description of consumables there is reference to a flammables cabinet that was not mentioned in our initial description of the problem. This is an iterative design process so we should go back and add a flammables cabinet class. "
   ]
  },
  {
   "cell_type": "markdown",
   "metadata": {},
   "source": [
    "If we expand our list to all the classes we plan to use we get the following:\n",
    "\n",
    "* __Items__\n",
    "  * Attributes\n",
    "    * Name\n",
    "    * Description\n",
    "    * Location\n",
    "  * Methods\n",
    "    * Update location\n",
    "  * Interactions\n",
    "    * Every other class except items and consumables\n",
    "* __Laboratory__\n",
    "  * Attributes\n",
    "    * ?\n",
    "  * Methods\n",
    "    * Search\n",
    "  * Interactions\n",
    "    * Every other class\n",
    "* __Equipment__\n",
    "  * Attributes\n",
    "    * Name\n",
    "    * Description\n",
    "    * Location\n",
    "  * Methods\n",
    "    * Update location\n",
    "  * Interactions\n",
    "    * Every other class except items and consumables\n",
    "* __Consumables__\n",
    "  * Attributes\n",
    "    * Name\n",
    "    * Description\n",
    "    * Location\n",
    "    * Initial quantity\n",
    "    * Current quantity\n",
    "    * Storage temperature\n",
    "    * Flammability\n",
    "  * Methods\n",
    "    * Update location\n",
    "    * Update quantity remaining\n",
    "    * Check for appropriate storage\n",
    "  * Interactions\n",
    "    * Every other class except equipment and items\n",
    "* __Rooms__\n",
    "  * Attributes\n",
    "    * Name\n",
    "    * Description\n",
    "    * Location\n",
    "    * Storage locations within this location\n",
    "    * Items stored here\n",
    "  * Methods\n",
    "    * Search\n",
    "  * Interactions\n",
    "    * Every other class\n",
    "* __Shelves__\n",
    "  * Attributes\n",
    "    * Name\n",
    "    * Description\n",
    "    * Location\n",
    "    * Storage locations within this location\n",
    "    * Items stored here\n",
    "  * Methods\n",
    "    * Search\n",
    "  * Interactions\n",
    "    * Every other class possible although refrigerator and freezer are unlikely\n",
    "* __Refrigerators__\n",
    "  * Attributes\n",
    "    * Name\n",
    "    * Description\n",
    "    * Location\n",
    "    * Storage locations within this location\n",
    "    * Items stored here\n",
    "    * Temperature\n",
    "  * Methods\n",
    "    * Search\n",
    "  * Interactions\n",
    "    * Every other class possible although freezer and flammables cabinet unlikely\n",
    "* __Freezers__\n",
    "  * Attributes\n",
    "    * Name\n",
    "    * Description\n",
    "    * Location\n",
    "    * Storage locations within this location\n",
    "    * Items stored here\n",
    "    * Temperature\n",
    "  * Methods\n",
    "    * Search\n",
    "  * Interactions\n",
    "    * Every other class possible although refrigerator and flammables cabinet unlikely\n",
    "* __Boxes__\n",
    "  * Attributes\n",
    "    * Name\n",
    "    * Description\n",
    "    * Location\n",
    "    * Storage locations within this location\n",
    "    * Items stored here\n",
    "  * Methods\n",
    "    * Search\n",
    "  * Interactions\n",
    "    * Every other class\n",
    "* __Flammables Cabinet__\n",
    "  * Attributes\n",
    "    * Name\n",
    "    * Description\n",
    "    * Location\n",
    "    * Storage locations within this location\n",
    "    * Items stored here\n",
    "  * Methods\n",
    "    * Search\n",
    "  * Interactions\n",
    "    * Every other class possible although refrigerator and freezer unlikely"
   ]
  },
  {
   "cell_type": "markdown",
   "metadata": {},
   "source": [
    "Although this is a long list careful examination reveals that there is a lot of repetition.\n",
    "\n",
    "Items and equipment are identical and consumables is similar, adding several extra attributes and methods.\n",
    "\n",
    "Rooms, shelves, refrigerators, freezers, boxes and flammables cabinet are all similar, only differing in the occasional attribute.\n",
    "\n",
    "Our three main groups are:\n",
    "* Laboratory\n",
    "* Items (Items, equipment, and consumables)\n",
    "* Locations (Rooms, shelves, refrigerators, freezers, boxes and flammables cabinet)\n",
    "\n",
    "So much duplication is problematic, it is diffcult to maintain and subject to greater risk of bugs. \n",
    "\n",
    "## Inheritance\n",
    "\n",
    "There is a better way - we can create a generic class with the shared functionality and then __inherit__ from it when we create the other classes.\n",
    "\n",
    "For example an Item class would contain the basic attributes and methods. The Equipment class could then inherit from this class without modification. The Consumable class would also inherit from Item and only add the extra attributes and methods uniquely needed by the Consumable class."
   ]
  },
  {
   "cell_type": "code",
   "execution_count": null,
   "metadata": {
    "collapsed": true
   },
   "outputs": [],
   "source": [
    "class Item(object):\n",
    "    \n",
    "    \n",
    "    def __init__(self, name, description, location):\n",
    "        self.name = name\n",
    "        self.description = description\n",
    "        self.location = location\n",
    "        \n",
    "        \n",
    "    def update_location(self, new_location):\n",
    "        pass\n",
    "\n",
    "class Equipment(Item):\n",
    "    pass\n",
    "\n",
    "class Consumable(Item):\n",
    "    \n",
    "    \n",
    "    def __init__(self, name, description, location, initial_quantity, current_quantity, storage_temp, flammability):\n",
    "        self.name = name\n",
    "        self.description = description\n",
    "        self.location = location\n",
    "        self.initial_quantity = initial_quantity\n",
    "        self.current_quantity = current_quantity\n",
    "        self.flammability = flammability\n",
    "        \n",
    "        \n",
    "    def update_quantity_remaining(self, amount):\n",
    "        pass"
   ]
  },
  {
   "cell_type": "markdown",
   "metadata": {},
   "source": [
    "Each of the classes we create inheriting from our general class can be thought of as having an 'is-a' relationship with the general class. For example, Equipment __is a__ Item, Consumable __is a__ Item."
   ]
  },
  {
   "cell_type": "markdown",
   "metadata": {},
   "source": [
    "### Not yet implemented methods\n",
    "\n",
    "There is one other situation we should consider. Occasionally we will want a class of a particular type to always implement a particular method even though we are unable to implement that method in our parent class. We need some way of raising an error when the parent class is inherited and the method is not implemented.\n",
    "\n",
    "As a simple example consider a class representing length. We might create classes for meters, miles, feet, etc. Keeping the original units when performing operations (adding, subtracting, etc) would prevent rounding errors but each class would need custom logic.\n",
    "\n",
    "Returning to our laboratory inventory system one way we can implement this is below:"
   ]
  },
  {
   "cell_type": "code",
   "execution_count": 34,
   "metadata": {
    "collapsed": true
   },
   "outputs": [],
   "source": [
    "class Item(object):\n",
    "    def safely_stored(self):\n",
    "        raise NotImplementedError('override in subclass')\n",
    "        \n",
    "class Consumable(Item):\n",
    "    def safely_stored(self):\n",
    "        return True"
   ]
  },
  {
   "cell_type": "code",
   "execution_count": 35,
   "metadata": {
    "collapsed": true
   },
   "outputs": [],
   "source": [
    "a = Item()"
   ]
  },
  {
   "cell_type": "code",
   "execution_count": 36,
   "metadata": {
    "collapsed": false
   },
   "outputs": [
    {
     "ename": "NotImplementedError",
     "evalue": "override in subclass",
     "output_type": "error",
     "traceback": [
      "\u001b[1;31m---------------------------------------------------------------------------\u001b[0m",
      "\u001b[1;31mNotImplementedError\u001b[0m                       Traceback (most recent call last)",
      "\u001b[1;32m<ipython-input-36-1dd117dbca72>\u001b[0m in \u001b[0;36m<module>\u001b[1;34m()\u001b[0m\n\u001b[1;32m----> 1\u001b[1;33m \u001b[0ma\u001b[0m\u001b[1;33m.\u001b[0m\u001b[0msafely_stored\u001b[0m\u001b[1;33m(\u001b[0m\u001b[1;33m)\u001b[0m\u001b[1;33m\u001b[0m\u001b[0m\n\u001b[0m",
      "\u001b[1;32m<ipython-input-34-6c6d5d433ee9>\u001b[0m in \u001b[0;36msafely_stored\u001b[1;34m(self)\u001b[0m\n\u001b[0;32m      1\u001b[0m \u001b[1;32mclass\u001b[0m \u001b[0mItem\u001b[0m\u001b[1;33m(\u001b[0m\u001b[0mobject\u001b[0m\u001b[1;33m)\u001b[0m\u001b[1;33m:\u001b[0m\u001b[1;33m\u001b[0m\u001b[0m\n\u001b[0;32m      2\u001b[0m     \u001b[1;32mdef\u001b[0m \u001b[0msafely_stored\u001b[0m\u001b[1;33m(\u001b[0m\u001b[0mself\u001b[0m\u001b[1;33m)\u001b[0m\u001b[1;33m:\u001b[0m\u001b[1;33m\u001b[0m\u001b[0m\n\u001b[1;32m----> 3\u001b[1;33m         \u001b[1;32mraise\u001b[0m \u001b[0mNotImplementedError\u001b[0m\u001b[1;33m(\u001b[0m\u001b[1;34m'override in subclass'\u001b[0m\u001b[1;33m)\u001b[0m\u001b[1;33m\u001b[0m\u001b[0m\n\u001b[0m\u001b[0;32m      4\u001b[0m \u001b[1;33m\u001b[0m\u001b[0m\n\u001b[0;32m      5\u001b[0m \u001b[1;32mclass\u001b[0m \u001b[0mConsumable\u001b[0m\u001b[1;33m(\u001b[0m\u001b[0mItem\u001b[0m\u001b[1;33m)\u001b[0m\u001b[1;33m:\u001b[0m\u001b[1;33m\u001b[0m\u001b[0m\n",
      "\u001b[1;31mNotImplementedError\u001b[0m: override in subclass"
     ]
    }
   ],
   "source": [
    "a.safely_stored()"
   ]
  },
  {
   "cell_type": "code",
   "execution_count": 37,
   "metadata": {
    "collapsed": true
   },
   "outputs": [],
   "source": [
    "b = Consumable()"
   ]
  },
  {
   "cell_type": "code",
   "execution_count": 38,
   "metadata": {
    "collapsed": false
   },
   "outputs": [
    {
     "data": {
      "text/plain": [
       "True"
      ]
     },
     "execution_count": 38,
     "metadata": {},
     "output_type": "execute_result"
    }
   ],
   "source": [
    "b.safely_stored()"
   ]
  },
  {
   "cell_type": "markdown",
   "metadata": {},
   "source": [
    "A disadvantage with this approach is we only see the error message when we call the method. The error is in the way we implemented the class so it would be more intuitive to get an error earlier, when we first create the object.\n",
    "\n",
    "This can be achieved using the [abstract method decorator](https://docs.python.org/3.5/library/abc.html)."
   ]
  },
  {
   "cell_type": "code",
   "execution_count": 39,
   "metadata": {
    "collapsed": true
   },
   "outputs": [],
   "source": [
    "from abc import ABCMeta, abstractmethod\n",
    "\n",
    "class Item(metaclass=ABCMeta):\n",
    "    @abstractmethod\n",
    "    def safely_stored(self):\n",
    "        pass\n",
    "\n",
    "class Consumable(Item):\n",
    "    def safely_stored(self):\n",
    "        return True"
   ]
  },
  {
   "cell_type": "code",
   "execution_count": 41,
   "metadata": {
    "collapsed": false
   },
   "outputs": [
    {
     "ename": "TypeError",
     "evalue": "Can't instantiate abstract class Item with abstract methods safely_stored",
     "output_type": "error",
     "traceback": [
      "\u001b[1;31m---------------------------------------------------------------------------\u001b[0m",
      "\u001b[1;31mTypeError\u001b[0m                                 Traceback (most recent call last)",
      "\u001b[1;32m<ipython-input-41-ce8b442bf843>\u001b[0m in \u001b[0;36m<module>\u001b[1;34m()\u001b[0m\n\u001b[1;32m----> 1\u001b[1;33m \u001b[0ma\u001b[0m \u001b[1;33m=\u001b[0m \u001b[0mItem\u001b[0m\u001b[1;33m(\u001b[0m\u001b[1;33m)\u001b[0m\u001b[1;33m\u001b[0m\u001b[0m\n\u001b[0m",
      "\u001b[1;31mTypeError\u001b[0m: Can't instantiate abstract class Item with abstract methods safely_stored"
     ]
    }
   ],
   "source": [
    "a = Item()"
   ]
  },
  {
   "cell_type": "code",
   "execution_count": 42,
   "metadata": {
    "collapsed": false
   },
   "outputs": [
    {
     "data": {
      "text/plain": [
       "True"
      ]
     },
     "execution_count": 42,
     "metadata": {},
     "output_type": "execute_result"
    }
   ],
   "source": [
    "b = Consumable()\n",
    "b.safely_stored()"
   ]
  },
  {
   "cell_type": "markdown",
   "metadata": {},
   "source": [
    "Either of these approaches work well for adding new methods or completely changing the behaviour of a method. Often we only need to make a more subtle change. In this situation it can be useful to call a method from a parent class while only implementing our new functionality in the child class.\n",
    "\n",
    "\n",
    "There are two approaches for this."
   ]
  },
  {
   "cell_type": "code",
   "execution_count": 43,
   "metadata": {
    "collapsed": false
   },
   "outputs": [
    {
     "name": "stdout",
     "output_type": "stream",
     "text": [
      "a in class A\n",
      "a in class A\n",
      "b in class B\n"
     ]
    }
   ],
   "source": [
    "class A(object):\n",
    "    def a(self):\n",
    "        print('a in class A')\n",
    "\n",
    "class B(A):\n",
    "    def a(self):\n",
    "        A.a(self)\n",
    "        print('b in class B')\n",
    "\n",
    "a = A()\n",
    "a.a()\n",
    "\n",
    "b = B()\n",
    "b.a()"
   ]
  },
  {
   "cell_type": "code",
   "execution_count": 44,
   "metadata": {
    "collapsed": false
   },
   "outputs": [
    {
     "name": "stdout",
     "output_type": "stream",
     "text": [
      "a in class A\n",
      "a in class A\n",
      "b in class B\n"
     ]
    }
   ],
   "source": [
    "class A(object):\n",
    "    def a(self):\n",
    "        print('a in class A')\n",
    "\n",
    "class B(A):\n",
    "    def a(self):\n",
    "        super().a()\n",
    "        print('b in class B')\n",
    "\n",
    "a = A()\n",
    "a.a()\n",
    "\n",
    "b = B()\n",
    "b.a()"
   ]
  },
  {
   "cell_type": "markdown",
   "metadata": {},
   "source": [
    "Using super() is usually the best approach, the reasons for this are covered in detail in [this blog post](https://rhettinger.wordpress.com/2011/05/26/super-considered-super/)"
   ]
  },
  {
   "cell_type": "markdown",
   "metadata": {},
   "source": [
    "## Multiple Inheritance\n",
    "\n",
    "We are not limited to inheriting from a single class. It is possible to merge functionality from multiple different classes simply by inheriting from them.\n",
    "\n",
    "When inheriting from multiple classes that contain a method or attribute with the same name there is a particular order in which the names are resolved."
   ]
  },
  {
   "cell_type": "code",
   "execution_count": 11,
   "metadata": {
    "collapsed": false
   },
   "outputs": [
    {
     "name": "stdout",
     "output_type": "stream",
     "text": [
      "A-a\n",
      "A2-a\n",
      "A-a\n"
     ]
    }
   ],
   "source": [
    "class A(object):\n",
    "    def a(self):\n",
    "        print('A-a')\n",
    "\n",
    "class A2(object):\n",
    "    def a(self):\n",
    "        print('A2-a')\n",
    "\n",
    "class B(A, A2):\n",
    "    pass\n",
    "\n",
    "a = A()\n",
    "a.a()\n",
    "\n",
    "a2 = A2()\n",
    "a2.a()\n",
    "\n",
    "b = B()\n",
    "b.a()"
   ]
  },
  {
   "cell_type": "code",
   "execution_count": 12,
   "metadata": {
    "collapsed": false
   },
   "outputs": [
    {
     "name": "stdout",
     "output_type": "stream",
     "text": [
      "A-a\n",
      "A2-a\n",
      "A-a\n"
     ]
    }
   ],
   "source": [
    "class A(object):\n",
    "    def a(self):\n",
    "        print('A-a')\n",
    "\n",
    "class A2(object):\n",
    "    def a(self):\n",
    "        print('A2-a')\n",
    "\n",
    "class B(A):\n",
    "    pass\n",
    "\n",
    "class C(B, A2):\n",
    "    pass\n",
    "\n",
    "a = A()\n",
    "a.a()\n",
    "\n",
    "a2 = A2()\n",
    "a2.a()\n",
    "\n",
    "c = C()\n",
    "c.a()"
   ]
  },
  {
   "cell_type": "markdown",
   "metadata": {},
   "source": [
    "A simple rule-of-thumb is that search is depth first. [The details](https://en.wikipedia.org/wiki/C3_linearization) are a little more complicated."
   ]
  },
  {
   "cell_type": "markdown",
   "metadata": {},
   "source": [
    "## isinstance\n",
    "\n",
    "Often we need to check whether a particular variable is an instance of a particular class. For example, returning to our laboratory inventory system we would want to check that we only add instances of `Item` or its subclasses to our storage locations."
   ]
  },
  {
   "cell_type": "code",
   "execution_count": 45,
   "metadata": {
    "collapsed": false
   },
   "outputs": [
    {
     "name": "stdout",
     "output_type": "stream",
     "text": [
      "a instance of Item: True\n",
      "b instance of Consumable: True\n",
      "b instance of Item: True\n",
      "a instance of Consumable: False\n"
     ]
    }
   ],
   "source": [
    "class Item(object):\n",
    "    def safely_stored(self):\n",
    "        raise NotImplementedError('override in subclass')\n",
    "        \n",
    "class Consumable(Item):\n",
    "    def safely_stored(self):\n",
    "        return True\n",
    "    \n",
    "a = Item()\n",
    "b = Consumable()\n",
    "\n",
    "print('a instance of Item:', isinstance(a, Item))\n",
    "print('b instance of Consumable:', isinstance(b, Consumable))\n",
    "print('b instance of Item:', isinstance(b, Item))\n",
    "print('a instance of Consumable:', isinstance(a, Consumable))"
   ]
  },
  {
   "cell_type": "markdown",
   "metadata": {},
   "source": [
    "## Duck typing\n",
    "\n",
    "A popular alternative in python is duck typing, an approach named after the idea that,\n",
    "\n",
    "`If it looks like a duck, swims like a duck, and quacks like a duck, then it probably is a duck.`\n",
    "\n",
    "What this means for programming is that instead of checking for a particular class, instead the methods and attributes that are actually needed are checked for."
   ]
  },
  {
   "cell_type": "markdown",
   "metadata": {},
   "source": [
    "## Composition\n",
    "\n",
    "Let's switch to another example from last week. We looked at a cookbook application and were often unsure whether things like ingredients should be attributes on the recipe class or classes in their own right. \n",
    "\n",
    "Often the answer is both. \n",
    "\n",
    "These are the interactions that change a collection of different classes into a functioning program. This is called __composition__. The Recipe object is a composite object, it __has__ ingredients, it __has__ instructions, etc."
   ]
  },
  {
   "cell_type": "markdown",
   "metadata": {},
   "source": [
    "Let's look at how we can design our classes to be easy to use, for both programmer-class and class-class interactions."
   ]
  },
  {
   "cell_type": "code",
   "execution_count": 18,
   "metadata": {
    "collapsed": false
   },
   "outputs": [
    {
     "name": "stdout",
     "output_type": "stream",
     "text": [
      "[(820, <__main__.Ingredient object at 0x00000130DAD9E978>), (30, <__main__.Ingredient object at 0x00000130DAD9EAC8>), (36, <__main__.Ingredient object at 0x00000130DAD9EB00>), (7, <__main__.Ingredient object at 0x00000130DAD9EB38>), (560, <__main__.Ingredient object at 0x00000130DAD9EB70>)]\n",
      "[669.5875, 85.5, 38.6375]\n"
     ]
    }
   ],
   "source": [
    "class Ingredient(object):\n",
    "    \"\"\"The ingredient object that contains nutritional information\"\"\"\n",
    "    \n",
    "    def __init__(self, name, carbs, protein, fat):\n",
    "        self.name = name\n",
    "        self.carbs = carbs\n",
    "        self.protein = protein\n",
    "        self.fat = fat\n",
    "        \n",
    "    \n",
    "    def get_nutrition(self):\n",
    "        \"\"\"Returns the nutritional information for the ingredient\"\"\"\n",
    "        return (self.carbs, self.protein, self.fat)\n",
    "    \n",
    "\n",
    "class Recipe(object):\n",
    "    \"\"\"The Recipe object containing the ingredients\"\"\"\n",
    "    \n",
    "    def __init__(self, name, ingredients):\n",
    "        self.name = name\n",
    "        self.ingredients = ingredients\n",
    "        \n",
    "        \n",
    "    def get_nutrition(self):\n",
    "        \"\"\"Returns the nutritional information for the recipe\"\"\"\n",
    "        nutrition = [0, 0, 0]\n",
    "        for amount, ingredient in self.ingredients:\n",
    "            nutrition[0] += amount * ingredient.carbs\n",
    "            nutrition[1] += amount * ingredient.protein\n",
    "            nutrition[2] += amount * ingredient.fat\n",
    "        return nutrition\n",
    "    \n",
    "\n",
    "bread = Recipe('Bread', [(820, Ingredient('Flour', 0.77, 0.10, 0.01)), \n",
    "                         (30, Ingredient('Oil', 0, 0, 1)), \n",
    "                         (36, Ingredient('Sugar', 1, 0, 0)), \n",
    "                         (7, Ingredient('Yeast', 0.3125, 0.5, 0.0625)),\n",
    "                         (560, Ingredient('Water', 0, 0, 0))])\n",
    "print(bread.ingredients)\n",
    "print(bread.get_nutrition())"
   ]
  },
  {
   "cell_type": "markdown",
   "metadata": {},
   "source": [
    "This has the basic functionality implemented but there are some improvements we can make. \n",
    "\n",
    "Before we look at making changes we can seek inspiration. [Requests](http://docs.python-requests.org/en/master/#) and [Pandas](http://pandas.pydata.org/) are two packages well regarded for having well implemented interfaces."
   ]
  },
  {
   "cell_type": "markdown",
   "metadata": {},
   "source": [
    "### Requests: HTTP for Humans\n",
    "\n",
    "Requests is a package used for making HTTP requests. There are options in the python standard library for making http requests but they can seem difficult to use. "
   ]
  },
  {
   "cell_type": "code",
   "execution_count": 19,
   "metadata": {
    "collapsed": true
   },
   "outputs": [],
   "source": [
    "import requests"
   ]
  },
  {
   "cell_type": "code",
   "execution_count": 20,
   "metadata": {
    "collapsed": false
   },
   "outputs": [
    {
     "name": "stdout",
     "output_type": "stream",
     "text": [
      "200\n",
      "application/json; charset=utf-8\n"
     ]
    }
   ],
   "source": [
    "r = requests.get('https://api.github.com/repos/streety/biof509/events')\n",
    "print(r.status_code)\n",
    "print(r.headers['content-type'])"
   ]
  },
  {
   "cell_type": "code",
   "execution_count": 21,
   "metadata": {
    "collapsed": false
   },
   "outputs": [
    {
     "name": "stdout",
     "output_type": "stream",
     "text": [
      "[{\"id\":\"4844100706\",\"type\":\"PushEvent\",\"actor\":{\"id\":736229,\"login\":\"streety\",\"display_login\":\"streety\",\"gravatar_id\":\"\",\"url\":\"https://api.github.com/users/streety\",\"avatar_url\":\"https://avatars.githubusercontent.com/u/736229?\"},\"repo\":{\"id\":50923925,\"name\":\"streety/biof509\",\"url\":\"https://api.github.com/repos/streety/biof509\"},\"payload\":{\"push_id\":1394758508,\"size\":1,\"distinct_size\":1,\"ref\":\"refs/heads/gh-pages\",\"head\":\"0fbee4f0bef9eeded3238be3fab04a0b2ebc3ae0\",\"before\":\"4d75e545054fecb4435e95a6e8407ffa77b0cacf\",\"commits\":[{\"sha\":\"0fbee4f0bef9eeded3238be3fab04a0b2ebc3ae0\",\"author\":{\"email\":\"jonathan@jonathanstreet.com\",\"name\":\"Jonathan Street\"},\"message\":\"Style correction\",\"distinct\":true,\"url\":\"https://api.github.com/repos/streety/biof509/commits/0fbee4f0bef9eeded3238be3fab04a0b2ebc3ae0\"}]},\"public\":true,\"created_at\":\"2016-11-10T00:43:24Z\"},{\"id\":\"4844100225\",\"type\":\"PushEvent\",\"actor\":{\"id\":736229,\"login\":\"streety\",\"display_login\":\"streety\",\"gravatar_id\":\"\",\"url\":\"https://api.githu\n"
     ]
    }
   ],
   "source": [
    "print(r.text[:1000])"
   ]
  },
  {
   "cell_type": "code",
   "execution_count": 22,
   "metadata": {
    "collapsed": false
   },
   "outputs": [
    {
     "name": "stdout",
     "output_type": "stream",
     "text": [
      "Style correction\n"
     ]
    }
   ],
   "source": [
    "print(r.json()[0]['payload']['commits'][0]['message'])"
   ]
  },
  {
   "cell_type": "code",
   "execution_count": 23,
   "metadata": {
    "collapsed": false
   },
   "outputs": [
    {
     "data": {
      "text/plain": [
       "requests.models.Response"
      ]
     },
     "execution_count": 23,
     "metadata": {},
     "output_type": "execute_result"
    }
   ],
   "source": [
    "type(r)"
   ]
  },
  {
   "cell_type": "markdown",
   "metadata": {},
   "source": [
    "[The API documentation for requests](http://docs.python-requests.org/en/master/api/)\n",
    "\n",
    "[The Response class](https://github.com/kennethreitz/requests/blob/master/requests/models.py#L556)\n",
    "\n",
    "Some useful features:\n",
    "\n",
    "* [property](https://github.com/kennethreitz/requests/blob/master/requests/models.py#L648)\n"
   ]
  },
  {
   "cell_type": "markdown",
   "metadata": {},
   "source": [
    "### Pandas\n",
    "\n",
    "    pandas is an open source, BSD-licensed library providing high-performance, easy-to-use data structures and \n",
    "    data analysis tools for the Python programming language."
   ]
  },
  {
   "cell_type": "code",
   "execution_count": 24,
   "metadata": {
    "collapsed": true
   },
   "outputs": [],
   "source": [
    "import pandas as pd"
   ]
  },
  {
   "cell_type": "code",
   "execution_count": 25,
   "metadata": {
    "collapsed": false
   },
   "outputs": [
    {
     "data": {
      "text/html": [
       "<div>\n",
       "<table border=\"1\" class=\"dataframe\">\n",
       "  <thead>\n",
       "    <tr style=\"text-align: right;\">\n",
       "      <th></th>\n",
       "      <th>col1</th>\n",
       "      <th>col2</th>\n",
       "      <th>col3</th>\n",
       "      <th>col4</th>\n",
       "    </tr>\n",
       "  </thead>\n",
       "  <tbody>\n",
       "    <tr>\n",
       "      <th>a</th>\n",
       "      <td>0</td>\n",
       "      <td>1</td>\n",
       "      <td>2</td>\n",
       "      <td>3</td>\n",
       "    </tr>\n",
       "    <tr>\n",
       "      <th>b</th>\n",
       "      <td>4</td>\n",
       "      <td>5</td>\n",
       "      <td>6</td>\n",
       "      <td>7</td>\n",
       "    </tr>\n",
       "    <tr>\n",
       "      <th>c</th>\n",
       "      <td>8</td>\n",
       "      <td>9</td>\n",
       "      <td>10</td>\n",
       "      <td>11</td>\n",
       "    </tr>\n",
       "  </tbody>\n",
       "</table>\n",
       "</div>"
      ],
      "text/plain": [
       "   col1  col2  col3  col4\n",
       "a     0     1     2     3\n",
       "b     4     5     6     7\n",
       "c     8     9    10    11"
      ]
     },
     "execution_count": 25,
     "metadata": {},
     "output_type": "execute_result"
    }
   ],
   "source": [
    "data = pd.DataFrame([[0,1,2,3], [4,5,6,7], [8,9,10,11]], \n",
    "                    index=['a', 'b', 'c'], \n",
    "                    columns=['col1', 'col2', 'col3', 'col4'])\n",
    "data"
   ]
  },
  {
   "cell_type": "code",
   "execution_count": 26,
   "metadata": {
    "collapsed": false
   },
   "outputs": [
    {
     "name": "stdout",
     "output_type": "stream",
     "text": [
      "(3, 4)\n",
      "a    0\n",
      "b    4\n",
      "c    8\n",
      "Name: col1, dtype: int64\n",
      "a    0\n",
      "b    4\n",
      "c    8\n",
      "Name: col1, dtype: int64\n"
     ]
    }
   ],
   "source": [
    "print(data.shape)\n",
    "print(data['col1'])\n",
    "print(data.col1)"
   ]
  },
  {
   "cell_type": "code",
   "execution_count": 27,
   "metadata": {
    "collapsed": false
   },
   "outputs": [
    {
     "data": {
      "text/plain": [
       "<matplotlib.axes._subplots.AxesSubplot at 0x130ddc14eb8>"
      ]
     },
     "execution_count": 27,
     "metadata": {},
     "output_type": "execute_result"
    },
    {
     "data": {
      "image/png": "[encoded data removed]",
      "text/plain": [
       "<matplotlib.figure.Figure at 0x130dd3579e8>"
      ]
     },
     "metadata": {},
     "output_type": "display_data"
    }
   ],
   "source": [
    "import matplotlib.pyplot as plt\n",
    "\n",
    "%matplotlib inline\n",
    "\n",
    "data.plot()"
   ]
  },
  {
   "cell_type": "code",
   "execution_count": 31,
   "metadata": {
    "collapsed": false
   },
   "outputs": [
    {
     "data": {
      "text/html": [
       "<div>\n",
       "<table border=\"1\" class=\"dataframe\">\n",
       "  <thead>\n",
       "    <tr style=\"text-align: right;\">\n",
       "      <th></th>\n",
       "      <th>col1</th>\n",
       "      <th>col2</th>\n",
       "      <th>col3</th>\n",
       "      <th>col4</th>\n",
       "    </tr>\n",
       "  </thead>\n",
       "  <tbody>\n",
       "    <tr>\n",
       "      <th>a</th>\n",
       "      <td>0</td>\n",
       "      <td>1</td>\n",
       "      <td>2</td>\n",
       "      <td>3</td>\n",
       "    </tr>\n",
       "    <tr>\n",
       "      <th>b</th>\n",
       "      <td>4</td>\n",
       "      <td>5</td>\n",
       "      <td>6</td>\n",
       "      <td>7</td>\n",
       "    </tr>\n",
       "    <tr>\n",
       "      <th>c</th>\n",
       "      <td>8</td>\n",
       "      <td>9</td>\n",
       "      <td>10</td>\n",
       "      <td>11</td>\n",
       "    </tr>\n",
       "  </tbody>\n",
       "</table>\n",
       "</div>"
      ],
      "text/plain": [
       "   col1  col2  col3  col4\n",
       "a     0     1     2     3\n",
       "b     4     5     6     7\n",
       "c     8     9    10    11"
      ]
     },
     "execution_count": 31,
     "metadata": {},
     "output_type": "execute_result"
    }
   ],
   "source": [
    "data.to_csv('Wk05-temp.csv')\n",
    "\n",
    "data2 = pd.DataFrame.from_csv('Wk05-temp.csv', index_col=0)\n",
    "data2"
   ]
  },
  {
   "cell_type": "markdown",
   "metadata": {},
   "source": [
    "[The API documentation for the DataFrame object](http://pandas.pydata.org/pandas-docs/stable/generated/pandas.DataFrame.html#pandas.DataFrame).\n",
    "\n",
    "[The actual code](https://github.com/pydata/pandas/blob/master/pandas/core/frame.py).\n",
    "\n",
    "Some useful features:\n",
    "* [classmethod](https://github.com/pandas-dev/pandas/blob/master/pandas/core/frame.py#L1174)\n",
    "* [property](https://github.com/pandas-dev/pandas/blob/master/pandas/core/frame.py#L624) for html styling and [property](https://github.com/pandas-dev/pandas/blob/master/pandas/core/generic.py#L410) for shape\n",
    "* [`__getitem__`](https://github.com/pandas-dev/pandas/blob/master/pandas/core/frame.py#L2035)\n",
    "* [Public and private attributes/methods](https://github.com/pandas-dev/pandas/blob/master/pandas/core/frame.py#L551)\n",
    "* [`__getattr__`](https://github.com/pandas-dev/pandas/blob/master/pandas/core/generic.py#L2730)"
   ]
  },
  {
   "cell_type": "markdown",
   "metadata": {},
   "source": [
    "### Cookbook\n",
    "\n",
    "We can now return to our cookbook example.\n",
    "\n",
    "Displaying the ingredients needs to be improved."
   ]
  },
  {
   "cell_type": "code",
   "execution_count": 32,
   "metadata": {
    "collapsed": false
   },
   "outputs": [
    {
     "name": "stdout",
     "output_type": "stream",
     "text": [
      "[(820, Ingredient(Flour, 0.77, 0.1, 0.01)), (30, Ingredient(Oil, 0, 0, 1)), (36, Ingredient(Sugar, 1, 0, 0)), (7, Ingredient(Yeast, 0.3125, 0.5, 0.0625)), (560, Ingredient(Water, 0, 0, 0))]\n",
      "[669.5875, 85.5, 38.6375]\n"
     ]
    }
   ],
   "source": [
    "class Ingredient(object):\n",
    "    \"\"\"The ingredient object that contains nutritional information\"\"\"\n",
    "    \n",
    "    def __init__(self, name, carbs, protein, fat):\n",
    "        self.name = name\n",
    "        self.carbs = carbs\n",
    "        self.protein = protein\n",
    "        self.fat = fat\n",
    "        \n",
    "    \n",
    "    def __repr__(self):\n",
    "        return 'Ingredient({0}, {1}, {2}, {3})'.format(self.name, self.carbs, self.protein, self.fat)\n",
    "    \n",
    "    \n",
    "    def get_nutrition(self):\n",
    "        \"\"\"Returns the nutritional information for the ingredient\"\"\"\n",
    "        return (self.carbs, self.protein, self.fat)\n",
    "    \n",
    "\n",
    "class Recipe(object):\n",
    "    \"\"\"The Recipe object containing the ingredients\"\"\"\n",
    "    \n",
    "    def __init__(self, name, ingredients):\n",
    "        self.name = name\n",
    "        self.ingredients = ingredients\n",
    "        \n",
    "        \n",
    "    def get_nutrition(self):\n",
    "        \"\"\"Returns the nutritional information for the recipe\"\"\"\n",
    "        nutrition = [0, 0, 0]\n",
    "        for amount, ingredient in self.ingredients:\n",
    "            nutrition[0] += amount * ingredient.carbs\n",
    "            nutrition[1] += amount * ingredient.protein\n",
    "            nutrition[2] += amount * ingredient.fat\n",
    "        return nutrition\n",
    "    \n",
    "\n",
    "bread = Recipe('Bread', [(820, Ingredient('Flour', 0.77, 0.10, 0.01)), \n",
    "                         (30, Ingredient('Oil', 0, 0, 1)), \n",
    "                         (36, Ingredient('Sugar', 1, 0, 0)), \n",
    "                         (7, Ingredient('Yeast', 0.3125, 0.5, 0.0625)),\n",
    "                         (560, Ingredient('Water', 0, 0, 0))])\n",
    "print(bread.ingredients)\n",
    "print(bread.get_nutrition())"
   ]
  },
  {
   "cell_type": "markdown",
   "metadata": {},
   "source": [
    "Viewing the ingredients now looks much better. Let's now look at the get_nutrition method.\n",
    "\n",
    "There are still a number of areas that could be improved\n",
    "\n",
    "* When we call get_nutrition it is not clear what the different values returned actually are\n",
    "* We don't use the get_nutrition method when calculating the nutrition values in the Recipe class\n",
    "* There is no way to add additional types of nutrient\n",
    "* Ingredient and Recipe return different types from get_nutrition, tuple and list respectively\n",
    "* Recipe could not be used as an ingredient for another Recipe"
   ]
  },
  {
   "cell_type": "code",
   "execution_count": 33,
   "metadata": {
    "collapsed": false
   },
   "outputs": [
    {
     "name": "stdout",
     "output_type": "stream",
     "text": [
      "[(820, Ingredient(Flour, 0.77, 0.1, 0.01)), (30, Ingredient(Oil, 0, 0, 1)), (36, Ingredient(Sugar, 1, 0, 0)), (7, Ingredient(Yeast, 0.3125, 0.5, 0.0625)), (560, Ingredient(Water, 0, 0, 0))]\n",
      "[669.5875, 85.5, 38.6375]\n"
     ]
    }
   ],
   "source": [
    "class Ingredient(object):\n",
    "    \"\"\"The ingredient object that contains nutritional information\"\"\"\n",
    "    \n",
    "    def __init__(self, name, carbs, protein, fat):\n",
    "        self.name = name\n",
    "        self.carbs = carbs\n",
    "        self.protein = protein\n",
    "        self.fat = fat\n",
    "        \n",
    "    \n",
    "    def __repr__(self):\n",
    "        return 'Ingredient({0}, {1}, {2}, {3})'.format(self.name, self.carbs, self.protein, self.fat)\n",
    "    \n",
    "    \n",
    "    def get_nutrition(self):\n",
    "        \"\"\"Returns the nutritional information for the ingredient\"\"\"\n",
    "        return (self.carbs, self.protein, self.fat)\n",
    "    \n",
    "\n",
    "class Recipe(object):\n",
    "    \"\"\"The Recipe object containing the ingredients\"\"\"\n",
    "    \n",
    "    def __init__(self, name, ingredients):\n",
    "        self.name = name\n",
    "        self.ingredients = ingredients\n",
    "        \n",
    "        \n",
    "    def get_nutrition(self):\n",
    "        \"\"\"Returns the nutritional information for the recipe\"\"\"\n",
    "        nutrition = [0, 0, 0]\n",
    "        for amount, ingredient in self.ingredients:\n",
    "            nutrition[0] += amount * ingredient.carbs\n",
    "            nutrition[1] += amount * ingredient.protein\n",
    "            nutrition[2] += amount * ingredient.fat\n",
    "        return nutrition\n",
    "    \n",
    "\n",
    "bread = Recipe('Bread', [(820, Ingredient('Flour', 0.77, 0.10, 0.01)), \n",
    "                         (30, Ingredient('Oil', 0, 0, 1)), \n",
    "                         (36, Ingredient('Sugar', 1, 0, 0)), \n",
    "                         (7, Ingredient('Yeast', 0.3125, 0.5, 0.0625)),\n",
    "                         (560, Ingredient('Water', 0, 0, 0))])\n",
    "print(bread.ingredients)\n",
    "print(bread.get_nutrition())"
   ]
  },
  {
   "cell_type": "code",
   "execution_count": null,
   "metadata": {
    "collapsed": true
   },
   "outputs": [],
   "source": []
  }
 ],
 "metadata": {
  "kernelspec": {
   "display_name": "Python 3",
   "language": "python",
   "name": "python3"
  },
  "language_info": {
   "codemirror_mode": {
    "name": "ipython",
    "version": 3
   },
   "file_extension": ".py",
   "mimetype": "text/x-python",
   "name": "python",
   "nbconvert_exporter": "python",
   "pygments_lexer": "ipython3",
   "version": "3.5.2"
  }
 },
 "nbformat": 4,
 "nbformat_minor": 0
}
