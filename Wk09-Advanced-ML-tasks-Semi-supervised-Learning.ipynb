{
 "cells": [
  {
   "cell_type": "markdown",
   "metadata": {},
   "source": [
    "# Week 8 - Advanced Machine Learning"
   ]
  },
  {
   "cell_type": "markdown",
   "metadata": {},
   "source": [
    "## Semi-supervised learning\n",
    "\n",
    "Semi-supervised learning can be a useful strategy for working with datasets that are only partially labeled. Collecting unlabeled data is often far easier than collecting labels. Performance improvements can often be realized over training on the small number of labeled examples alone.\n",
    "\n",
    "Just as we can study the structure of a dataset using unsupervised techniques we can transfer knowledge gained on the unlabeled examples to refine the predictions made on the labeled samples."
   ]
  },
  {
   "cell_type": "markdown",
   "metadata": {},
   "source": [
    "## Scikit learn\n",
    "\n",
    "Scikit learn has several options available for [semi-supervised learning](http://scikit-learn.org/stable/modules/label_propagation.html)."
   ]
  },
  {
   "cell_type": "code",
   "execution_count": 3,
   "metadata": {
    "collapsed": false
   },
   "outputs": [
    {
     "data": {
      "text/plain": [
       "array([ 0., -1., -1., -1., -1., -1., -1., -1., -1., -1., -1., -1., -1.,\n",
       "       -1., -1., -1., -1., -1., -1., -1., -1., -1., -1., -1., -1., -1.,\n",
       "       -1., -1., -1., -1., -1., -1., -1., -1., -1., -1., -1., -1., -1.,\n",
       "       -1., -1., -1., -1., -1., -1., -1., -1., -1., -1., -1., -1., -1.,\n",
       "       -1., -1., -1., -1., -1., -1., -1., -1., -1., -1., -1., -1., -1.,\n",
       "       -1., -1., -1., -1., -1., -1., -1., -1., -1., -1., -1., -1., -1.,\n",
       "       -1., -1., -1., -1., -1., -1., -1., -1., -1., -1., -1., -1., -1.,\n",
       "       -1., -1., -1., -1., -1., -1., -1., -1., -1., -1., -1., -1., -1.,\n",
       "       -1., -1., -1., -1., -1., -1., -1., -1., -1., -1., -1., -1., -1.,\n",
       "       -1., -1., -1., -1., -1., -1., -1., -1., -1., -1., -1., -1., -1.,\n",
       "       -1., -1., -1., -1., -1., -1., -1., -1., -1., -1., -1., -1., -1.,\n",
       "       -1., -1., -1., -1., -1., -1., -1., -1., -1., -1., -1., -1., -1.,\n",
       "       -1., -1., -1., -1., -1., -1., -1., -1., -1., -1., -1., -1., -1.,\n",
       "       -1., -1., -1., -1., -1., -1., -1., -1., -1., -1., -1., -1., -1.,\n",
       "       -1., -1., -1., -1., -1., -1., -1., -1., -1., -1., -1., -1., -1.,\n",
       "       -1., -1., -1., -1.,  1.])"
      ]
     },
     "execution_count": 3,
     "metadata": {},
     "output_type": "execute_result"
    }
   ],
   "source": [
    "# Example taken from http://scikit-learn.org/stable/auto_examples/semi_supervised/plot_label_propagation_structure.html\n",
    "# Authors: Clay Woolam <clay@woolam.org>\n",
    "#          Andreas Mueller <amueller@ais.uni-bonn.de>\n",
    "# License: BSD\n",
    "\n",
    "import numpy as np\n",
    "import matplotlib.pyplot as plt\n",
    "from sklearn.semi_supervised import label_propagation\n",
    "from sklearn.datasets import make_circles\n",
    "\n",
    "%matplotlib inline\n",
    "\n",
    "# generate ring with inner box\n",
    "n_samples = 200\n",
    "X, y = make_circles(n_samples=n_samples, shuffle=False)\n",
    "outer, inner = 0, 1\n",
    "labels = -np.ones(n_samples)\n",
    "labels[0] = outer\n",
    "labels[-1] = inner\n",
    "\n",
    "labels"
   ]
  },
  {
   "cell_type": "code",
   "execution_count": 4,
   "metadata": {
    "collapsed": false
   },
   "outputs": [
    {
     "data": {
      "text/plain": [
       "LabelSpreading(alpha=1.0, gamma=20, kernel='knn', max_iter=30, n_jobs=1,\n",
       "        n_neighbors=7, tol=0.001)"
      ]
     },
     "execution_count": 4,
     "metadata": {},
     "output_type": "execute_result"
    }
   ],
   "source": [
    "label_spread = label_propagation.LabelSpreading(kernel='knn', alpha=1.0)\n",
    "label_spread.fit(X, labels)"
   ]
  },
  {
   "cell_type": "code",
   "execution_count": 6,
   "metadata": {
    "collapsed": false
   },
   "outputs": [
    {
     "data": {
      "image/png": "[encoded data removed]",
      "text/plain": [
       "<matplotlib.figure.Figure at 0x28d26ad8898>"
      ]
     },
     "metadata": {},
     "output_type": "display_data"
    }
   ],
   "source": [
    "output_labels = label_spread.transduction_\n",
    "plt.figure(figsize=(12, 6))\n",
    "plt.subplot(1, 2, 1)\n",
    "plt.scatter(X[labels == outer, 0], X[labels == outer, 1], color='navy',\n",
    "            marker='s', lw=0, label=\"outer labeled\", s=10)\n",
    "plt.scatter(X[labels == inner, 0], X[labels == inner, 1], color='c',\n",
    "            marker='s', lw=0, label='inner labeled', s=10)\n",
    "plt.scatter(X[labels == -1, 0], X[labels == -1, 1], color='darkorange',\n",
    "            marker='.', label='unlabeled')\n",
    "plt.legend(scatterpoints=1, shadow=False, loc='upper right')\n",
    "plt.title(\"Raw data (2 classes=outer and inner)\")\n",
    "\n",
    "plt.subplot(1, 2, 2)\n",
    "output_label_array = np.asarray(output_labels)\n",
    "outer_numbers = np.where(output_label_array == outer)[0]\n",
    "inner_numbers = np.where(output_label_array == inner)[0]\n",
    "plt.scatter(X[outer_numbers, 0], X[outer_numbers, 1], color='navy',\n",
    "            marker='s', lw=0, s=10, label=\"outer learned\")\n",
    "plt.scatter(X[inner_numbers, 0], X[inner_numbers, 1], color='c',\n",
    "            marker='s', lw=0, s=10, label=\"inner learned\")\n",
    "plt.legend(scatterpoints=1, shadow=False, loc='upper right')\n",
    "plt.title(\"Labels learned with Label Spreading (KNN)\")\n",
    "\n",
    "plt.subplots_adjust(left=0.07, bottom=0.07, right=0.93, top=0.92)\n",
    "plt.show()"
   ]
  },
  {
   "cell_type": "markdown",
   "metadata": {},
   "source": [
    "[There is another example in the scikit learn documentation combining semi-supervised learning with active learning](http://scikit-learn.org/stable/auto_examples/semi_supervised/plot_label_propagation_digits_active_learning.html)"
   ]
  },
  {
   "cell_type": "code",
   "execution_count": null,
   "metadata": {
    "collapsed": true
   },
   "outputs": [],
   "source": []
  }
 ],
 "metadata": {
  "kernelspec": {
   "display_name": "Python 3",
   "language": "python",
   "name": "python3"
  },
  "language_info": {
   "codemirror_mode": {
    "name": "ipython",
    "version": 3
   },
   "file_extension": ".py",
   "mimetype": "text/x-python",
   "name": "python",
   "nbconvert_exporter": "python",
   "pygments_lexer": "ipython3",
   "version": "3.5.2"
  }
 },
 "nbformat": 4,
 "nbformat_minor": 0
}
