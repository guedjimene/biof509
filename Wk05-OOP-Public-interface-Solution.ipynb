{
 "cells": [
  {
   "cell_type": "markdown",
   "metadata": {},
   "source": [
    "##Assignments\n",
    "\n",
    "Modify the Ingredient and Recipe classes so that the following code works.\n",
    "\n"
   ]
  },
  {
   "cell_type": "code",
   "execution_count": 46,
   "metadata": {
    "collapsed": true
   },
   "outputs": [],
   "source": [
    "class Ingredient(object):\n",
    "    \"\"\"The ingredient object that contains nutritional information\"\"\"\n",
    "    \n",
    "    def __init__(self, name, data, protein=0, fat=0):\n",
    "        if type(data) == dict:\n",
    "            self.nutrition_store = data\n",
    "        else:\n",
    "            self.nutrition_store = {'carbs': data, 'protein':protein, 'fat': fat}\n",
    "        self.name = name\n",
    "        \n",
    "    \n",
    "    def __repr__(self):\n",
    "        return 'Ingredient({0}, {1})'.format(self.name, self.nutrition_store)\n",
    "    \n",
    "    @property\n",
    "    def nutrition(self):\n",
    "        \"\"\"Returns the nutritional information for the ingredient\"\"\"\n",
    "        return self.nutrition_store  \n",
    "\n",
    "class Recipe(object):\n",
    "    \"\"\"The Recipe object containing the ingredients\"\"\"\n",
    "    \n",
    "    def __init__(self, name, ingredients):\n",
    "        self.name = name\n",
    "        self.ingredients = ingredients\n",
    "        \n",
    "    def __repr__(self):\n",
    "        temp_str = []\n",
    "        for amount, ingredient in self.ingredients:\n",
    "            temp_str.append('({0}, {1})'.format(amount, ingredient))\n",
    "        return 'Recipe({0}, [{1}])'.format(self.name, ', '.join(temp_str))\n",
    "        \n",
    "        \n",
    "    @property    \n",
    "    def nutrition(self):\n",
    "        \"\"\"Returns the nutritional information for the recipe\"\"\"\n",
    "        nutrition = {}\n",
    "        for amount, ingredient in self.ingredients:\n",
    "            for key in ingredient.nutrition:\n",
    "                nutrition[key] = nutrition.get(key, 0) + amount * ingredient.nutrition[key]\n",
    "        return nutrition"
   ]
  },
  {
   "cell_type": "code",
   "execution_count": 47,
   "metadata": {
    "collapsed": false
   },
   "outputs": [
    {
     "name": "stdout",
     "output_type": "stream",
     "text": [
      "[(820, Ingredient(Flour, {'carbs': 0.77, 'fat': 0.01, 'protein': 0.1})), (30, Ingredient(Oil, {'carbs': 0, 'fat': 1, 'protein': 0})), (36, Ingredient(Sugar, {'carbs': 1, 'fat': 0, 'protein': 0})), (7, Ingredient(Yeast, {'carbs': 0.3125, 'fat': 0.0625, 'protein': 0.5})), (560, Ingredient(Water, {'carbs': 0, 'fat': 0, 'protein': 0}))]\n"
     ]
    }
   ],
   "source": [
    "bread = Recipe('Bread', [(820, Ingredient('Flour', 0.77, 0.10, 0.01)), \n",
    "                         (30, Ingredient('Oil', 0, 0, 1)), \n",
    "                         (36, Ingredient('Sugar', 1, 0, 0)), \n",
    "                         (7, Ingredient('Yeast', 0.3125, 0.5, 0.0625)),\n",
    "                         (560, Ingredient('Water', 0, 0, 0))])\n",
    "print(bread.ingredients)\n",
    "# Should be roughly [(820, Ingredient(Flour, 0.77, 0.1, 0.01)), (30, Ingredient(Oil, 0, 0, 1)), \n",
    "# (36, Ingredient(Sugar, 1, 0, 0)), (7, Ingredient(Yeast, 0.3125, 0.5, 0.0625)), (560, Ingredient(Water, 0, 0, 0))]"
   ]
  },
  {
   "cell_type": "code",
   "execution_count": 48,
   "metadata": {
    "collapsed": false
   },
   "outputs": [
    {
     "name": "stdout",
     "output_type": "stream",
     "text": [
      "{'carbs': 669.5875, 'fat': 38.6375, 'protein': 85.5}\n"
     ]
    }
   ],
   "source": [
    "print(bread.nutrition)\n",
    "#Should be roughly {'carbs': 669.5875, 'protein': 85.5, 'fat': 38.6375} the order is not important"
   ]
  },
  {
   "cell_type": "code",
   "execution_count": 49,
   "metadata": {
    "collapsed": false
   },
   "outputs": [
    {
     "name": "stdout",
     "output_type": "stream",
     "text": [
      "[(300, Ingredient(Egg, {'carbs': 0.0077, 'fat': 0.0994, 'protein': 0.1258, 'cholesterol': 0.00423})), (0.25, Recipe(Bread, [(820, Ingredient(Flour, {'carbs': 0.77, 'fat': 0.01, 'protein': 0.1})), (30, Ingredient(Oil, {'carbs': 0, 'fat': 1, 'protein': 0})), (36, Ingredient(Sugar, {'carbs': 1, 'fat': 0, 'protein': 0})), (7, Ingredient(Yeast, {'carbs': 0.3125, 'fat': 0.0625, 'protein': 0.5})), (560, Ingredient(Water, {'carbs': 0, 'fat': 0, 'protein': 0}))]))]\n"
     ]
    }
   ],
   "source": [
    "#Points to note:\n",
    "# - The different call to Ingredient, you can use isinstance or type to change the \n",
    "#   behaviour depending on the arguments supplied\n",
    "# - Cholesterol as an extra nutrient, your implementation should accept any nutrient\n",
    "# - Use of Recipe (bread) as an ingredient\n",
    "basic_french_toast = Recipe('Basic French Toast', [(300, Ingredient('Egg', {'carbs': 0.0077, 'protein': 0.1258, \n",
    "                                                                            'fat': 0.0994, 'cholesterol': 0.00423})), \n",
    "                                                  (0.25, bread)])\n",
    "print(basic_french_toast.ingredients)\n",
    "# Should be roughly:\n",
    "# [(300, Ingredient(Egg, 0.0077, 0.1258, 0.0994)), (0.25, Recipe(Bread, [(820, Ingredient(Flour, 0.77, 0.1, 0.01)), \n",
    "# (30, Ingredient(Oil, 0, 0, 1)), (36, Ingredient(Sugar, 1, 0, 0)), (7, Ingredient(Yeast, 0.3125, 0.5, 0.0625)), \n",
    "# (560, Ingredient(Water, 0, 0, 0))]))]\n",
    "# Note the formatting for the Recipe object, a __repr__ method will be needed"
   ]
  },
  {
   "cell_type": "code",
   "execution_count": 50,
   "metadata": {
    "collapsed": false
   },
   "outputs": [
    {
     "name": "stdout",
     "output_type": "stream",
     "text": [
      "{'carbs': 169.706875, 'fat': 39.479375000000005, 'protein': 59.115, 'cholesterol': 1.2690000000000001}\n"
     ]
    }
   ],
   "source": [
    "print(basic_french_toast.nutrition)\n",
    "# Should be roughly {'protein': 59.115, 'carbs': 169.706875, 'cholesterol': 1.2690000000000001, 'fat': 39.479375000000005}\n",
    "# The order is not important"
   ]
  }
 ],
 "metadata": {
  "kernelspec": {
   "display_name": "Python 3",
   "language": "python",
   "name": "python3"
  },
  "language_info": {
   "codemirror_mode": {
    "name": "ipython",
    "version": 3
   },
   "file_extension": ".py",
   "mimetype": "text/x-python",
   "name": "python",
   "nbconvert_exporter": "python",
   "pygments_lexer": "ipython3",
   "version": "3.5.1"
  }
 },
 "nbformat": 4,
 "nbformat_minor": 0
}
