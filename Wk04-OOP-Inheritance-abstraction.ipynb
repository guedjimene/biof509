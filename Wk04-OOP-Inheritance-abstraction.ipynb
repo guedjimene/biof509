{
 "cells": [
  {
   "cell_type": "markdown",
   "metadata": {},
   "source": [
    "# Week 4 - Inheritance and abstraction. Graphical User Interfaces (GUIs)\n",
    "\n",
    "\n",
    "## Learning Objectives\n",
    "\n",
    "* Describe inheritance in the context of object oriented programming\n",
    "* List situations in which inheritance is useful\n",
    "* Create an abstract class\n",
    "* Contrast control abstraction with data abstraction\n",
    "* Implement a simple graphic user interface"
   ]
  },
  {
   "cell_type": "markdown",
   "metadata": {},
   "source": [
    "Last week we looked at several example projects and the classes we might use to implement them."
   ]
  },
  {
   "cell_type": "markdown",
   "metadata": {},
   "source": [
    "###Example 1: A Laboratory Inventory\n",
    "\n",
    "I would like to keep track of all the __items__ in the __laboratory__ so I can easily find them the next time I need them. Both __equipment__ and __consumables__ would be tracked. We have multiple __rooms__, and items can be on __shelves__, in __refrigerators__, in __freezers__, etc. Items can also be in __boxes__ containing other items in all these places.\n",
    "\n",
    "The words in __bold__ would all be good ideas to turn into classes. Now we know some of the classes we will need we can start to think about what each of these classes should do, what the methods will be. Let's consider the consumables class:\n",
    "\n",
    "For consumables we will need to manage their use so there should be an initial quantity and a quantity remaining that is updated every time we use some. We want to make sure that temperature sensitive consumables are always stored at the correct temperature, and that flammables are stored in a flammables cabinet etc.\n",
    "\n",
    "The consumable class will need a number of attributes:\n",
    "\n",
    "* Initial quantity\n",
    "* Current quantity\n",
    "* Storage temperature\n",
    "* Flammability\n",
    "\n",
    "The consumable class will need methods to:\n",
    "\n",
    "* Update the quantity remaining\n",
    "* Check for improper storage?\n",
    "\n",
    "The consumable class might interact with the shelf, refrigerator, freezer, and/or box classes.\n",
    "\n",
    "Reading back through our description of consumables there is reference to a flammables cabinet that was not mentioned in our initial description of the problem. This is an iterative design process so we should go back and add a flammables cabinet class. "
   ]
  },
  {
   "cell_type": "markdown",
   "metadata": {},
   "source": [
    "If we expand our list to all the classes we plan to use we get the following:\n",
    "\n",
    "* __Items__\n",
    "  * Attributes\n",
    "    * Name\n",
    "    * Description\n",
    "    * Location\n",
    "  * Methods\n",
    "    * Update location\n",
    "  * Interactions\n",
    "    * Every other class except items and consumables\n",
    "* __Laboratory__\n",
    "  * Attributes\n",
    "    * ?\n",
    "  * Methods\n",
    "    * Search\n",
    "  * Interactions\n",
    "    * Every other class\n",
    "* __Equipment__\n",
    "  * Attributes\n",
    "    * Name\n",
    "    * Description\n",
    "    * Location\n",
    "  * Methods\n",
    "    * Update location\n",
    "  * Interactions\n",
    "    * Every other class except items and consumables\n",
    "* __Consumables__\n",
    "  * Attributes\n",
    "    * Name\n",
    "    * Description\n",
    "    * Location\n",
    "    * Initial quantity\n",
    "    * Current quantity\n",
    "    * Storage temperature\n",
    "    * Flammability\n",
    "  * Methods\n",
    "    * Update location\n",
    "    * Update quantity remaining\n",
    "    * Check for appropriate storage\n",
    "  * Interactions\n",
    "    * Every other class except equipment and items\n",
    "* __Rooms__\n",
    "  * Attributes\n",
    "    * Name\n",
    "    * Description\n",
    "    * Location\n",
    "    * Storage locations within this location\n",
    "    * Items stored here\n",
    "  * Methods\n",
    "    * Search\n",
    "  * Interactions\n",
    "    * Every other class\n",
    "* __Shelves__\n",
    "  * Attributes\n",
    "    * Name\n",
    "    * Description\n",
    "    * Location\n",
    "    * Storage locations within this location\n",
    "    * Items stored here\n",
    "  * Methods\n",
    "    * Search\n",
    "  * Interactions\n",
    "    * Every other class possible although refrigerator and freezer are unlikely\n",
    "* __Refrigerators__\n",
    "  * Attributes\n",
    "    * Name\n",
    "    * Description\n",
    "    * Location\n",
    "    * Storage locations within this location\n",
    "    * Items stored here\n",
    "    * Temperature\n",
    "  * Methods\n",
    "    * Search\n",
    "  * Interactions\n",
    "    * Every other class possible although freezer and flammables cabinet unlikely\n",
    "* __Freezers__\n",
    "  * Attributes\n",
    "    * Name\n",
    "    * Description\n",
    "    * Location\n",
    "    * Storage locations within this location\n",
    "    * Items stored here\n",
    "    * Temperature\n",
    "  * Methods\n",
    "    * Search\n",
    "  * Interactions\n",
    "    * Every other class possible although refrigerator and flammables cabinet unlikely\n",
    "* __Boxes__\n",
    "  * Attributes\n",
    "    * Name\n",
    "    * Description\n",
    "    * Location\n",
    "    * Storage locations within this location\n",
    "    * Items stored here\n",
    "  * Methods\n",
    "    * Search\n",
    "  * Interactions\n",
    "    * Every other class\n",
    "* __Flammables Cabinet__\n",
    "  * Attributes\n",
    "    * Name\n",
    "    * Description\n",
    "    * Location\n",
    "    * Storage locations within this location\n",
    "    * Items stored here\n",
    "  * Methods\n",
    "    * Search\n",
    "  * Interactions\n",
    "    * Every other class possible although refrigerator and freezer unlikely"
   ]
  },
  {
   "cell_type": "markdown",
   "metadata": {},
   "source": [
    "Although this is a long list careful examination reveals that there is a lot of repetition.\n",
    "\n",
    "Items and equipment are identical and consumables is similar, adding several extra attributes and methods.\n",
    "\n",
    "Rooms, shelves, refrigerators, freezers, boxes and flammables cabinet are all similar, only differing in the occasional attribute.\n",
    "\n",
    "Our three main groups are:\n",
    "* Laboratory\n",
    "* Items (Items, equipment, and consumables)\n",
    "* Locations (Rooms, shelves, refrigerators, freezers, boxes and flammables cabinet)\n",
    "\n",
    "So much duplication is problematic, it is diffcult to maintain and subject to greater risk of bugs. \n",
    "\n",
    "There is a better way - we can create a generic class with the shared functionality and then __inherit__ from it when we create the other classes.\n",
    "\n",
    "For example an Item class would contain the basic attributes and methods. The Equipment class could then inherit from this class without modification. The Consumable class would also inherit from Item and only add the extra attributes and methods uniquely need by the Consumable class."
   ]
  },
  {
   "cell_type": "code",
   "execution_count": null,
   "metadata": {
    "collapsed": true
   },
   "outputs": [],
   "source": [
    "class Item(object):\n",
    "    \n",
    "    \n",
    "    def __init__(self, name, description, location):\n",
    "        self.name = name\n",
    "        self.description = description\n",
    "        self.location = location\n",
    "        \n",
    "        \n",
    "    def update_location(self, new_location):\n",
    "        pass\n",
    "\n",
    "class Equipment(Item):\n",
    "    pass\n",
    "\n",
    "class Consumable(Item):\n",
    "    \n",
    "    \n",
    "    def __init__(self, name, description, location, initial_quantity, current_quantity, storage_temp, flammability):\n",
    "        self.name = name\n",
    "        self.description = description\n",
    "        self.location = location\n",
    "        self.initial_quantity = initial_quantity\n",
    "        self.current_quantity = current_quantity\n",
    "        self.flammability = flammability\n",
    "        \n",
    "        \n",
    "    def update_quantity_remaining(self, amount):\n",
    "        pass"
   ]
  },
  {
   "cell_type": "markdown",
   "metadata": {},
   "source": [
    "There is one other situation we should consider. Occasionally we will want a class of a particular type to always implement a particular method even though we are unable to implement that method in our parent class. We need some way of raising an error when the parent class is inherited and the method is not implemented.\n",
    "\n",
    "As a simple example consider a class representing length. We might create classes for meters, miles, feet, etc. Keeping the original units when performing operations (adding, subtracting, etc) would prevent rounding errors but each class would need custom logic.\n",
    "\n",
    "Returning to our laboratory inventory system one way we can implement this is below:"
   ]
  },
  {
   "cell_type": "code",
   "execution_count": 2,
   "metadata": {
    "collapsed": false
   },
   "outputs": [],
   "source": [
    "class Item(object):\n",
    "    def safely_stored(self):\n",
    "        raise NotImplementedError('override in subclass')\n",
    "        \n",
    "class Consumable(Item):\n",
    "    def safely_stored(self):\n",
    "        return True"
   ]
  },
  {
   "cell_type": "code",
   "execution_count": 3,
   "metadata": {
    "collapsed": true
   },
   "outputs": [],
   "source": [
    "a = Item()"
   ]
  },
  {
   "cell_type": "code",
   "execution_count": 4,
   "metadata": {
    "collapsed": false
   },
   "outputs": [
    {
     "ename": "NotImplementedError",
     "evalue": "override in subclass",
     "output_type": "error",
     "traceback": [
      "\u001b[1;31m---------------------------------------------------------------------------\u001b[0m",
      "\u001b[1;31mNotImplementedError\u001b[0m                       Traceback (most recent call last)",
      "\u001b[1;32m<ipython-input-4-1dd117dbca72>\u001b[0m in \u001b[0;36m<module>\u001b[1;34m()\u001b[0m\n\u001b[1;32m----> 1\u001b[1;33m \u001b[0ma\u001b[0m\u001b[1;33m.\u001b[0m\u001b[0msafely_stored\u001b[0m\u001b[1;33m(\u001b[0m\u001b[1;33m)\u001b[0m\u001b[1;33m\u001b[0m\u001b[0m\n\u001b[0m",
      "\u001b[1;32m<ipython-input-2-6c6d5d433ee9>\u001b[0m in \u001b[0;36msafely_stored\u001b[1;34m(self)\u001b[0m\n\u001b[0;32m      1\u001b[0m \u001b[1;32mclass\u001b[0m \u001b[0mItem\u001b[0m\u001b[1;33m(\u001b[0m\u001b[0mobject\u001b[0m\u001b[1;33m)\u001b[0m\u001b[1;33m:\u001b[0m\u001b[1;33m\u001b[0m\u001b[0m\n\u001b[0;32m      2\u001b[0m     \u001b[1;32mdef\u001b[0m \u001b[0msafely_stored\u001b[0m\u001b[1;33m(\u001b[0m\u001b[0mself\u001b[0m\u001b[1;33m)\u001b[0m\u001b[1;33m:\u001b[0m\u001b[1;33m\u001b[0m\u001b[0m\n\u001b[1;32m----> 3\u001b[1;33m         \u001b[1;32mraise\u001b[0m \u001b[0mNotImplementedError\u001b[0m\u001b[1;33m(\u001b[0m\u001b[1;34m'override in subclass'\u001b[0m\u001b[1;33m)\u001b[0m\u001b[1;33m\u001b[0m\u001b[0m\n\u001b[0m\u001b[0;32m      4\u001b[0m \u001b[1;33m\u001b[0m\u001b[0m\n\u001b[0;32m      5\u001b[0m \u001b[1;32mclass\u001b[0m \u001b[0mConsumable\u001b[0m\u001b[1;33m(\u001b[0m\u001b[0mItem\u001b[0m\u001b[1;33m)\u001b[0m\u001b[1;33m:\u001b[0m\u001b[1;33m\u001b[0m\u001b[0m\n",
      "\u001b[1;31mNotImplementedError\u001b[0m: override in subclass"
     ]
    }
   ],
   "source": [
    "a.safely_stored()"
   ]
  },
  {
   "cell_type": "code",
   "execution_count": 5,
   "metadata": {
    "collapsed": true
   },
   "outputs": [],
   "source": [
    "b = Consumable()"
   ]
  },
  {
   "cell_type": "code",
   "execution_count": 6,
   "metadata": {
    "collapsed": false
   },
   "outputs": [
    {
     "data": {
      "text/plain": [
       "True"
      ]
     },
     "execution_count": 6,
     "metadata": {},
     "output_type": "execute_result"
    }
   ],
   "source": [
    "b.safely_stored()"
   ]
  },
  {
   "cell_type": "markdown",
   "metadata": {},
   "source": [
    "A disadvantage with this approach is we only see the error message when we call the method. The error is in the way we implemented the class so it would be more intuitive to get an error earlier, when we first create the object.\n",
    "\n",
    "This can be achieved using the [abstract method decorator](https://docs.python.org/3.5/library/abc.html)."
   ]
  },
  {
   "cell_type": "code",
   "execution_count": 7,
   "metadata": {
    "collapsed": false
   },
   "outputs": [],
   "source": [
    "from abc import ABCMeta, abstractmethod\n",
    "\n",
    "class Item(metaclass=ABCMeta):\n",
    "    @abstractmethod\n",
    "    def safely_stored(self):\n",
    "        pass\n",
    "\n",
    "class Consumable(Item):\n",
    "    def safely_stored(self):\n",
    "        return True"
   ]
  },
  {
   "cell_type": "code",
   "execution_count": 8,
   "metadata": {
    "collapsed": false
   },
   "outputs": [
    {
     "ename": "TypeError",
     "evalue": "Can't instantiate abstract class Item with abstract methods safely_stored",
     "output_type": "error",
     "traceback": [
      "\u001b[1;31m---------------------------------------------------------------------------\u001b[0m",
      "\u001b[1;31mTypeError\u001b[0m                                 Traceback (most recent call last)",
      "\u001b[1;32m<ipython-input-8-ce8b442bf843>\u001b[0m in \u001b[0;36m<module>\u001b[1;34m()\u001b[0m\n\u001b[1;32m----> 1\u001b[1;33m \u001b[0ma\u001b[0m \u001b[1;33m=\u001b[0m \u001b[0mItem\u001b[0m\u001b[1;33m(\u001b[0m\u001b[1;33m)\u001b[0m\u001b[1;33m\u001b[0m\u001b[0m\n\u001b[0m",
      "\u001b[1;31mTypeError\u001b[0m: Can't instantiate abstract class Item with abstract methods safely_stored"
     ]
    }
   ],
   "source": [
    "a = Item()"
   ]
  },
  {
   "cell_type": "code",
   "execution_count": 9,
   "metadata": {
    "collapsed": false
   },
   "outputs": [
    {
     "data": {
      "text/plain": [
       "True"
      ]
     },
     "execution_count": 9,
     "metadata": {},
     "output_type": "execute_result"
    }
   ],
   "source": [
    "b = Consumable()\n",
    "b.safely_stored()"
   ]
  },
  {
   "cell_type": "markdown",
   "metadata": {
    "collapsed": true
   },
   "source": [
    "Either of these approaches work well for adding new methods or completely changing the behaviour of a method. Often we only need to make a more subtle change. In this situation it can be useful to call a method from a parent class while only implementing our new functionality in the child class.\n",
    "\n",
    "\n",
    "There are two approaches for this."
   ]
  },
  {
   "cell_type": "code",
   "execution_count": 1,
   "metadata": {
    "collapsed": false
   },
   "outputs": [
    {
     "name": "stdout",
     "output_type": "stream",
     "text": [
      "a in class A\n",
      "a in class A\n",
      "b in class B\n"
     ]
    }
   ],
   "source": [
    "class A(object):\n",
    "    def a(self):\n",
    "        print('a in class A')\n",
    "\n",
    "class B(A):\n",
    "    def a(self):\n",
    "        A.a(self)\n",
    "        print('b in class B')\n",
    "\n",
    "a = A()\n",
    "a.a()\n",
    "\n",
    "b = B()\n",
    "b.a()"
   ]
  },
  {
   "cell_type": "code",
   "execution_count": 2,
   "metadata": {
    "collapsed": false
   },
   "outputs": [
    {
     "name": "stdout",
     "output_type": "stream",
     "text": [
      "a in class A\n",
      "a in class A\n",
      "b in class B\n"
     ]
    }
   ],
   "source": [
    "class A(object):\n",
    "    def a(self):\n",
    "        print('a in class A')\n",
    "\n",
    "class B(A):\n",
    "    def a(self):\n",
    "        super().a()\n",
    "        print('b in class B')\n",
    "\n",
    "a = A()\n",
    "a.a()\n",
    "\n",
    "b = B()\n",
    "b.a()"
   ]
  },
  {
   "cell_type": "markdown",
   "metadata": {},
   "source": [
    "Using super() is usually the best approach, the reasons for this are covered in detail in [this blog post](https://rhettinger.wordpress.com/2011/05/26/super-considered-super/)"
   ]
  },
  {
   "cell_type": "markdown",
   "metadata": {},
   "source": [
    "## Multiple Inheritance\n",
    "\n",
    "We are not limited to inheriting from a single class. It is possible to merge functionality from multiple different classes simply by inheriting from them.\n",
    "\n",
    "When inheriting from multiple classes that contain a method or attribute with the same name there is a particular order in which the names are resolved."
   ]
  },
  {
   "cell_type": "code",
   "execution_count": 18,
   "metadata": {
    "collapsed": false
   },
   "outputs": [
    {
     "name": "stdout",
     "output_type": "stream",
     "text": [
      "A-a\n",
      "A2-a\n",
      "A-a\n"
     ]
    }
   ],
   "source": [
    "class A(object):\n",
    "    def a(self):\n",
    "        print('A-a')\n",
    "\n",
    "class A2(object):\n",
    "    def a(self):\n",
    "        print('A2-a')\n",
    "\n",
    "class B(A, A2):\n",
    "    pass\n",
    "\n",
    "a = A()\n",
    "a.a()\n",
    "\n",
    "a2 = A2()\n",
    "a2.a()\n",
    "\n",
    "b = B()\n",
    "b.a()"
   ]
  },
  {
   "cell_type": "code",
   "execution_count": 21,
   "metadata": {
    "collapsed": false
   },
   "outputs": [
    {
     "name": "stdout",
     "output_type": "stream",
     "text": [
      "A-a\n",
      "A2-a\n",
      "A-a\n"
     ]
    }
   ],
   "source": [
    "class A(object):\n",
    "    def a(self):\n",
    "        print('A-a')\n",
    "\n",
    "class A2(object):\n",
    "    def a(self):\n",
    "        print('A2-a')\n",
    "\n",
    "class B(A):\n",
    "    pass\n",
    "\n",
    "class C(B, A2):\n",
    "    pass\n",
    "\n",
    "a = A()\n",
    "a.a()\n",
    "\n",
    "a2 = A2()\n",
    "a2.a()\n",
    "\n",
    "c = C()\n",
    "c.a()"
   ]
  },
  {
   "cell_type": "markdown",
   "metadata": {},
   "source": [
    "A simple rule-of-thumb is that search is depth first. [The details](https://en.wikipedia.org/wiki/C3_linearization) are a little more complicated."
   ]
  },
  {
   "cell_type": "markdown",
   "metadata": {},
   "source": [
    "## isinstance\n",
    "\n",
    "Often we need to check whether a particular variable is an instance of a particular class. For example, returning to our laboratory inventory system we would want to check that we only add instances of `Item` or its subclasses to our storage locations."
   ]
  },
  {
   "cell_type": "code",
   "execution_count": 11,
   "metadata": {
    "collapsed": false
   },
   "outputs": [
    {
     "data": {
      "text/plain": [
       "True"
      ]
     },
     "execution_count": 11,
     "metadata": {},
     "output_type": "execute_result"
    }
   ],
   "source": [
    "isinstance(a, Item)"
   ]
  },
  {
   "cell_type": "code",
   "execution_count": 12,
   "metadata": {
    "collapsed": false
   },
   "outputs": [
    {
     "data": {
      "text/plain": [
       "True"
      ]
     },
     "execution_count": 12,
     "metadata": {},
     "output_type": "execute_result"
    }
   ],
   "source": [
    "isinstance(b, Consumable)"
   ]
  },
  {
   "cell_type": "code",
   "execution_count": 13,
   "metadata": {
    "collapsed": false
   },
   "outputs": [
    {
     "data": {
      "text/plain": [
       "True"
      ]
     },
     "execution_count": 13,
     "metadata": {},
     "output_type": "execute_result"
    }
   ],
   "source": [
    "isinstance(b, Item)"
   ]
  },
  {
   "cell_type": "code",
   "execution_count": 14,
   "metadata": {
    "collapsed": false
   },
   "outputs": [
    {
     "data": {
      "text/plain": [
       "False"
      ]
     },
     "execution_count": 14,
     "metadata": {},
     "output_type": "execute_result"
    }
   ],
   "source": [
    "isinstance(a, Consumable)"
   ]
  },
  {
   "cell_type": "markdown",
   "metadata": {},
   "source": [
    "##Duck typing\n",
    "\n",
    "A popular alternative in python is duck typing, an approach named after the idea that,\n",
    "\n",
    "`If it looks like a duck, swims like a duck, and quacks like a duck, then it probably is a duck.`\n",
    "\n",
    "What this means for programming is that instead of checking for a particular class, instead the methods and attributes that are actually needed are checked for."
   ]
  },
  {
   "cell_type": "markdown",
   "metadata": {},
   "source": [
    "## Graphical User Interfaces\n",
    "\n",
    "Object oriented programming and particularly inheritance is commonly used for creating GUIs. There are [a large number](https://wiki.python.org/moin/GuiProgramming) of different frameworks supporting building GUIs. The following are particularly relevant:\n",
    "\n",
    "* [TkInter](https://docs.python.org/3.5/library/tkinter.html) - This is the official/default GUI framework\n",
    "* [guidata](https://pythonhosted.org/guidata/) - A GUI framework for dataset display and editing\n",
    "* [VTK](http://www.vtk.org/) - A GUI framework for data visualization\n",
    "* [pyqtgraph](http://www.pyqtgraph.org/documentation/index.html) - A GUI framework for data visualization, easily installed with `conda install pyqtgraph`\n",
    "* [matplotlib](http://matplotlib.org/) - As well as creating plots matplotlib can support interaction"
   ]
  },
  {
   "cell_type": "code",
   "execution_count": null,
   "metadata": {
    "collapsed": true
   },
   "outputs": [],
   "source": []
  }
 ],
 "metadata": {
  "kernelspec": {
   "display_name": "Python 3",
   "language": "python",
   "name": "python3"
  },
  "language_info": {
   "codemirror_mode": {
    "name": "ipython",
    "version": 3
   },
   "file_extension": ".py",
   "mimetype": "text/x-python",
   "name": "python",
   "nbconvert_exporter": "python",
   "pygments_lexer": "ipython3",
   "version": "3.4.3"
  }
 },
 "nbformat": 4,
 "nbformat_minor": 0
}
