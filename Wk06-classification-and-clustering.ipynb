{
 "cells": [
  {
   "cell_type": "code",
   "execution_count": 25,
   "metadata": {
    "collapsed": false
   },
   "outputs": [],
   "source": [
    "from collections import defaultdict, Counter\n",
    "import urllib\n",
    "\n",
    "import numpy as np\n",
    "import matplotlib.pyplot as plt\n",
    "import matplotlib.gridspec as gridspec\n",
    "\n",
    "from sklearn import (preprocessing, manifold, datasets, decomposition, ensemble,\n",
    "                     discriminant_analysis, random_projection, cluster, metrics)\n",
    "\n",
    "import scipy.cluster.hierarchy\n",
    "import scipy.spatial.distance\n",
    "\n",
    "from sklearn.metrics import pairwise_distances\n",
    "\n",
    "import seaborn as sns\n",
    "import pandas as pd\n",
    "\n",
    "%matplotlib inline"
   ]
  },
  {
   "cell_type": "markdown",
   "metadata": {},
   "source": [
    "##  Classification\n",
    "\n",
    "* In case of classification, predicted dependent variable is categoric, denoting a class\n",
    "\n",
    "In classification problems we distinguish:\n",
    "* binary classification (predicting on of the two classes)\n",
    "* multiclass or multivariate classification (predicting one of more than two classes)\n",
    "* multilabel classification (predicting several class labels out of more than two classes)\n",
    "\n",
    "\n",
    "## Clustering\n",
    "In clustering we attempt to group observations in such a way that observations assigned to the same cluster are more similar to each other than to observations in other clusters. Usually, the number of categories (clusters) is also unknown.\n",
    "\n",
    "\n",
    "![ML Map](http://scikit-learn.org/stable/_static/ml_map.png)"
   ]
  },
  {
   "cell_type": "code",
   "execution_count": 37,
   "metadata": {
    "collapsed": false
   },
   "outputs": [
    {
     "name": "stdout",
     "output_type": "stream",
     "text": [
      "[0 1 2 ..., 8 9 8]\n",
      "(1797, 64)\n",
      "(1797,)\n",
      "Total 1797 examples\n"
     ]
    },
    {
     "data": {
      "image/png": "[encoded data removed]",
      "text/plain": [
       "<matplotlib.figure.Figure at 0x117d83978>"
      ]
     },
     "metadata": {},
     "output_type": "display_data"
    }
   ],
   "source": [
    "# Example of a classification problem:\n",
    "\n",
    "digits = datasets.load_digits()\n",
    "\n",
    "# X - how digits are handwritten\n",
    "X = digits['data']\n",
    "\n",
    "# y - what these digits actually are\n",
    "y = digits['target']\n",
    "print(y)\n",
    "\n",
    "print(X.shape)\n",
    "print(y.shape)\n",
    "print(\"Total 1797 examples\")\n",
    "\n",
    "plt.imshow(X[3].reshape((8,8)),  cmap=plt.cm.gray)\n",
    "plt.show()\n"
   ]
  },
  {
   "cell_type": "markdown",
   "metadata": {},
   "source": [
    "* We can consider classification of digits as a multiclass classification or as 10 binary One-vs-All classification problems\n",
    "\n",
    "* In case of multilabel classification we can identify more than one class, e.g. for a handwritten number (12) identify labels 1 and 2.\n"
   ]
  },
  {
   "cell_type": "markdown",
   "metadata": {},
   "source": [
    "## Evalutaion of binary classifiers\n",
    "\n",
    "### Positives and Negatives\n",
    "\n",
    "* True Positive - we predicted \"+\" and the true class is \"+\"\n",
    "* True Negative - we predicted \"-\" and the true class is \"-\"\n",
    "* False Positive - we predicted \"+\" and the true class is \"-\" (Type I error)\n",
    "* False Negative - we predicted \"-\" and the true class is \"+\" (Type II error)\n",
    "(see also Statistical Tests of Significance#Type I and Type II Errors)\n",
    "\n",
    "* Positive predictive value (or precision)\n",
    "P = TP/TP+FP\n",
    "Negative predictive value\n",
    "\n",
    "* True Positive Rate (also Sensitivity or Recall)\n",
    "Fraction of positive examples correctly classified\n",
    "tpr = TP/TP+FN\n",
    "\n",
    "* False Positive Rate (also Fall-Out)\n",
    "Fraction of negative examples incorrectly classified\n",
    "fpr = FP/FP+TN\n",
    "\n",
    "### Sensitivity and Specificity\n",
    "\n",
    "\n",
    "### Receiver Operator Curves\n",
    "\n",
    "* 1 - Specificity vs 1 - Sensitivity\n",
    "* There's a trade-off between them\n",
    "\n",
    "\n",
    "### Precision and Recall\n",
    "\n",
    "Precision and Recall are quality metrics used across many domains. Originally it's from Information Retrieval, also used in Machine Learning.\n",
    "\n",
    "* Precision: % of relevant documents in the result\n",
    "* Recall: % of retrieved relevant documents\n",
    "* F-measure is a combination of precision and recall\n",
    "\n",
    "![PR2](https://wikimedia.org/api/rest_v1/media/math/render/svg/feba1026013cff9ffe62933267f981c2caa4bddb)\n",
    "\n",
    "\n",
    "\n",
    "### Precision/Recall Curves\n",
    "\n",
    "* If we retrieve more document, we improve recall (if return all docs, R=1)\n",
    "* if we retrieve fewer documents, we improve precision, but reduce recall, so there's a trade-off between them\n",
    "\n",
    "![PR](https://upload.wikimedia.org/wikipedia/commons/thumb/2/26/Precisionrecall.svg/440px-Precisionrecall.svg.png)\n"
   ]
  },
  {
   "cell_type": "code",
   "execution_count": 38,
   "metadata": {
    "collapsed": false
   },
   "outputs": [
    {
     "name": "stdout",
     "output_type": "stream",
     "text": [
      "[0 1 2 ..., 8 9 8]\n",
      "[[1 0 0 ..., 0 0 0]\n",
      " [0 1 0 ..., 0 0 0]\n",
      " [0 0 1 ..., 0 0 0]\n",
      " ..., \n",
      " [0 0 0 ..., 0 1 0]\n",
      " [0 0 0 ..., 0 0 1]\n",
      " [0 0 0 ..., 0 1 0]]\n"
     ]
    }
   ],
   "source": [
    "import numpy as np\n",
    "import matplotlib.pyplot as plt\n",
    "from itertools import cycle\n",
    "\n",
    "from sklearn import svm, datasets\n",
    "from sklearn.metrics import roc_curve, auc\n",
    "from sklearn.model_selection import train_test_split\n",
    "from sklearn.preprocessing import label_binarize\n",
    "from sklearn.multiclass import OneVsRestClassifier\n",
    "from scipy import interp\n",
    "\n",
    "# Import some data to play with\n",
    "# iris = datasets.load_iris()\n",
    "# X = iris.data\n",
    "# y = iris.target\n",
    "\n",
    "# Binarize the output\n",
    "print(y)\n",
    "y_bin = label_binarize(y, classes=[0,1,2,3,4,5,6,7,8,9])\n",
    "print(y_bin)\n",
    "n_classes = y_bin.shape[1]\n",
    "\n",
    "# shuffle and split training and test sets\n",
    "X_train, X_test, y_train, y_test = train_test_split(X, y_bin, test_size=.5)\n",
    "\n",
    "# Learn to predict each class against the other\n",
    "classifier = OneVsRestClassifier(svm.SVC(kernel='linear', probability=True))\n",
    "y_score = classifier.fit(X_train, y_train).decision_function(X_test)\n",
    "\n",
    "# Compute ROC curve and ROC area for each class\n",
    "fpr = dict()\n",
    "tpr = dict()\n",
    "roc_auc = dict()\n",
    "for i in range(n_classes):\n",
    "    fpr[i], tpr[i], _ = roc_curve(y_test[:, i], y_score[:, i])\n",
    "    roc_auc[i] = auc(fpr[i], tpr[i])\n",
    "\n",
    "# Compute micro-average ROC curve and ROC area\n",
    "fpr[\"micro\"], tpr[\"micro\"], _ = roc_curve(y_test.ravel(), y_score.ravel())\n",
    "roc_auc[\"micro\"] = auc(fpr[\"micro\"], tpr[\"micro\"])\n"
   ]
  },
  {
   "cell_type": "code",
   "execution_count": 45,
   "metadata": {
    "collapsed": false
   },
   "outputs": [
    {
     "data": {
      "image/png": "[encoded data removed]",
      "text/plain": [
       "<matplotlib.figure.Figure at 0x117ee6208>"
      ]
     },
     "metadata": {},
     "output_type": "display_data"
    }
   ],
   "source": [
    "plt.figure()\n",
    "lw = 2\n",
    "category = 9\n",
    "plt.plot(fpr[category], tpr[category], color='darkorange',\n",
    "         lw=lw, label='ROC curve (area = %0.2f)' % roc_auc[category])\n",
    "plt.plot([0, 1], [0, 1], color='navy', lw=lw, linestyle='--')\n",
    "plt.xlim([0.0, 1.0])\n",
    "plt.ylim([0.0, 1.05])\n",
    "plt.xlabel('False Positive Rate')\n",
    "plt.ylabel('True Positive Rate')\n",
    "plt.title('Receiver operating characteristic for digit ' + str(category))\n",
    "plt.legend(loc=\"lower right\")\n",
    "plt.show()"
   ]
  },
  {
   "cell_type": "code",
   "execution_count": 62,
   "metadata": {
    "collapsed": false
   },
   "outputs": [],
   "source": [
    "# classification_report"
   ]
  },
  {
   "cell_type": "code",
   "execution_count": null,
   "metadata": {
    "collapsed": false
   },
   "outputs": [],
   "source": []
  },
  {
   "cell_type": "markdown",
   "metadata": {
    "collapsed": false
   },
   "source": [
    "# Unsupervised classification methods\n",
    "\n",
    "\n",
    "## Clustering\n",
    "\n",
    "In clustering we attempt to group observations in such a way that observations assigned to the same cluster are more similar to each other than to observations in other clusters.\n",
    "\n",
    "Although labels may be known, clustering is usually performed on unlabeled data as a step in exploratory data analysis.\n",
    "\n",
    "The best method to use will vary developing on the particular problem.\n",
    "\n",
    "## Evaluation of clustering\n",
    "\n",
    "* How to measure success of clustering without true class labels?\n",
    "* How to find the optimal number of clusters?\n",
    "* Which clustering method to choose with what parameters?\n",
    "\n",
    "\n",
    "### Model evaluation\n",
    "\n",
    "Several approaches have been developed for evaluating clustering models but are generally limited in requiring the true clusters to be known. In the general use case for clustering this is not known with the goal being exploratory. \n",
    "\n",
    "Ultimately, a model is just a tool to better understand the structure of our data. If we are able to gain insight from using a clustering algorithm then it has served its purpose.\n",
    "\n",
    "[The metrics](http://scikit-learn.org/stable/modules/clustering.html#clustering-performance-evaluation) available are Adjusted Rand Index, Mutual Information based scores, Homogeneity, completeness, v-measure, and silhouette coefficient. Of these, only the silhouette coefficient does not require the true clusters to be known.\n",
    "\n",
    "Although the silhouette coefficient can be useful it takes a very similar approach to k-means, favoring convex clusters over more complex, equally valid, clusters.\n",
    "\n",
    "### How to determine number of clusters\n",
    "\n",
    "One important use for the model evaluation algorithms is in choosing the number of clusters. The clustering algorithms take as parameters either the number of clusters to partition a dataset into or other scaling factors that ultimately determine the number of clusters. It is left to the user to determine the correct value for these parameters.\n",
    "\n",
    "As the number of clusters increases the fit to the data will always improve until each point is in a cluster by itself. As such, classical optimization algorithms searching for a minimum or maximum score will not work. Often, the goal is to find an inflection point.\n",
    "\n",
    "If the cluster parameter is too low adding an additional cluster will have a large impact on the evaluation score. The gradient will be high at numbers of clusters less than the true value. If the cluster parameter is too high adding an additional cluster will have a small impact on the evaluation score. The gradient will be low at numbers of clusters higher than the true value.\n",
    "\n",
    "At the correct number of clusters the gradient should suddenly change, this is an inflection point."
   ]
  },
  {
   "cell_type": "code",
   "execution_count": 63,
   "metadata": {
    "collapsed": false
   },
   "outputs": [
    {
     "data": {
      "image/png": "[encoded data removed]",
      "text/plain": [
       "<matplotlib.figure.Figure at 0x124377160>"
      ]
     },
     "metadata": {},
     "output_type": "display_data"
    }
   ],
   "source": [
    "import matplotlib\n",
    "import matplotlib.pyplot as plt\n",
    "\n",
    "from skimage.data import camera\n",
    "from skimage.filters import threshold_otsu\n",
    "\n",
    "matplotlib.rcParams['font.size'] = 9\n",
    "\n",
    "image = camera()\n",
    "thresh = threshold_otsu(image)\n",
    "binary = image > thresh\n",
    "\n",
    "#fig, (ax1, ax2, ax3) = plt.subplots(1, 3, figsize=(8, 2.5))\n",
    "fig = plt.figure(figsize=(8, 2.5))\n",
    "ax1 = plt.subplot(1, 3, 1, adjustable='box-forced')\n",
    "ax2 = plt.subplot(1, 3, 2)\n",
    "ax3 = plt.subplot(1, 3, 3, sharex=ax1, sharey=ax1, adjustable='box-forced')\n",
    "\n",
    "ax1.imshow(image, cmap=plt.cm.gray)\n",
    "ax1.set_title('Original')\n",
    "ax1.axis('off')\n",
    "\n",
    "ax2.hist(image)\n",
    "ax2.set_title('Histogram')\n",
    "ax2.axvline(thresh, color='r')\n",
    "\n",
    "ax3.imshow(binary, cmap=plt.cm.gray)\n",
    "ax3.set_title('Thresholded')\n",
    "ax3.axis('off')\n",
    "\n",
    "plt.show()"
   ]
  },
  {
   "cell_type": "markdown",
   "metadata": {
    "collapsed": true
   },
   "source": [
    "### Different clustering algorithms\n",
    "\n",
    "![Cluster comparison](files/plot_cluster_comparison_001.png)\n",
    "[Cluster comparison](http://scikit-learn.org/stable/auto_examples/cluster/plot_cluster_comparison.html)\n",
    "\n",
    "\n",
    "The following algorithms are provided by [scikit-learn](http://scikit-learn.org/stable/modules/clustering.html)\n",
    "\n",
    "* K-means\n",
    "* Affinity propagation\n",
    "* Mean Shift\n",
    "* Spectral clustering\n",
    "* Ward\n",
    "* Agglomerative Clustering\n",
    "* DBSCAN\n",
    "* Birch\n",
    "\n",
    "\n",
    "**K-means** clustering divides samples between clusters by attempting to minimize the within-cluster sum of squares. It is an iterative algorithm repeatedly updating the position of the centroids (cluster centers), re-assigning samples to the best cluster and repeating until an optimal solution is reached. The clusters will depend on the starting position of the centroids so k-means is often run multiple times with random initialization and then the best solution chosen.\n",
    "\n",
    "[Affinity Propagation](http://science.sciencemag.org/content/315/5814/972) operates by passing messages between the samples updating a record of the exemplar samples. These are samples that best represent other samples. The algorithm functions on an affinity matrix that can be eaither user supplied or computed by the algorothm. Two matrices are maintained. One matrix records how well each sample represents other samples in the dataset. When the algorithm finishes the highest scoring samples are chosen to represent the clusters. The second matrix records which other samples best represent each sample so that the entire dataset can be assigned to a cluster when the algorithm terminates.\n",
    "\n",
    "[Mean Shift](http://citeseerx.ist.psu.edu/viewdoc/download?doi=10.1.1.76.8968&rep=rep1&type=pdf) iteratively updates candidate centroids to represent the clusters. The algorithm attempts to find areas of higher density.\n",
    "\n",
    "**Spectral clustering** operates on an affinity matrix that can be user supplied or computed by the model. The algorithm functions by minimizing the value of the links cut in a graph created from the affinity matrix. By focusing on the relationships between samples this algorithm performs well for non-convex clusters.\n",
    "\n",
    "**Agglomerative clustering** starts all the samples in their own cluster and then progressively joins clusters together minimizing some performance measure. In addition to minimizing the variance as seen with Ward other options are, 1) minimizing the average distance between samples in each cluster, and 2) minimizing the maximum distance between observations in each cluster.\n",
    "\n",
    "**Ward** is a type of agglomerative clustering using minimization of the within-cluster sum of squares to join clusters together until the specified number of clusters remain.\n",
    "\n",
    "**DBSCAN** is another algorithm that attempts to find regions of high density and then expands the clusters from there.\n",
    "\n",
    "[Birch](http://scikit-learn.org/stable/modules/clustering.html#birch) is a tree based clustering algorithm assigning samples to nodes on a tree"
   ]
  },
  {
   "cell_type": "code",
   "execution_count": 64,
   "metadata": {
    "collapsed": false
   },
   "outputs": [
    {
     "data": {
      "image/png": "[encoded data removed]",
      "text/plain": [
       "<matplotlib.figure.Figure at 0x12570d208>"
      ]
     },
     "metadata": {},
     "output_type": "display_data"
    },
    {
     "data": {
      "image/png": "[encoded data removed]",
      "text/plain": [
       "<matplotlib.figure.Figure at 0x125af8630>"
      ]
     },
     "metadata": {},
     "output_type": "display_data"
    }
   ],
   "source": [
    "from sklearn import cluster, datasets\n",
    "\n",
    "dataset, true_labels = datasets.make_blobs(n_samples=200, n_features=2, random_state=0,\n",
    "                                           centers=3, cluster_std=0.1)\n",
    "\n",
    "fig, ax = plt.subplots(1,1)\n",
    "ax.scatter(dataset[:,0], dataset[:,1], c=true_labels)\n",
    "plt.show()\n",
    "\n",
    "# Clustering algorithm can be used as a class\n",
    "means = cluster.KMeans(n_clusters=5)\n",
    "prediction = means.fit_predict(dataset)\n",
    "\n",
    "fig, ax = plt.subplots(1,1)\n",
    "ax.scatter(dataset[:,0], dataset[:,1], c=prediction)\n",
    "plt.show()"
   ]
  },
  {
   "cell_type": "code",
   "execution_count": null,
   "metadata": {
    "collapsed": true
   },
   "outputs": [],
   "source": []
  },
  {
   "cell_type": "code",
   "execution_count": 65,
   "metadata": {
    "collapsed": true
   },
   "outputs": [],
   "source": [
    "## Distances and similarities"
   ]
  },
  {
   "cell_type": "code",
   "execution_count": 66,
   "metadata": {
    "collapsed": false
   },
   "outputs": [
    {
     "name": "stdout",
     "output_type": "stream",
     "text": [
      "Euclidean\n",
      " [[ 0.          1.41421356]\n",
      " [ 1.41421356  0.        ]]\n",
      "\n",
      "Manhattan\n",
      " [[ 0.  2.]\n",
      " [ 2.  0.]]\n",
      "[[ 6.  0.  1.]\n",
      " [ 2.  1.  3.]]\n",
      "\n",
      "Euclidean\n",
      " [[ 0.          4.58257569]\n",
      " [ 4.58257569  0.        ]]\n",
      "\n",
      "Cosine\n",
      " [[ 0.          0.21663202]\n",
      " [ 0.21663202  0.        ]]\n",
      "Manhattan\n",
      " [[ 0.  7.]\n",
      " [ 7.  0.]]\n",
      "Correlation is invariant\n",
      " [[ 0.          0.84445725]\n",
      " [ 0.84445725  0.        ]]\n"
     ]
    },
    {
     "data": {
      "image/png": "[encoded data removed]",
      "text/plain": [
       "<matplotlib.figure.Figure at 0x125f47c18>"
      ]
     },
     "metadata": {},
     "output_type": "display_data"
    }
   ],
   "source": [
    "X = np.array([[1, 5], \n",
    "              [2, 4]])\n",
    "\n",
    "\n",
    "fig = plt.figure()\n",
    "ax = fig.add_subplot(111)\n",
    "ax.patch.set_facecolor('white')\n",
    "ax.scatter(X[...,0], X[...,1], c=(\"red\", \"green\"), s=120, edgecolors='none')\n",
    "ax.set_autoscale_on(False)\n",
    "ax.axis('square')\n",
    "\n",
    "D = pairwise_distances(X, metric = 'euclidean')\n",
    "print(\"Euclidean\\n\", D)\n",
    "print()\n",
    "\n",
    "\n",
    "D = pairwise_distances(X, metric = 'manhattan')\n",
    "print(\"Manhattan\\n\", D)\n",
    "\n",
    "\n",
    "X = np.array([[6, 0.0, 1.0], \n",
    "              [2, 1, 3.0]])\n",
    "\n",
    "print(X)\n",
    "print()\n",
    "\n",
    "D = pairwise_distances(X, metric = 'euclidean')\n",
    "print(\"Euclidean\\n\", D)\n",
    "print()\n",
    "\n",
    "D = pairwise_distances(X + 1, metric = 'cosine')\n",
    "print(\"Cosine\\n\", D)\n",
    "\n",
    "D = pairwise_distances(X, metric = 'manhattan')\n",
    "print(\"Manhattan\\n\", D)\n",
    "\n",
    "D = pairwise_distances(X + 10, metric = 'correlation')\n",
    "print(\"Correlation is invariant\\n\", D)"
   ]
  },
  {
   "cell_type": "markdown",
   "metadata": {},
   "source": [
    "Minkowsky distance:  $\\left(\\sum_{i=1}^n |x_i-y_i|^p\\right)^{1/p}$\n",
    "\n",
    "for Euclidean: p=2\n",
    "\n",
    "for Manhattan: p=1"
   ]
  },
  {
   "cell_type": "code",
   "execution_count": 67,
   "metadata": {
    "collapsed": true
   },
   "outputs": [],
   "source": [
    "## Binary data"
   ]
  },
  {
   "cell_type": "code",
   "execution_count": 68,
   "metadata": {
    "collapsed": false
   },
   "outputs": [
    {
     "name": "stdout",
     "output_type": "stream",
     "text": [
      "[[0 0 1 1 1 0 0]\n",
      " [0 1 1 1 0 0 0]]\n",
      "\n",
      "Jaccard\n",
      " [[ 0.   0.5]\n",
      " [ 0.5  0. ]]\n",
      "\n",
      "Hamming\n",
      " [[ 0.          0.28571429]\n",
      " [ 0.28571429  0.        ]]\n"
     ]
    },
    {
     "name": "stderr",
     "output_type": "stream",
     "text": [
      "/Users/agoncear/anaconda/envs/py35/lib/python3.5/site-packages/sklearn/utils/validation.py:429: DataConversionWarning: Data with input dtype int64 was converted to bool by check_pairwise_arrays.\n",
      "  warnings.warn(msg, _DataConversionWarning)\n"
     ]
    }
   ],
   "source": [
    "binary = np.array([[0, 0, 1, 1, 1, 0, 0], \n",
    "                   [0, 1, 1, 1, 0, 0, 0]])\n",
    "\n",
    "print(binary)\n",
    "\n",
    "D = pairwise_distances(binary, metric = 'jaccard')\n",
    "print(\"\\nJaccard\\n\", D)\n",
    "\n",
    "D = pairwise_distances(binary, metric = 'hamming')\n",
    "print(\"\\nHamming\\n\", D)"
   ]
  },
  {
   "cell_type": "markdown",
   "metadata": {},
   "source": []
  },
  {
   "cell_type": "code",
   "execution_count": 69,
   "metadata": {
    "collapsed": false
   },
   "outputs": [
    {
     "data": {
      "image/png": "[encoded data removed]",
      "text/plain": [
       "<matplotlib.figure.Figure at 0x125701be0>"
      ]
     },
     "metadata": {},
     "output_type": "display_data"
    }
   ],
   "source": [
    "X = np.array([[0, 0, 0, 0], [5, 5, 5, 5], [5, 4, -10, 20]])\n",
    "\n",
    "# Pairwise distances\n",
    "D = pairwise_distances(X, metric = 'euclidean')\n",
    "\n",
    "sns.heatmap(D, square=True)\n",
    "plt.show()"
   ]
  },
  {
   "cell_type": "markdown",
   "metadata": {
    "collapsed": true
   },
   "source": [
    "## Synthetic dataset"
   ]
  },
  {
   "cell_type": "code",
   "execution_count": 70,
   "metadata": {
    "collapsed": false,
    "scrolled": true
   },
   "outputs": [
    {
     "name": "stdout",
     "output_type": "stream",
     "text": [
      "[[ -0.63762777   4.09104705   1.15980096   1.28456616]\n",
      " [  9.48153019  -1.35453059   6.19086716   1.28447156]\n",
      " [ -2.69205385   3.81870875  -0.78259334   6.29921633]\n",
      " [  2.20656076   5.50616718   1.6679407    0.59536091]\n",
      " [  9.28375523  -0.54529913   5.96141285   0.97988776]\n",
      " [ -2.19936446   2.5583291   -2.06140206   6.10917741]\n",
      " [ -2.03770915   1.73725008  -1.276438     8.26379189]\n",
      " [ -0.07228289   2.88376939   0.34899733   2.84843906]\n",
      " [ -0.38750333   1.68305644  -0.84591413   7.15064992]\n",
      " [  8.1001318   -0.38754844   5.42088178  -0.16955642]\n",
      " [ -1.34947787   2.51610133  -2.87845412   8.29824227]\n",
      " [  8.57868735  -2.48080416   5.39934721   2.42716212]\n",
      " [ -2.43420238   2.96982766  -0.51916521   7.96444293]\n",
      " [ 11.15640591  -3.67892868   4.56401576   1.5472951 ]\n",
      " [ -0.03865182   4.81377144  -0.0694762    7.65553518]\n",
      " [  3.2460247    2.84942165   2.10102604   0.71047981]\n",
      " [ -2.59765663   3.97233399  -1.65143272   9.05790509]\n",
      " [  9.64968074  -3.43057041   6.13273894   1.90428429]\n",
      " [  8.41202952  -0.42110467   5.56649739   1.38035479]\n",
      " [ -2.39770116   2.3390326   -1.55980831   7.89162536]\n",
      " [ 10.22050718  -2.48617972   6.44858013   1.50010507]\n",
      " [  9.94554997  -1.92370779   5.06458469   1.11714759]\n",
      " [ -1.46038679   3.22035416  -1.88257787   7.47271885]\n",
      " [  1.7373078    4.42546234   2.49913075   1.23133799]\n",
      " [  2.50904929   5.7731461    2.21021495   1.27582618]\n",
      " [  0.4666179    3.86571303   0.80247216   1.67515402]\n",
      " [  0.08848433   2.32299086   1.70735537   1.05401263]\n",
      " [  2.47034915   4.09862906   2.36833522   0.04356792]\n",
      " [ 11.19619724  -0.85065483   7.70205972   1.48394305]\n",
      " [ -1.57671974   4.95740592   2.91970372   0.15549864]]\n"
     ]
    },
    {
     "data": {
      "image/png": "[encoded data removed]",
      "text/plain": [
       "<matplotlib.figure.Figure at 0x121194d30>"
      ]
     },
     "metadata": {},
     "output_type": "display_data"
    },
    {
     "data": {
      "image/png": "[encoded data removed]",
      "text/plain": [
       "<matplotlib.figure.Figure at 0x126530be0>"
      ]
     },
     "metadata": {},
     "output_type": "display_data"
    },
    {
     "data": {
      "image/png": "[encoded data removed]",
      "text/plain": [
       "<matplotlib.figure.Figure at 0x11ab08c88>"
      ]
     },
     "metadata": {},
     "output_type": "display_data"
    }
   ],
   "source": [
    "from sklearn.datasets import make_blobs\n",
    "\n",
    "X, y = make_blobs(n_samples=30, centers=3, n_features=4, random_state=0)\n",
    "print(X)\n",
    "sns.heatmap(X, robust=True, square=False, yticklabels=True, xticklabels=True, cbar=True)\n",
    "plt.show()\n",
    "\n",
    "D = pairwise_distances(X, metric='euclidean', n_jobs=-1)\n",
    "\n",
    "sns.heatmap(D, robust=True, square=True, yticklabels=True, xticklabels=True, cbar=True)\n",
    "plt.show()\n",
    "\n",
    "plt.hist(np.hstack(D), 20, facecolor='orange', alpha=0.75)\n",
    "plt.xlabel('Pairwise distances')\n",
    "plt.ylabel('Frequency')\n",
    "plt.grid(True)\n",
    "plt.show()"
   ]
  },
  {
   "cell_type": "code",
   "execution_count": 71,
   "metadata": {
    "collapsed": false
   },
   "outputs": [
    {
     "data": {
      "image/png": "[encoded data removed]",
      "text/plain": [
       "<matplotlib.figure.Figure at 0x1247c2d30>"
      ]
     },
     "metadata": {},
     "output_type": "display_data"
    }
   ],
   "source": [
    "# Clustering is often used as an accessory\n",
    "sns.clustermap(X)  # requires fastcluster package:  !pip install fastcluster\n",
    "plt.show()"
   ]
  },
  {
   "cell_type": "code",
   "execution_count": 73,
   "metadata": {
    "collapsed": false
   },
   "outputs": [
    {
     "name": "stdout",
     "output_type": "stream",
     "text": [
      "[0 2 1 0 2 1 1 0 1 2 1 2 1 2 1 0 1 2 2 1 2 2 1 0 0 0 0 0 2 0]\n",
      "[2 1 0 2 1 0 0 2 0 1 0 1 0 1 0 2 0 1 1 0 1 1 0 2 2 2 2 2 1 2]\n",
      "V measure 1.0\n",
      "Adj. Rand score 1.0\n"
     ]
    }
   ],
   "source": [
    "from sklearn.metrics.cluster import v_measure_score, adjusted_rand_score\n",
    "\n",
    "# Clustering 4D dataset\n",
    "\n",
    "kmeans = cluster.KMeans(n_clusters=3, random_state=0).fit(X)\n",
    "print(y)\n",
    "print(kmeans.labels_)\n",
    "print(\"V measure\", v_measure_score(y, kmeans.labels_))\n",
    "print(\"Adj. Rand score\", adjusted_rand_score(y, kmeans.labels_))\n"
   ]
  },
  {
   "cell_type": "code",
   "execution_count": null,
   "metadata": {
    "collapsed": true
   },
   "outputs": [],
   "source": []
  },
  {
   "cell_type": "code",
   "execution_count": null,
   "metadata": {
    "collapsed": true
   },
   "outputs": [],
   "source": []
  },
  {
   "cell_type": "code",
   "execution_count": 74,
   "metadata": {
    "collapsed": false
   },
   "outputs": [
    {
     "name": "stdout",
     "output_type": "stream",
     "text": [
      "{2: 0.64712364194048377,\n",
      " 3: 0.69141643243019646,\n",
      " 4: 0.59775805045292274,\n",
      " 5: 0.44083350869636689,\n",
      " 6: 0.43050627878760894,\n",
      " 7: 0.32641206582551507,\n",
      " 8: 0.25027388874853307,\n",
      " 9: 0.26871161863825316,\n",
      " 10: 0.27600766040295627}\n"
     ]
    },
    {
     "data": {
      "image/png": "[encoded data removed]",
      "text/plain": [
       "<matplotlib.figure.Figure at 0x11e559978>"
      ]
     },
     "metadata": {},
     "output_type": "display_data"
    }
   ],
   "source": [
    "from sklearn.metrics.cluster import silhouette_score\n",
    "import pprint\n",
    "\n",
    "def calc_silhouette(data, n):\n",
    "    \"\"\"Runs Kmeans clustering and returns average silhouette coefficient\"\"\"    \n",
    "    kmeans = cluster.KMeans(n_clusters=n).fit(data)\n",
    "    score = silhouette_score(data, kmeans.labels_, metric='l2')\n",
    "    return score\n",
    "\n",
    "scores = {n: calc_silhouette(X, n) for n in range(2, 11)}\n",
    "pprint.pprint(scores)\n",
    "plt.plot(list(scores.keys()), list(scores.values()))\n",
    "plt.xlabel('Number of clusters')\n",
    "plt.ylabel('Silhouette coefficient')\n",
    "plt.show()"
   ]
  },
  {
   "cell_type": "code",
   "execution_count": 75,
   "metadata": {
    "collapsed": false
   },
   "outputs": [
    {
     "data": {
      "image/png": "[encoded data removed]",
      "text/plain": [
       "<matplotlib.figure.Figure at 0x11e0f1828>"
      ]
     },
     "metadata": {},
     "output_type": "display_data"
    }
   ],
   "source": [
    "from sklearn.metrics.cluster import silhouette_samples\n",
    "\n",
    "n_clusters = 3\n",
    "\n",
    "# Compute the silhouette scores for each sample\n",
    "kmeans = cluster.KMeans(n_clusters=n_clusters).fit(X)\n",
    "lbls = kmeans.labels_\n",
    "values = silhouette_samples(X, lbls)\n",
    "\n",
    "g, ax = plt.subplots(figsize=(8, 6))\n",
    "color_scale = np.linspace(0, 1, n_clusters)\n",
    "y_lower = 1\n",
    "for i in range(n_clusters):\n",
    "    # Aggregate the silhouette scores for samples belonging to cluster i\n",
    "    v = sorted(values[lbls == i])\n",
    "    cluster_size = len(v)\n",
    "    y_upper = y_lower + cluster_size\n",
    "\n",
    "    # color mapping:\n",
    "    c = plt.cm.Set1(color_scale[i])\n",
    "    ax.fill_betweenx(np.arange(y_lower, y_upper), 0, v, facecolor=c, edgecolor=c, alpha=0.8)\n",
    "\n",
    "    # Label the silhouette plots with their cluster numbers at the middle\n",
    "    ax.text(-0.05, y_lower + 0.5 * cluster_size, str(i))\n",
    "    y_lower = y_upper + 1\n",
    "\n",
    "ax.set_xlabel(\"Silhouette coefficient\")\n",
    "ax.set_ylabel(\"Cluster label\")\n",
    "\n",
    "# Average silhouette score\n",
    "score = silhouette_score(X, lbls, metric='l2')\n",
    "ax.axvline(x=score, color=\"red\", linestyle=\"--\")\n",
    "ax.set_yticks([])\n",
    "plt.show()"
   ]
  },
  {
   "cell_type": "code",
   "execution_count": null,
   "metadata": {
    "collapsed": true
   },
   "outputs": [],
   "source": []
  },
  {
   "cell_type": "code",
   "execution_count": null,
   "metadata": {
    "collapsed": true
   },
   "outputs": [],
   "source": []
  },
  {
   "cell_type": "code",
   "execution_count": null,
   "metadata": {
    "collapsed": true
   },
   "outputs": [],
   "source": []
  },
  {
   "cell_type": "markdown",
   "metadata": {
    "collapsed": true
   },
   "source": [
    "\n",
    "## Example: Gene expression in Breast Cancer (BRCA)"
   ]
  },
  {
   "cell_type": "code",
   "execution_count": 76,
   "metadata": {
    "collapsed": true
   },
   "outputs": [],
   "source": [
    "from pathlib import Path\n",
    "\n",
    "ICGC_API = 'https://dcc.icgc.org/api/v1/download?fn=/release_18/Projects/BRCA-US/'\n",
    "\n",
    "# clinical_fname = 'clinical.BRCA-US.tsv.gz'\n",
    "# if not Path(clinical_fname).is_file():\n",
    "#     urllib.request.urlretrieve(ICGC_API + 'clinical.BRCA-US.tsv.gz', clinical_fname);\n",
    "\n",
    "expression_fname = 'protein_expression.BRCA-US.tsv.gz'\n",
    "if not Path(expression_fname).is_file():\n",
    "    urllib.request.urlretrieve(ICGC_API + 'protein_expression.BRCA-US.tsv.gz', expression_fname);"
   ]
  },
  {
   "cell_type": "code",
   "execution_count": 77,
   "metadata": {
    "collapsed": false
   },
   "outputs": [],
   "source": [
    "# C = np.genfromtxt(clinical_fname, delimiter='\\t', dtype='object', \n",
    "#                   skip_header=1, usecols=(0, 17, 19))\n",
    "# E = np.genfromtxt(expression_fname, delimiter='\\t', dtype=(\"|U10\", \"|U10\", \"|U10\", float), \n",
    "#                   skip_header=1, usecols=(0, 2, 7, 10))\n",
    "\n",
    "E = pd.read_csv(expression_fname, delimiter='\\t')"
   ]
  },
  {
   "cell_type": "code",
   "execution_count": 78,
   "metadata": {
    "collapsed": false
   },
   "outputs": [
    {
     "data": {
      "text/html": [
       "<div>\n",
       "<table border=\"1\" class=\"dataframe\">\n",
       "  <thead>\n",
       "    <tr style=\"text-align: right;\">\n",
       "      <th></th>\n",
       "      <th>icgc_donor_id</th>\n",
       "      <th>project_code</th>\n",
       "      <th>icgc_specimen_id</th>\n",
       "      <th>icgc_sample_id</th>\n",
       "      <th>submitted_sample_id</th>\n",
       "      <th>analysis_id</th>\n",
       "      <th>antibody_id</th>\n",
       "      <th>gene_name</th>\n",
       "      <th>gene_stable_id</th>\n",
       "      <th>gene_build_version</th>\n",
       "      <th>normalized_expression_level</th>\n",
       "      <th>verification_status</th>\n",
       "      <th>verification_platform</th>\n",
       "      <th>platform</th>\n",
       "      <th>experimental_protocol</th>\n",
       "      <th>raw_data_repository</th>\n",
       "      <th>raw_data_accession</th>\n",
       "    </tr>\n",
       "  </thead>\n",
       "  <tbody>\n",
       "    <tr>\n",
       "      <th>0</th>\n",
       "      <td>DO4143</td>\n",
       "      <td>BRCA-US</td>\n",
       "      <td>SP8807</td>\n",
       "      <td>SA11426</td>\n",
       "      <td>TCGA-A1-A0SK-01A-21-A13A-20</td>\n",
       "      <td>10694</td>\n",
       "      <td>PAI-1</td>\n",
       "      <td>SERPINE1</td>\n",
       "      <td>NaN</td>\n",
       "      <td>NaN</td>\n",
       "      <td>1.769954</td>\n",
       "      <td>not tested</td>\n",
       "      <td>NaN</td>\n",
       "      <td>M.D. Anderson Reverse Phase Protein Array Core</td>\n",
       "      <td>MDA_RPPA_Core http://tcga-data.nci.nih.gov/tcg...</td>\n",
       "      <td>TCGA</td>\n",
       "      <td>TCGA-A1-A0SK-01A-21-A13A-20</td>\n",
       "    </tr>\n",
       "    <tr>\n",
       "      <th>1</th>\n",
       "      <td>DO4143</td>\n",
       "      <td>BRCA-US</td>\n",
       "      <td>SP8807</td>\n",
       "      <td>SA11426</td>\n",
       "      <td>TCGA-A1-A0SK-01A-21-A13A-20</td>\n",
       "      <td>10694</td>\n",
       "      <td>ARID1A</td>\n",
       "      <td>ARID1A</td>\n",
       "      <td>NaN</td>\n",
       "      <td>NaN</td>\n",
       "      <td>0.619539</td>\n",
       "      <td>not tested</td>\n",
       "      <td>NaN</td>\n",
       "      <td>M.D. Anderson Reverse Phase Protein Array Core</td>\n",
       "      <td>MDA_RPPA_Core http://tcga-data.nci.nih.gov/tcg...</td>\n",
       "      <td>TCGA</td>\n",
       "      <td>TCGA-A1-A0SK-01A-21-A13A-20</td>\n",
       "    </tr>\n",
       "    <tr>\n",
       "      <th>2</th>\n",
       "      <td>DO4143</td>\n",
       "      <td>BRCA-US</td>\n",
       "      <td>SP8807</td>\n",
       "      <td>SA11426</td>\n",
       "      <td>TCGA-A1-A0SK-01A-21-A13A-20</td>\n",
       "      <td>10694</td>\n",
       "      <td>mTOR_pS2448</td>\n",
       "      <td>FRAP1</td>\n",
       "      <td>NaN</td>\n",
       "      <td>NaN</td>\n",
       "      <td>-0.538637</td>\n",
       "      <td>not tested</td>\n",
       "      <td>NaN</td>\n",
       "      <td>M.D. Anderson Reverse Phase Protein Array Core</td>\n",
       "      <td>MDA_RPPA_Core http://tcga-data.nci.nih.gov/tcg...</td>\n",
       "      <td>TCGA</td>\n",
       "      <td>TCGA-A1-A0SK-01A-21-A13A-20</td>\n",
       "    </tr>\n",
       "    <tr>\n",
       "      <th>3</th>\n",
       "      <td>DO4143</td>\n",
       "      <td>BRCA-US</td>\n",
       "      <td>SP8807</td>\n",
       "      <td>SA11426</td>\n",
       "      <td>TCGA-A1-A0SK-01A-21-A13A-20</td>\n",
       "      <td>10694</td>\n",
       "      <td>ASNS</td>\n",
       "      <td>ASNS</td>\n",
       "      <td>NaN</td>\n",
       "      <td>NaN</td>\n",
       "      <td>1.156044</td>\n",
       "      <td>not tested</td>\n",
       "      <td>NaN</td>\n",
       "      <td>M.D. Anderson Reverse Phase Protein Array Core</td>\n",
       "      <td>MDA_RPPA_Core http://tcga-data.nci.nih.gov/tcg...</td>\n",
       "      <td>TCGA</td>\n",
       "      <td>TCGA-A1-A0SK-01A-21-A13A-20</td>\n",
       "    </tr>\n",
       "    <tr>\n",
       "      <th>4</th>\n",
       "      <td>DO4143</td>\n",
       "      <td>BRCA-US</td>\n",
       "      <td>SP8807</td>\n",
       "      <td>SA11426</td>\n",
       "      <td>TCGA-A1-A0SK-01A-21-A13A-20</td>\n",
       "      <td>10694</td>\n",
       "      <td>EGFR</td>\n",
       "      <td>EGFR</td>\n",
       "      <td>NaN</td>\n",
       "      <td>NaN</td>\n",
       "      <td>0.120138</td>\n",
       "      <td>not tested</td>\n",
       "      <td>NaN</td>\n",
       "      <td>M.D. Anderson Reverse Phase Protein Array Core</td>\n",
       "      <td>MDA_RPPA_Core http://tcga-data.nci.nih.gov/tcg...</td>\n",
       "      <td>TCGA</td>\n",
       "      <td>TCGA-A1-A0SK-01A-21-A13A-20</td>\n",
       "    </tr>\n",
       "  </tbody>\n",
       "</table>\n",
       "</div>"
      ],
      "text/plain": [
       "  icgc_donor_id project_code icgc_specimen_id icgc_sample_id  \\\n",
       "0        DO4143      BRCA-US           SP8807        SA11426   \n",
       "1        DO4143      BRCA-US           SP8807        SA11426   \n",
       "2        DO4143      BRCA-US           SP8807        SA11426   \n",
       "3        DO4143      BRCA-US           SP8807        SA11426   \n",
       "4        DO4143      BRCA-US           SP8807        SA11426   \n",
       "\n",
       "           submitted_sample_id  analysis_id  antibody_id gene_name  \\\n",
       "0  TCGA-A1-A0SK-01A-21-A13A-20        10694        PAI-1  SERPINE1   \n",
       "1  TCGA-A1-A0SK-01A-21-A13A-20        10694       ARID1A    ARID1A   \n",
       "2  TCGA-A1-A0SK-01A-21-A13A-20        10694  mTOR_pS2448     FRAP1   \n",
       "3  TCGA-A1-A0SK-01A-21-A13A-20        10694         ASNS      ASNS   \n",
       "4  TCGA-A1-A0SK-01A-21-A13A-20        10694         EGFR      EGFR   \n",
       "\n",
       "   gene_stable_id  gene_build_version  normalized_expression_level  \\\n",
       "0             NaN                 NaN                     1.769954   \n",
       "1             NaN                 NaN                     0.619539   \n",
       "2             NaN                 NaN                    -0.538637   \n",
       "3             NaN                 NaN                     1.156044   \n",
       "4             NaN                 NaN                     0.120138   \n",
       "\n",
       "  verification_status  verification_platform  \\\n",
       "0          not tested                    NaN   \n",
       "1          not tested                    NaN   \n",
       "2          not tested                    NaN   \n",
       "3          not tested                    NaN   \n",
       "4          not tested                    NaN   \n",
       "\n",
       "                                         platform  \\\n",
       "0  M.D. Anderson Reverse Phase Protein Array Core   \n",
       "1  M.D. Anderson Reverse Phase Protein Array Core   \n",
       "2  M.D. Anderson Reverse Phase Protein Array Core   \n",
       "3  M.D. Anderson Reverse Phase Protein Array Core   \n",
       "4  M.D. Anderson Reverse Phase Protein Array Core   \n",
       "\n",
       "                               experimental_protocol raw_data_repository  \\\n",
       "0  MDA_RPPA_Core http://tcga-data.nci.nih.gov/tcg...                TCGA   \n",
       "1  MDA_RPPA_Core http://tcga-data.nci.nih.gov/tcg...                TCGA   \n",
       "2  MDA_RPPA_Core http://tcga-data.nci.nih.gov/tcg...                TCGA   \n",
       "3  MDA_RPPA_Core http://tcga-data.nci.nih.gov/tcg...                TCGA   \n",
       "4  MDA_RPPA_Core http://tcga-data.nci.nih.gov/tcg...                TCGA   \n",
       "\n",
       "            raw_data_accession  \n",
       "0  TCGA-A1-A0SK-01A-21-A13A-20  \n",
       "1  TCGA-A1-A0SK-01A-21-A13A-20  \n",
       "2  TCGA-A1-A0SK-01A-21-A13A-20  \n",
       "3  TCGA-A1-A0SK-01A-21-A13A-20  \n",
       "4  TCGA-A1-A0SK-01A-21-A13A-20  "
      ]
     },
     "execution_count": 78,
     "metadata": {},
     "output_type": "execute_result"
    }
   ],
   "source": [
    "E.head()"
   ]
  },
  {
   "cell_type": "code",
   "execution_count": 79,
   "metadata": {
    "collapsed": false
   },
   "outputs": [
    {
     "name": "stdout",
     "output_type": "stream",
     "text": [
      "298\n",
      "115\n"
     ]
    }
   ],
   "source": [
    "donors = set(E['icgc_donor_id'])\n",
    "genes = set(E['gene_name'])\n",
    "print(len(donors))\n",
    "print(len(genes))"
   ]
  },
  {
   "cell_type": "code",
   "execution_count": null,
   "metadata": {
    "collapsed": false
   },
   "outputs": [],
   "source": [
    "donor2id = {donor: i for i, donor in enumerate(donors)}\n",
    "id2donor = dict(zip(donor2id.values(), donor2id.keys()))\n",
    "\n",
    "gene2id = {gene: i for i, gene in enumerate(genes)}\n",
    "id2gene = dict(zip(gene2id.values(), gene2id.keys()))\n",
    "\n",
    "data = np.zeros((len(donors), len(genes)))\n",
    "for i in range(len(E)):\n",
    "    data[donor2id[E.loc[i, 'icgc_donor_id']], gene2id[E.loc[i, 'gene_name']]] = float(E.loc[i, 'normalized_expression_level'])"
   ]
  },
  {
   "cell_type": "code",
   "execution_count": null,
   "metadata": {
    "collapsed": false
   },
   "outputs": [],
   "source": [
    "# normalize data\n",
    "# data = preprocessing.Normalizer().fit_transform(data)\n",
    "data = preprocessing.MinMaxScaler().fit_transform(data)"
   ]
  },
  {
   "cell_type": "code",
   "execution_count": null,
   "metadata": {
    "collapsed": false
   },
   "outputs": [],
   "source": [
    "print(data)\n",
    "sns.heatmap(data, robust=True, square=False, yticklabels=False, xticklabels=False, cbar=True)\n",
    "plt.show()"
   ]
  },
  {
   "cell_type": "markdown",
   "metadata": {},
   "source": []
  },
  {
   "cell_type": "code",
   "execution_count": null,
   "metadata": {
    "collapsed": false
   },
   "outputs": [],
   "source": [
    "sns.clustermap(data, xticklabels=True, yticklabels=False)\n",
    "plt.show()"
   ]
  },
  {
   "cell_type": "code",
   "execution_count": null,
   "metadata": {
    "collapsed": false
   },
   "outputs": [],
   "source": []
  },
  {
   "cell_type": "markdown",
   "metadata": {},
   "source": [
    "## Plot dendrogram and a heatmap"
   ]
  },
  {
   "cell_type": "code",
   "execution_count": null,
   "metadata": {
    "collapsed": false
   },
   "outputs": [],
   "source": [
    "def clean_axis(ax):\n",
    "    ax.get_xaxis().set_ticks([])\n",
    "    ax.get_yaxis().set_ticks([])\n",
    "    for sp in ax.spines.values():\n",
    "        sp.set_visible(False)\n",
    "\n",
    "# Figure is a grid with two parts  1 : 4\n",
    "fig = plt.figure(figsize=(14, 10))\n",
    "grid = gridspec.GridSpec(1, 2, wspace=.01, hspace=0., width_ratios=[0.25, 1])\n",
    "\n",
    "Y = scipy.cluster.hierarchy.linkage(data, method='ward', metric='euclidean')\n",
    "# also look up:\n",
    "# method = [ average (UPGMA), complete, single, ward ]\n",
    "# and metric\n",
    "\n",
    "# Dendrogram\n",
    "ax = fig.add_subplot(grid[0,0])\n",
    "denD = scipy.cluster.hierarchy.dendrogram(Y, orientation='left', link_color_func=lambda k: 'black')\n",
    "clean_axis(ax)\n",
    "\n",
    "# Heatmap\n",
    "ax = fig.add_subplot(grid[0,1])\n",
    "D = pairwise_distances(data, metric = 'euclidean')\n",
    "D = D[denD['leaves'], :][:, denD['leaves']]\n",
    "axi = ax.imshow(D, interpolation='nearest', aspect='equal', origin='lower', cmap='RdBu') \n",
    "clean_axis(ax)\n",
    "\n",
    "# Legend for heatmap\n",
    "cb = fig.colorbar(axi, fraction=0.046, pad=0.04, aspect=10) \n",
    "cb.set_label('Distance', fontsize=20)\n"
   ]
  },
  {
   "cell_type": "code",
   "execution_count": null,
   "metadata": {
    "collapsed": false
   },
   "outputs": [],
   "source": []
  },
  {
   "cell_type": "code",
   "execution_count": null,
   "metadata": {
    "collapsed": false
   },
   "outputs": [],
   "source": []
  },
  {
   "cell_type": "markdown",
   "metadata": {},
   "source": []
  },
  {
   "cell_type": "code",
   "execution_count": null,
   "metadata": {
    "collapsed": false
   },
   "outputs": [],
   "source": []
  },
  {
   "cell_type": "code",
   "execution_count": null,
   "metadata": {
    "collapsed": true
   },
   "outputs": [],
   "source": []
  },
  {
   "cell_type": "markdown",
   "metadata": {},
   "source": [
    "## Exercises\n",
    " * In breast cancer example change clustering methods from Kmeans to DBSCAN and AgglomerativeClustering\n",
    " * In breast cancer example experiment with different combinations of linkage and metric in AgglomerativeClustering\n",
    " "
   ]
  },
  {
   "cell_type": "code",
   "execution_count": null,
   "metadata": {
    "collapsed": true
   },
   "outputs": [],
   "source": []
  }
 ],
 "metadata": {
  "kernelspec": {
   "display_name": "Python [py35]",
   "language": "python",
   "name": "Python [py35]"
  },
  "language_info": {
   "codemirror_mode": {
    "name": "ipython",
    "version": 3
   },
   "file_extension": ".py",
   "mimetype": "text/x-python",
   "name": "python",
   "nbconvert_exporter": "python",
   "pygments_lexer": "ipython3",
   "version": "3.5.2"
  }
 },
 "nbformat": 4,
 "nbformat_minor": 0
}
