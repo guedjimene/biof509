{
 "cells": [
  {
   "cell_type": "markdown",
   "metadata": {},
   "source": [
    "# Week 11 - Regression and Classification\n",
    "\n",
    "In previous weeks we have looked at the steps needed in preparing different types of data for use by machine learning algorithms. "
   ]
  },
  {
   "cell_type": "code",
   "execution_count": 8,
   "metadata": {
    "collapsed": true
   },
   "outputs": [],
   "source": [
    "import matplotlib.pyplot as plt\n",
    "import numpy as np\n",
    "\n",
    "%matplotlib inline"
   ]
  },
  {
   "cell_type": "code",
   "execution_count": null,
   "metadata": {
    "collapsed": true
   },
   "outputs": [],
   "source": []
  },
  {
   "cell_type": "code",
   "execution_count": 13,
   "metadata": {
    "collapsed": false
   },
   "outputs": [
    {
     "name": "stdout",
     "output_type": "stream",
     "text": [
      "(442, 10) (442,)\n"
     ]
    },
    {
     "data": {
      "image/png": "[encoded data removed]",
      "text/plain": [
       "<matplotlib.figure.Figure at 0x161202071d0>"
      ]
     },
     "metadata": {},
     "output_type": "display_data"
    }
   ],
   "source": [
    "from sklearn import datasets\n",
    "\n",
    "diabetes = datasets.load_diabetes()\n",
    "\n",
    "# Description at http://www4.stat.ncsu.edu/~boos/var.select/diabetes.html\n",
    "\n",
    "X = diabetes.data\n",
    "y = diabetes.target\n",
    "\n",
    "print(X.shape, y.shape)\n",
    "\n",
    "from sklearn import linear_model\n",
    "\n",
    "clf = linear_model.LinearRegression()\n",
    "clf.fit(X, y)\n",
    "\n",
    "plt.plot(y, clf.predict(X), 'k.')\n",
    "plt.show()"
   ]
  },
  {
   "cell_type": "markdown",
   "metadata": {},
   "source": [
    "All the different models in scikit-learn follow a consistent structure. \n",
    "\n",
    "* The class is passed any parameters needed at initialization. In this case none are needed.\n",
    "* The fit method takes the features and the target as the parameters X and y.\n",
    "* The predict method takes an array of features and returns the predicted values\n",
    "\n",
    "These are the basic components with additional methods added when needed. For example, classifiers also have \n",
    "\n",
    "* A predict_proba method that gives the probability that a sample belongs to each of the classes.\n",
    "* A predict_log_proba method that gives the log of the probability that a sample belongs to each of the classes.\n",
    "\n",
    "## Evaluating models\n",
    "\n",
    "Before we consider whether we have a good model, or which model to choose, we must first decide on how we will evaluate our models.\n",
    "\n",
    "### Metrics\n",
    "\n",
    "As part of our evaluation having a single number with which to compare models can be very useful. Choosing a metric that is as close a representation of our goal as possible enables many models to be automatically compared. This can be important when choosing model parameters or comparing different types of algorithm. \n",
    "\n",
    "Even if we have a metric we feel is reasonable it can be worthwhile considering in detail the predictions made by any model. Some questions to ask:\n",
    "\n",
    "* Is the model sufficiently sensitive for our use case?\n",
    "* Is the model sufficiently specific for our use case?\n",
    "* Is there any systemic bias?\n",
    "* Does the model perform equally well over the distribution of features?\n",
    "* How does the model perform outside the range of the training data?\n",
    "* Is the model overly dependent on one or two samples in the training dataset?\n",
    "\n",
    "The metric we decide to use will depend on the type of problem we have (regression or classification) and what aspects of the prediction are most important to us. For example, a decision we might have to make is between:\n",
    "\n",
    "* A model with intermediate errors for all samples\n",
    "* A model with low errors for the majority of samples but with a small number of samples that have large errors.\n",
    "\n",
    "For these two situations in a regression task we might choose mean_squared_error and mean_absolute_error.\n",
    "\n",
    "There are lists for [regression metrics](http://scikit-learn.org/stable/modules/model_evaluation.html#regression-metrics) and [classification metrics](http://scikit-learn.org/stable/modules/model_evaluation.html#classification-metrics).\n",
    "\n",
    "We can apply the mean_squared_error metric to the linear regression model on the diabetes dataset:"
   ]
  },
  {
   "cell_type": "code",
   "execution_count": 16,
   "metadata": {
    "collapsed": false
   },
   "outputs": [
    {
     "data": {
      "image/png": "[encoded data removed]",
      "text/plain": [
       "<matplotlib.figure.Figure at 0x1611ff52a58>"
      ]
     },
     "metadata": {},
     "output_type": "display_data"
    },
    {
     "data": {
      "text/plain": [
       "2859.6903987680657"
      ]
     },
     "execution_count": 16,
     "metadata": {},
     "output_type": "execute_result"
    }
   ],
   "source": [
    "diabetes = datasets.load_diabetes()\n",
    "X = diabetes.data\n",
    "y = diabetes.target\n",
    "\n",
    "clf = linear_model.LinearRegression()\n",
    "clf.fit(X, y)\n",
    "\n",
    "plt.plot(y, clf.predict(X), 'k.')\n",
    "plt.show()\n",
    "\n",
    "from sklearn import metrics\n",
    "\n",
    "metrics.mean_squared_error(y, clf.predict(X))"
   ]
  },
  {
   "cell_type": "markdown",
   "metadata": {},
   "source": [
    "Although this single number might seem unimpressive, metrics are a key component for model evaluation. As a simple example, we can perform a permutation test to determine whether we might see this performance by chance."
   ]
  },
  {
   "cell_type": "code",
   "execution_count": 35,
   "metadata": {
    "collapsed": false
   },
   "outputs": [
    {
     "name": "stdout",
     "output_type": "stream",
     "text": [
      "Probability of observing a mean_squared_error of 2859.6903987680657 by chance is <0.001\n"
     ]
    }
   ],
   "source": [
    "diabetes = datasets.load_diabetes()\n",
    "X = diabetes.data\n",
    "y = diabetes.target\n",
    "\n",
    "clf = linear_model.LinearRegression()\n",
    "clf.fit(X, y)\n",
    "\n",
    "error = metrics.mean_squared_error(y, clf.predict(X))\n",
    "\n",
    "rounds = 1000\n",
    "np.random.seed(0)\n",
    "errors = []\n",
    "\n",
    "for i in range(rounds):\n",
    "    y_shuffle = y.copy()\n",
    "    np.random.shuffle(y_shuffle)\n",
    "    clf_shuffle = linear_model.LinearRegression()\n",
    "    clf_shuffle.fit(X, y_shuffle)\n",
    "    errors.append(metrics.mean_squared_error(y_shuffle, clf_shuffle.predict(X)))\n",
    "\n",
    "better_models_by_chance = len([i for i in errors if i <= error])\n",
    "\n",
    "if better_models_by_chance > 0:\n",
    "    print('Probability of observing a mean_squared_error of {0} by chance is {1}'.format(error, \n",
    "                                                                                    better_models_by_chance / rounds))\n",
    "else:\n",
    "    print('Probability of observing a mean_squared_error of {0} by chance is <{1}'.format(error, \n",
    "                                                                                    1 / rounds))"
   ]
  },
  {
   "cell_type": "markdown",
   "metadata": {},
   "source": [
    "### Training, validation, and test datasets\n",
    "\n",
    "When evaluating different models the approach taken above is not going to work. Particularly for models with high variance, that overfit the training data, we will get very good performance on the training data but perform no better than chance on new data."
   ]
  },
  {
   "cell_type": "code",
   "execution_count": 19,
   "metadata": {
    "collapsed": false
   },
   "outputs": [
    {
     "data": {
      "image/png": "[encoded data removed]",
      "text/plain": [
       "<matplotlib.figure.Figure at 0x161202278d0>"
      ]
     },
     "metadata": {},
     "output_type": "display_data"
    },
    {
     "data": {
      "text/plain": [
       "0.0"
      ]
     },
     "execution_count": 19,
     "metadata": {},
     "output_type": "execute_result"
    }
   ],
   "source": [
    "from sklearn import tree\n",
    "\n",
    "diabetes = datasets.load_diabetes()\n",
    "X = diabetes.data\n",
    "y = diabetes.target\n",
    "\n",
    "clf = tree.DecisionTreeRegressor()\n",
    "clf.fit(X, y)\n",
    "\n",
    "plt.plot(y, clf.predict(X), 'k.')\n",
    "plt.show()\n",
    "\n",
    "\n",
    "metrics.mean_squared_error(y, clf.predict(X))"
   ]
  },
  {
   "cell_type": "code",
   "execution_count": 36,
   "metadata": {
    "collapsed": false
   },
   "outputs": [
    {
     "data": {
      "image/png": "[encoded data removed]",
      "text/plain": [
       "<matplotlib.figure.Figure at 0x161200d0198>"
      ]
     },
     "metadata": {},
     "output_type": "display_data"
    },
    {
     "data": {
      "text/plain": [
       "0.0"
      ]
     },
     "execution_count": 36,
     "metadata": {},
     "output_type": "execute_result"
    }
   ],
   "source": [
    "from sklearn import neighbors\n",
    "\n",
    "diabetes = datasets.load_diabetes()\n",
    "X = diabetes.data\n",
    "y = diabetes.target\n",
    "\n",
    "clf = neighbors.KNeighborsRegressor(n_neighbors=1)\n",
    "clf.fit(X, y)\n",
    "\n",
    "plt.plot(y, clf.predict(X), 'k.')\n",
    "plt.show()\n",
    "\n",
    "\n",
    "metrics.mean_squared_error(y, clf.predict(X))"
   ]
  },
  {
   "cell_type": "markdown",
   "metadata": {},
   "source": [
    "Both these models appear to give perfect solutions but all they do is map our test samples back to the training samples and return the associated value.\n",
    "\n",
    "To understand how our model truly performs we need to evaluate the performance on previously unseen samples. The general approach is to divide a dataset into training, validation and test datasets. Each model is trained on the training dataset. Multiple models can then be compared by evaluating the model against the validation dataset. There is still the potential of choosing a model that performs well on the validation dataset by chance so a final check is made against a test dataset.\n",
    "\n",
    "This unfortunately means that part of our, often expensively gathered, data can't be used to train our model. Although it is important to leave out a test dataset an alternative approach can be used for the validation dataset. Rather than just building one model we can build multiple models, each time leaving out a different validation dataset. Our validation score is then the average across each of the models. This is known as cross-validation.\n",
    "\n",
    "Scikit-learn provides classes to support cross-validation but a simple solution can also be implemented directly. Below we will separate out a test dataset to evaluate the nearest neighbor model."
   ]
  },
  {
   "cell_type": "code",
   "execution_count": 29,
   "metadata": {
    "collapsed": false
   },
   "outputs": [
    {
     "name": "stdout",
     "output_type": "stream",
     "text": [
      "(298, 10) (144, 10)\n"
     ]
    },
    {
     "data": {
      "image/png": "[encoded data removed]",
      "text/plain": [
       "<matplotlib.figure.Figure at 0x16121a6e470>"
      ]
     },
     "metadata": {},
     "output_type": "display_data"
    },
    {
     "data": {
      "text/plain": [
       "5176.9236111111113"
      ]
     },
     "execution_count": 29,
     "metadata": {},
     "output_type": "execute_result"
    }
   ],
   "source": [
    "from sklearn import neighbors\n",
    "\n",
    "diabetes = datasets.load_diabetes()\n",
    "X = diabetes.data\n",
    "y = diabetes.target\n",
    "\n",
    "np.random.seed(0)\n",
    "\n",
    "split = np.random.random(y.shape) > 0.3\n",
    "\n",
    "X_train = X[split]\n",
    "y_train = y[split]\n",
    "X_test = X[np.logical_not(split)]\n",
    "y_test = y[np.logical_not(split)]\n",
    "\n",
    "print(X_train.shape, X_test.shape)\n",
    "\n",
    "clf = neighbors.KNeighborsRegressor(1)\n",
    "clf.fit(X_train, y_train)\n",
    "\n",
    "plt.plot(y_test, clf.predict(X_test), 'k.')\n",
    "plt.show()\n",
    "\n",
    "\n",
    "metrics.mean_squared_error(y_test, clf.predict(X_test))"
   ]
  },
  {
   "cell_type": "code",
   "execution_count": 30,
   "metadata": {
    "collapsed": false
   },
   "outputs": [
    {
     "name": "stdout",
     "output_type": "stream",
     "text": [
      "(298, 10) (144, 10)\n"
     ]
    },
    {
     "data": {
      "image/png": "[encoded data removed]",
      "text/plain": [
       "<matplotlib.figure.Figure at 0x16121a9a780>"
      ]
     },
     "metadata": {},
     "output_type": "display_data"
    },
    {
     "data": {
      "text/plain": [
       "2859.9079113220382"
      ]
     },
     "execution_count": 30,
     "metadata": {},
     "output_type": "execute_result"
    }
   ],
   "source": [
    "diabetes = datasets.load_diabetes()\n",
    "X = diabetes.data\n",
    "y = diabetes.target\n",
    "\n",
    "np.random.seed(0)\n",
    "\n",
    "split = np.random.random(y.shape) > 0.3\n",
    "\n",
    "X_train = X[split]\n",
    "y_train = y[split]\n",
    "X_test = X[np.logical_not(split)]\n",
    "y_test = y[np.logical_not(split)]\n",
    "\n",
    "print(X_train.shape, X_test.shape)\n",
    "\n",
    "clf = linear_model.LinearRegression()\n",
    "clf.fit(X_train, y_train)\n",
    "\n",
    "plt.plot(y_test, clf.predict(X_test), 'k.')\n",
    "plt.show()\n",
    "\n",
    "\n",
    "metrics.mean_squared_error(y_test, clf.predict(X_test))"
   ]
  },
  {
   "cell_type": "markdown",
   "metadata": {
    "collapsed": true
   },
   "source": [
    "## Model types\n",
    "\n",
    "Scikit-learn includes a variety of [different models](http://scikit-learn.org/stable/supervised_learning.html). The most commonly used algorithms probably include the following:\n",
    "\n",
    "* Regression\n",
    "* Support Vector Machines\n",
    "* Nearest neighbors\n",
    "* Decision trees\n",
    "* Ensembles & boosting\n",
    "\n",
    "### Regression\n",
    "\n",
    "We have already seen several examples of regression. The basic form is: \n",
    "\n",
    "$$f(X) =  \\beta_{0}  +  \\sum_{j=1}^p X_j\\beta_j$$\n",
    "\n",
    "Each feature is multipled by a coefficient and then the sum returned. This value is then transformed for classification to limit the value to the range 0 to 1.\n",
    "\n",
    "\n",
    "### Support Vector Machines\n",
    "\n",
    "Support vector machines attempt to project samples into a higher dimensional space such that they can be divided by a hyperplane. A good explanation can be found in [this article](http://noble.gs.washington.edu/papers/noble_what.html).\n",
    "\n",
    "### Nearest neighbors\n",
    "\n",
    "Nearest neighbor methods identify a number of samples from the training set that are close to the new sample and then return the average or most common value depending on the task. \n",
    "\n",
    "### Decision trees\n",
    "\n",
    "Decision trees attempt to predict the value of a new sample by learning simple rules from the training samples.\n",
    "\n",
    "### Ensembles & boosting\n",
    "\n",
    "Ensembles are combinations of other models. Combining different models together can improve performance by boosting generalizability. An average or most common value from the models is returned.\n",
    "\n",
    "Boosting builds one model and then attempts to reduce the errors with the next model. At each stage the bias in the model is reduced. In this way many weak predictors can be combined into one much more powerful predictor.\n",
    "\n",
    "I often begin with an ensemble or boosting approach as they typically give very good performance without needing to be carefully optimized. Many of the other algorithms are sensitive to their parameters."
   ]
  },
  {
   "cell_type": "markdown",
   "metadata": {},
   "source": [
    "## Parameter selection\n",
    "\n",
    "Many of the models require several different parameters to be specified. Their performance is typically heavily influenced by these parameters and choosing the best values is vital in developing the best model.\n",
    "\n",
    "Some models have alternative implementations that handle parameter selection in an efficient way."
   ]
  },
  {
   "cell_type": "code",
   "execution_count": 31,
   "metadata": {
    "collapsed": false
   },
   "outputs": [
    {
     "name": "stdout",
     "output_type": "stream",
     "text": [
      "(442, 10) (442,)\n",
      "Alpha chosen was  0.0532086795258\n"
     ]
    },
    {
     "data": {
      "text/plain": [
       "[<matplotlib.lines.Line2D at 0x161202a7ef0>]"
      ]
     },
     "execution_count": 31,
     "metadata": {},
     "output_type": "execute_result"
    },
    {
     "data": {
      "image/png": "[encoded data removed]",
      "text/plain": [
       "<matplotlib.figure.Figure at 0x16121a6ff98>"
      ]
     },
     "metadata": {},
     "output_type": "display_data"
    }
   ],
   "source": [
    "from sklearn import datasets\n",
    "\n",
    "diabetes = datasets.load_diabetes()\n",
    "\n",
    "# Description at http://www4.stat.ncsu.edu/~boos/var.select/diabetes.html\n",
    "\n",
    "X = diabetes.data\n",
    "y = diabetes.target\n",
    "\n",
    "print(X.shape, y.shape)\n",
    "\n",
    "from sklearn import linear_model\n",
    "\n",
    "clf = linear_model.LassoCV(cv=20)\n",
    "clf.fit(X, y)\n",
    "\n",
    "print('Alpha chosen was ', clf.alpha_)\n",
    "\n",
    "plt.plot(y, clf.predict(X), 'k.')"
   ]
  },
  {
   "cell_type": "markdown",
   "metadata": {},
   "source": [
    "There is an expanded example in [the documentation](http://scikit-learn.org/stable/auto_examples/linear_model/plot_lasso_model_selection.html#example-linear-model-plot-lasso-model-selection-py).\n",
    "\n",
    "There are also general classes to handle parameter selection for situations when dedicated classes are not available. As we will often have parameters in preprocessing steps these general classes will be used much more often."
   ]
  },
  {
   "cell_type": "code",
   "execution_count": 34,
   "metadata": {
    "collapsed": false
   },
   "outputs": [
    {
     "name": "stdout",
     "output_type": "stream",
     "text": [
      "(298, 10) (144, 10)\n"
     ]
    },
    {
     "data": {
      "image/png": "[encoded data removed]",
      "text/plain": [
       "<matplotlib.figure.Figure at 0x16121a74470>"
      ]
     },
     "metadata": {},
     "output_type": "display_data"
    },
    {
     "name": "stdout",
     "output_type": "stream",
     "text": [
      "3140.59190538\n"
     ]
    },
    {
     "data": {
      "text/plain": [
       "{'cv': None,\n",
       " 'error_score': 'raise',\n",
       " 'estimator': KNeighborsRegressor(algorithm='auto', leaf_size=30, metric='minkowski',\n",
       "           metric_params=None, n_jobs=1, n_neighbors=5, p=2,\n",
       "           weights='uniform'),\n",
       " 'estimator__algorithm': 'auto',\n",
       " 'estimator__leaf_size': 30,\n",
       " 'estimator__metric': 'minkowski',\n",
       " 'estimator__metric_params': None,\n",
       " 'estimator__n_jobs': 1,\n",
       " 'estimator__n_neighbors': 5,\n",
       " 'estimator__p': 2,\n",
       " 'estimator__weights': 'uniform',\n",
       " 'fit_params': {},\n",
       " 'iid': True,\n",
       " 'n_jobs': 1,\n",
       " 'param_grid': {'n_neighbors': [1, 2, 3, 4, 5, 6, 7, 8, 9, 10]},\n",
       " 'pre_dispatch': '2*n_jobs',\n",
       " 'refit': True,\n",
       " 'scoring': None,\n",
       " 'verbose': 0}"
      ]
     },
     "execution_count": 34,
     "metadata": {},
     "output_type": "execute_result"
    }
   ],
   "source": [
    "from sklearn import grid_search\n",
    "\n",
    "from sklearn import neighbors\n",
    "\n",
    "diabetes = datasets.load_diabetes()\n",
    "X = diabetes.data\n",
    "y = diabetes.target\n",
    "\n",
    "np.random.seed(0)\n",
    "\n",
    "split = np.random.random(y.shape) > 0.3\n",
    "\n",
    "X_train = X[split]\n",
    "y_train = y[split]\n",
    "X_test = X[np.logical_not(split)]\n",
    "y_test = y[np.logical_not(split)]\n",
    "\n",
    "print(X_train.shape, X_test.shape)\n",
    "\n",
    "knn = neighbors.KNeighborsRegressor()\n",
    "\n",
    "parameters = {'n_neighbors':[1,2,3,4,5,6,7,8,9,10]}\n",
    "clf = grid_search.GridSearchCV(knn, parameters)\n",
    "\n",
    "clf.fit(X_train, y_train)\n",
    "\n",
    "plt.plot(y_test, clf.predict(X_test), 'k.')\n",
    "plt.show()\n",
    "\n",
    "\n",
    "print(metrics.mean_squared_error(y_test, clf.predict(X_test)))\n",
    "\n",
    "clf.get_params()"
   ]
  },
  {
   "cell_type": "markdown",
   "metadata": {},
   "source": [
    "## Exercises\n",
    "\n",
    "1. Load the handwritten digits dataset and choose an appropriate metric\n",
    "2. Divide the data into a training and test dataset\n",
    "4. Build a RandomForestClassifier on the training dataset, using cross-validation to evaluate performance\n",
    "5. Choose another classification algorithm and apply it to the digits dataset. \n",
    "6. Use grid search to find the optimal parameters for the chosen algorithm.\n",
    "7. Comparing the true values with the predictions from the best model identify the numbers that are most commonly confused."
   ]
  },
  {
   "cell_type": "code",
   "execution_count": null,
   "metadata": {
    "collapsed": true
   },
   "outputs": [],
   "source": []
  }
 ],
 "metadata": {
  "kernelspec": {
   "display_name": "Python 3",
   "language": "python",
   "name": "python3"
  },
  "language_info": {
   "codemirror_mode": {
    "name": "ipython",
    "version": 3
   },
   "file_extension": ".py",
   "mimetype": "text/x-python",
   "name": "python",
   "nbconvert_exporter": "python",
   "pygments_lexer": "ipython3",
   "version": "3.5.1"
  }
 },
 "nbformat": 4,
 "nbformat_minor": 0
}
